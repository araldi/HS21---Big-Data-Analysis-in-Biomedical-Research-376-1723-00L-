{
  "nbformat": 4,
  "nbformat_minor": 0,
  "metadata": {
    "colab": {
      "name": "Intro_to_pandas.ipynb",
      "provenance": [],
      "include_colab_link": true
    },
    "kernelspec": {
      "name": "python3",
      "display_name": "Python 3"
    },
    "language_info": {
      "name": "python"
    }
  },
  "cells": [
    {
      "cell_type": "markdown",
      "metadata": {
        "id": "view-in-github",
        "colab_type": "text"
      },
      "source": [
        "<a href=\"https://colab.research.google.com/github/araldi/HS21---Big-Data-Analysis-in-Biomedical-Research-376-1723-00L-/blob/main/Intro_to_pandas.ipynb\" target=\"_parent\"><img src=\"https://colab.research.google.com/assets/colab-badge.svg\" alt=\"Open In Colab\"/></a>"
      ]
    },
    {
      "cell_type": "markdown",
      "metadata": {
        "id": "46iJ7wTdph0Z"
      },
      "source": [
        "# Intro\n",
        "\n",
        "As you have seen, Python is a very powerful and dynamic programming language with several built-in functions. \n",
        "\n",
        "Sometimes, however, importing libraries is essential to perform certain operations without excessive coding from scratch.\n",
        "\n",
        "Usually, at the beginning of the code or in the first cell of the notebook, you want to import all the libraries that you need. \n",
        "\n"
      ]
    },
    {
      "cell_type": "code",
      "metadata": {
        "id": "agSVuezupmR7"
      },
      "source": [
        "# In this example, we will be importing the following libraries :\n",
        "# pandas, \n",
        "# numpy, \n",
        "\n",
        "# let's import them!\n",
        "\n",
        "import pandas as pd # the aliases speed up the calling the library\n",
        "import numpy as np\n"
      ],
      "execution_count": null,
      "outputs": []
    },
    {
      "cell_type": "markdown",
      "metadata": {
        "id": "URQiSy9mpx1z"
      },
      "source": [
        "# What can Pandas do for you?\n",
        "\n",
        "Today we will learn:\n",
        "\n",
        "* Create Series and DataFrames;\n",
        "\n",
        "*   Import data in the form of DataFrames (tables);\n",
        "\n",
        "\n",
        "* Get info on your imported DataFrames;\n",
        "\n",
        "* Subset the DataFrame.\n",
        "\n",
        "\n"
      ]
    },
    {
      "cell_type": "markdown",
      "metadata": {
        "id": "IoA804eN0YdY"
      },
      "source": [
        "# Intro on Pandas DataFrame"
      ]
    },
    {
      "cell_type": "markdown",
      "metadata": {
        "id": "Bost4sY4Ecfx"
      },
      "source": [
        "## Create Series\n",
        "\n"
      ]
    },
    {
      "cell_type": "code",
      "metadata": {
        "id": "09MZCTkuiBPm"
      },
      "source": [
        "# Create an empty Series\n",
        "sr = pd.Series()\n",
        "sr"
      ],
      "execution_count": null,
      "outputs": []
    },
    {
      "cell_type": "code",
      "metadata": {
        "id": "Rhxr5uS4iKvz"
      },
      "source": [
        "# Create an empty Series, made of objects\n",
        "sr = pd.Series(dtype = 'object')\n",
        "sr"
      ],
      "execution_count": null,
      "outputs": []
    },
    {
      "cell_type": "code",
      "metadata": {
        "id": "lJVWzWY3FUJY"
      },
      "source": [
        "sr = pd.Series(dtype = 'object', index = ['this', 'is', 'an', 'index'])\n",
        "sr"
      ],
      "execution_count": null,
      "outputs": []
    },
    {
      "cell_type": "code",
      "metadata": {
        "id": "GbdzlQxEl7aF"
      },
      "source": [
        "shoe_size = pd.Series(np.random.randint(36, 46, 5)) #creates a series with 5 integer values included in the range 36-46\n",
        "patient = pd.Series(['b', 'a', 'c', 'd', 'f'])"
      ],
      "execution_count": null,
      "outputs": []
    },
    {
      "cell_type": "code",
      "metadata": {
        "id": "MHUx40YmmE97"
      },
      "source": [
        "patient"
      ],
      "execution_count": null,
      "outputs": []
    },
    {
      "cell_type": "code",
      "metadata": {
        "id": "ia-BDqa4mNgD"
      },
      "source": [
        "shoe_size"
      ],
      "execution_count": null,
      "outputs": []
    },
    {
      "cell_type": "markdown",
      "metadata": {
        "id": "ySwGbbZolq2X"
      },
      "source": [
        "## Create DataFrames"
      ]
    },
    {
      "cell_type": "code",
      "metadata": {
        "id": "CCTQww16FHpd"
      },
      "source": [
        "# create and empty dataframe\n",
        "\n",
        "df = pd.DataFrame()\n",
        "df"
      ],
      "execution_count": null,
      "outputs": []
    },
    {
      "cell_type": "code",
      "metadata": {
        "id": "fGUtTIaoiX8Y"
      },
      "source": [
        "# create and empty dataframe with specific columns\n",
        "\n",
        "df = pd.DataFrame(columns = ['these', 'are', 'columns'])\n",
        "df"
      ],
      "execution_count": null,
      "outputs": []
    },
    {
      "cell_type": "code",
      "metadata": {
        "id": "oen_NQANFOdN"
      },
      "source": [
        "type(df)"
      ],
      "execution_count": null,
      "outputs": []
    },
    {
      "cell_type": "code",
      "metadata": {
        "id": "s1fZjNXhcW7u"
      },
      "source": [
        "df1 = pd.DataFrame({'patient': ['b', 'a', 'c', 'e', 'f'], # this is the first column\n",
        "                    'height [cm]': np.random.randint(140, 200, 5)} #this is the second columns\n",
        "                   \n",
        "                   )\n",
        "df1"
      ],
      "execution_count": null,
      "outputs": []
    },
    {
      "cell_type": "code",
      "metadata": {
        "id": "qDFHIuytimHc"
      },
      "source": [
        "df2 = pd.DataFrame({'patient': ['a', 'b', 'd','f'], \n",
        "                    'weight [kg]': np.random.uniform(45, 120, 4)})\n",
        "df2"
      ],
      "execution_count": null,
      "outputs": []
    },
    {
      "cell_type": "code",
      "metadata": {
        "id": "iJA-svIJkTYL"
      },
      "source": [
        "df3 = pd.DataFrame({'patient': ['b', 'a', 'c', 'd', 'f'], \n",
        "                    'shoe size [EU]': np.random.randint(36, 46, 5)})\n",
        "df3"
      ],
      "execution_count": null,
      "outputs": []
    },
    {
      "cell_type": "markdown",
      "metadata": {
        "id": "d7NGTdnRnB-v"
      },
      "source": [
        "#### Create DataFrame from Series"
      ]
    },
    {
      "cell_type": "code",
      "metadata": {
        "id": "R7TUggnpmQH9"
      },
      "source": [
        "df3 = pd.DataFrame()\n",
        "# populate each column\n",
        "df3['patient'] = patient\n",
        "df3['shoe size [EU]'] = shoe_size\n",
        "df3"
      ],
      "execution_count": null,
      "outputs": []
    },
    {
      "cell_type": "code",
      "metadata": {
        "id": "dt7_DrTeJiGS"
      },
      "source": [
        "df3\n"
      ],
      "execution_count": null,
      "outputs": []
    },
    {
      "cell_type": "markdown",
      "metadata": {
        "id": "zpjKx7LbG4jw"
      },
      "source": [
        "## Data import\n",
        "Finally, let's import some data.\n",
        "\n",
        "Most of the data you will deal with in this course is in the form of text (.txt), comma separated variables (.csv), tab separated variables (.tsv), excel files (.xlsx), etc.\n",
        "\n",
        "Pandas will take care of importing different types of data.\n",
        "\n",
        "It creates different objects to contain the data. We will use DataFrames at first."
      ]
    },
    {
      "cell_type": "markdown",
      "metadata": {
        "id": "LBQmLbkTQ6aL"
      },
      "source": [
        "#### Importing from web"
      ]
    },
    {
      "cell_type": "code",
      "metadata": {
        "id": "fzUO8cbYE93b"
      },
      "source": [
        "SNPs = pd.read_csv(\"https://raw.githubusercontent.com/araldi/HS21---Big-Data-Analysis-in-Biomedical-Research-376-1723-00L-/main/pandas/CD93_exomeSNPs_annotation.csv\")\n",
        "SNPs"
      ],
      "execution_count": null,
      "outputs": []
    },
    {
      "cell_type": "code",
      "metadata": {
        "id": "r_GVdt6cpPbX"
      },
      "source": [
        "#what happens when you try to upload a tsv file?\n",
        "drugs =  pd.read_csv('https://raw.githubusercontent.com/araldi/HS21---Big-Data-Analysis-in-Biomedical-Research-376-1723-00L-/main/pandas/drugs.tsv')\n",
        "\n",
        "# tsv is a tab-separated file. You need to specify that with the argument sep='\\t'\n",
        "# similar instance if the file is separated by spaces. In the argument you will specify sep =' '\n"
      ],
      "execution_count": null,
      "outputs": []
    },
    {
      "cell_type": "code",
      "metadata": {
        "id": "JnH9ktBvpcsA"
      },
      "source": [
        "drugs =  pd.read_csv('https://raw.githubusercontent.com/araldi/HS21---Big-Data-Analysis-in-Biomedical-Research-376-1723-00L-/main/pandas/drugs.tsv', \n",
        "                     sep='\\t')\n",
        "drugs"
      ],
      "execution_count": null,
      "outputs": []
    },
    {
      "cell_type": "code",
      "metadata": {
        "id": "XkFzHCXjoQJf"
      },
      "source": [
        "# and an excel file?\n",
        "\n",
        "ETH_workplaces =  pd.read_excel('https://github.com/araldi/HS21---Big-Data-Analysis-in-Biomedical-Research-376-1723-00L-/blob/main/pandas/FS%202021_ETH%20Workplaces%20.xlsx?raw=true')"
      ],
      "execution_count": null,
      "outputs": []
    },
    {
      "cell_type": "code",
      "metadata": {
        "id": "OGNuWg81pGcj"
      },
      "source": [
        "ETH_workplaces"
      ],
      "execution_count": null,
      "outputs": []
    },
    {
      "cell_type": "markdown",
      "metadata": {
        "id": "0ChduehxQ_qb"
      },
      "source": [
        "#### Importing from a local drive"
      ]
    },
    {
      "cell_type": "code",
      "metadata": {
        "id": "ICvN1ALZOGhQ"
      },
      "source": [
        "# choose file from your computer (this works only in google colab, not in Jupyter notebook)\n",
        "from google.colab import files\n",
        "uploaded = files.upload()\n",
        "file_name = 'kidpackgenes.csv'"
      ],
      "execution_count": null,
      "outputs": []
    },
    {
      "cell_type": "code",
      "metadata": {
        "id": "JSSAF4ZBPLcP"
      },
      "source": [
        "import io\n",
        "genes = pd.read_csv(io.BytesIO(uploaded[file_name]))\n",
        "# Dataset is now stored in a Pandas Dataframe"
      ],
      "execution_count": null,
      "outputs": []
    },
    {
      "cell_type": "markdown",
      "metadata": {
        "id": "h2GeNfsBRFe0"
      },
      "source": [
        "#### Importing from Google Drive via PyDrive"
      ]
    },
    {
      "cell_type": "code",
      "metadata": {
        "id": "7Y9ziLU2RPgR"
      },
      "source": [
        "from google.colab import drive\n",
        "drive.mount('/content/drive', force_remount=True)"
      ],
      "execution_count": null,
      "outputs": []
    },
    {
      "cell_type": "markdown",
      "metadata": {
        "id": "Z8I3114hqamI"
      },
      "source": [
        "Create a folder on your google drive for this couse (in this case I called it HS21-Big_Data_Analysis_in_Biomedical_Research_376-1723-00L)"
      ]
    },
    {
      "cell_type": "code",
      "metadata": {
        "id": "p0TSZu70TDAM"
      },
      "source": [
        "!mkdir /content/drive/MyDrive/HS21-Big_Data_Analysis_in_Biomedical_Research_376-1723-00L \n"
      ],
      "execution_count": null,
      "outputs": []
    },
    {
      "cell_type": "code",
      "metadata": {
        "id": "C8sJtekVeUQ2"
      },
      "source": [
        "!cd /content/drive/MyDrive/HS21-Big_Data_Analysis_in_Biomedical_Research_376-1723-00L \n",
        "#changes to the folder of interest"
      ],
      "execution_count": null,
      "outputs": []
    },
    {
      "cell_type": "code",
      "metadata": {
        "id": "SpU2LQKTUqGj"
      },
      "source": [
        "directory = '/content/drive/MyDrive/HS21-Big_Data_Analysis_in_Biomedical_Research_376-1723-00L'\n",
        "file_name = 'kidpackgenes.csv'"
      ],
      "execution_count": null,
      "outputs": []
    },
    {
      "cell_type": "code",
      "metadata": {
        "id": "9IJlDJcqPNuL"
      },
      "source": [
        "genes = pd.read_csv('%s/%s' %(directory, file_name))\n",
        "genes"
      ],
      "execution_count": null,
      "outputs": []
    },
    {
      "cell_type": "markdown",
      "metadata": {
        "id": "oISJL1JMehxo"
      },
      "source": [
        "#### Importing from your computer (on Jupyter Notebook)"
      ]
    },
    {
      "cell_type": "code",
      "metadata": {
        "id": "ylPbR--TPD9k"
      },
      "source": [
        "# on Jupyter Lab on your computer, you would add the path of the file\n",
        "# for instance (in MacOsX )\n",
        "\n",
        "genes = pd.read_csv('/Users/elisa/kidpackgenes.csv' )\n",
        "\n",
        "# for instance (in Windows)\n",
        "\n",
        "genes = pd.read_csv('C:\\Documents\\kidpackgenes.csv' )\n"
      ],
      "execution_count": null,
      "outputs": []
    },
    {
      "cell_type": "markdown",
      "metadata": {
        "id": "7y3uMN6qq-ef"
      },
      "source": [
        "## Get info about your DataFrame"
      ]
    },
    {
      "cell_type": "markdown",
      "metadata": {
        "id": "ptHRdK6ieyI9"
      },
      "source": [
        "#### Show parts of the DataFrame"
      ]
    },
    {
      "cell_type": "code",
      "metadata": {
        "id": "rVDgozvodTt5"
      },
      "source": [
        "SNPs.head(10) #shows you the first n rows of the DataFrame"
      ],
      "execution_count": null,
      "outputs": []
    },
    {
      "cell_type": "code",
      "metadata": {
        "id": "rv5y8i9ldZkp"
      },
      "source": [
        "SNPs.tail(5) # shows the end of the DataFrame"
      ],
      "execution_count": null,
      "outputs": []
    },
    {
      "cell_type": "code",
      "metadata": {
        "id": "8J4s_ObiddRF"
      },
      "source": [
        "SNPs.sample(10) # shows random rows of the DataFrame"
      ],
      "execution_count": null,
      "outputs": []
    },
    {
      "cell_type": "markdown",
      "metadata": {
        "id": "7bayPrI9e2F5"
      },
      "source": [
        "#### Show info about size/shape of DataFrame, columns names, data types and null values\n"
      ]
    },
    {
      "cell_type": "code",
      "metadata": {
        "id": "8R2-eW4_e1tH"
      },
      "source": [
        "SNPs.info()"
      ],
      "execution_count": null,
      "outputs": []
    },
    {
      "cell_type": "code",
      "metadata": {
        "id": "hwOSGRafzjkZ"
      },
      "source": [
        "SNPs.describe()"
      ],
      "execution_count": null,
      "outputs": []
    },
    {
      "cell_type": "code",
      "metadata": {
        "id": "Rtuc1A7ee8sI"
      },
      "source": [
        "SNPs.columns"
      ],
      "execution_count": null,
      "outputs": []
    },
    {
      "cell_type": "code",
      "metadata": {
        "id": "fKDSfhlrn3nv"
      },
      "source": [
        "SNPs.index"
      ],
      "execution_count": null,
      "outputs": []
    },
    {
      "cell_type": "code",
      "metadata": {
        "id": "tpwAK1X1oCn7"
      },
      "source": [
        "SNPs.dtypes"
      ],
      "execution_count": null,
      "outputs": []
    },
    {
      "cell_type": "code",
      "metadata": {
        "id": "pvR-HI3Jof7i"
      },
      "source": [
        "# how many null values in the data frame?\n",
        "SNPs.isna().sum()"
      ],
      "execution_count": null,
      "outputs": []
    },
    {
      "cell_type": "code",
      "metadata": {
        "id": "4SZ2PMXNoLv6"
      },
      "source": [
        "# how many null values in a specific column?\n",
        "SNPs['PolyPhen prediction'].isna().sum()"
      ],
      "execution_count": null,
      "outputs": []
    },
    {
      "cell_type": "markdown",
      "metadata": {
        "id": "OtAjhcVrb-Sm"
      },
      "source": [
        "# Getting data from DataFrames\n"
      ]
    },
    {
      "cell_type": "markdown",
      "metadata": {
        "id": "UVUiWcyDrAdl"
      },
      "source": [
        "#### Get values from one column"
      ]
    },
    {
      "cell_type": "code",
      "metadata": {
        "id": "RQHVvsaGjS7S"
      },
      "source": [
        "SNPs['Variant name']"
      ],
      "execution_count": null,
      "outputs": []
    },
    {
      "cell_type": "code",
      "metadata": {
        "id": "c5Ydu679kKuX"
      },
      "source": [
        "#columns are Series!!!\n",
        "\n",
        "type(SNPs['Variant name'])"
      ],
      "execution_count": null,
      "outputs": []
    },
    {
      "cell_type": "code",
      "metadata": {
        "id": "TnS5uKtLkOO-"
      },
      "source": [
        "type(SNPs)"
      ],
      "execution_count": null,
      "outputs": []
    },
    {
      "cell_type": "markdown",
      "metadata": {
        "id": "F4TOi551rC8v"
      },
      "source": [
        "#### Get a value from a specific position of the dataframe"
      ]
    },
    {
      "cell_type": "markdown",
      "metadata": {
        "id": "E39CZmr8rUW3"
      },
      "source": [
        "When you have the names of the columns, use:\n",
        "\n",
        "\n",
        ".loc[ ]\n",
        "\n",
        "\n"
      ]
    },
    {
      "cell_type": "code",
      "metadata": {
        "id": "18JOpgihrGev"
      },
      "source": [
        "# index 10 and column Variant name\n",
        "SNPs.loc[10, 'Variant name']"
      ],
      "execution_count": null,
      "outputs": []
    },
    {
      "cell_type": "code",
      "metadata": {
        "id": "4Ps2dqkfr77t"
      },
      "source": [
        "# a range of rows and column Variant name\n",
        "SNPs.loc[10:20, 'Variant name']"
      ],
      "execution_count": null,
      "outputs": []
    },
    {
      "cell_type": "code",
      "metadata": {
        "id": "Ry0eTpL5ubCd"
      },
      "source": [
        "# a range of rows for all columns\n",
        "SNPs.loc[10:20, :]"
      ],
      "execution_count": null,
      "outputs": []
    },
    {
      "cell_type": "markdown",
      "metadata": {
        "id": "GwffH5jprkN9"
      },
      "source": [
        "When you have the numerical coordinates, use:\n",
        "\n",
        ".iloc[ ]\n"
      ]
    },
    {
      "cell_type": "code",
      "metadata": {
        "id": "nyCGflOjreKO"
      },
      "source": [
        "SNPs.iloc[10, 2]"
      ],
      "execution_count": null,
      "outputs": []
    },
    {
      "cell_type": "markdown",
      "metadata": {
        "id": "m8KsFO6nnsBP"
      },
      "source": [
        "#### Broadcasting"
      ]
    },
    {
      "cell_type": "markdown",
      "metadata": {
        "id": "pfn6j2UnrxbD"
      },
      "source": [
        "I want to know the variant consequence of the variant rs3746732"
      ]
    },
    {
      "cell_type": "code",
      "metadata": {
        "id": "0IfgirTnrSg-"
      },
      "source": [
        "# use a boolean mask as row selection\n",
        "\n",
        "mask = SNPs['Variant name'] == 'rs3746732'\n",
        "\n",
        "SNPs.loc[mask, 'Variant consequence']"
      ],
      "execution_count": null,
      "outputs": []
    },
    {
      "cell_type": "markdown",
      "metadata": {
        "id": "mRiDmQFZstWa"
      },
      "source": [
        "#### Select only specific columns of the DataFrame"
      ]
    },
    {
      "cell_type": "code",
      "metadata": {
        "id": "W_89XpdvsybD"
      },
      "source": [
        "drugs_subset = drugs[['PharmGKB Accession Id' ,\t'Name', 'Type']] # list of columns!\n",
        "drugs_subset"
      ],
      "execution_count": null,
      "outputs": []
    },
    {
      "cell_type": "code",
      "metadata": {
        "id": "Cu2wrkQzs478"
      },
      "source": [
        ""
      ],
      "execution_count": null,
      "outputs": []
    },
    {
      "cell_type": "markdown",
      "metadata": {
        "id": "uYG0WOVGPx6K"
      },
      "source": [
        "# Save the dataframe with .to_csv()"
      ]
    },
    {
      "cell_type": "code",
      "metadata": {
        "id": "evaKNYd0P2K5"
      },
      "source": [
        "# save the dataframe on a specific folder in your google drive\n",
        "directory = '/content/drive/MyDrive/HS21-Big_Data_Analysis_in_Biomedical_Research_376-1723-00L'\n",
        "\n",
        "df3.to_csv('%s/example_saved_dataframe.csv' %directory)\n",
        "\n",
        "\n",
        "\n"
      ],
      "execution_count": null,
      "outputs": []
    },
    {
      "cell_type": "code",
      "metadata": {
        "id": "eHuuRD_ta0so"
      },
      "source": [
        "# save the data in google colab space (see the file explorer on the left)\n",
        "\n",
        "df3.to_csv('/content/sample_data/example_saved_dataframe.csv')\n",
        "# and then download it\n",
        "files.download('example_saved_dataframe.csv')\n"
      ],
      "execution_count": null,
      "outputs": []
    },
    {
      "cell_type": "code",
      "metadata": {
        "id": "Kc5SrD2tajjs"
      },
      "source": [
        "# on a Jupyter notebook on your computer, simply specify your folder of interest and file\n",
        "\n",
        "df3.to_csv('/Users/elisa/Documents/file.csv')\n",
        "\n",
        "\n"
      ],
      "execution_count": null,
      "outputs": []
    },
    {
      "cell_type": "markdown",
      "metadata": {
        "id": "vHYmZt_xlFCu"
      },
      "source": [
        "# Exercises\n",
        "\n"
      ]
    },
    {
      "cell_type": "markdown",
      "metadata": {
        "id": "J6rz1wI8n14J"
      },
      "source": [
        "#### Exercise 1\n",
        "\n",
        "Import a csv file from your computer and get the info on column names, size, data types, number of null values per column."
      ]
    },
    {
      "cell_type": "code",
      "metadata": {
        "id": "TGd-9noLjZia"
      },
      "source": [
        ""
      ],
      "execution_count": null,
      "outputs": []
    },
    {
      "cell_type": "markdown",
      "metadata": {
        "id": "Hj46-177jZxP"
      },
      "source": [
        "#### Exercise 1b\n",
        "\n",
        "Import an excel file from your computer and do the same as above."
      ]
    },
    {
      "cell_type": "code",
      "metadata": {
        "id": "s0mPBFLFpsn5"
      },
      "source": [
        ""
      ],
      "execution_count": null,
      "outputs": []
    },
    {
      "cell_type": "markdown",
      "metadata": {
        "id": "ANkjjyJZtNPD"
      },
      "source": [
        "#### Exercise 2\n",
        "\n",
        "From the DataFrame above, select only the first 4 columns, and save the dataset as \"dataframe.csv\" on a new \"exercise\" folder in your google drive."
      ]
    },
    {
      "cell_type": "code",
      "metadata": {
        "id": "wChzilb7tT6B"
      },
      "source": [
        ""
      ],
      "execution_count": null,
      "outputs": []
    },
    {
      "cell_type": "markdown",
      "metadata": {
        "id": "5kWl8T5inKP6"
      },
      "source": [
        "#### Exercise 3\n",
        "\n",
        "Create a dictionary that has as key PharmGKB Accession Id and as values the Name of the drug (dataframe *drugs* from above)"
      ]
    },
    {
      "cell_type": "code",
      "metadata": {
        "id": "cAAwo9_PeAh6"
      },
      "source": [
        "drugs.head()"
      ],
      "execution_count": null,
      "outputs": []
    },
    {
      "cell_type": "code",
      "metadata": {
        "id": "0cT2oGN0sdvx"
      },
      "source": [
        "# HINT:\n",
        "# Use enumerate"
      ],
      "execution_count": null,
      "outputs": []
    },
    {
      "cell_type": "markdown",
      "metadata": {
        "id": "U0qw0-g9nt1S"
      },
      "source": [
        "#### Exercise 4\n",
        "\n",
        "Find the row in the file above for aspirin."
      ]
    },
    {
      "cell_type": "code",
      "metadata": {
        "id": "_j64WvWI0GZR"
      },
      "source": [
        ""
      ],
      "execution_count": null,
      "outputs": []
    },
    {
      "cell_type": "code",
      "metadata": {
        "id": "D-Qb4Pc-lRkd"
      },
      "source": [
        ""
      ],
      "execution_count": null,
      "outputs": []
    }
  ]
}
