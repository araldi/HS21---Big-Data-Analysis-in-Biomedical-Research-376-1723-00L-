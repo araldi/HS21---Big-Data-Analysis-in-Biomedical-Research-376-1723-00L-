{
  "nbformat": 4,
  "nbformat_minor": 0,
  "metadata": {
    "colab": {
      "name": "Week5_homework_solution.ipynb",
      "provenance": [],
      "collapsed_sections": [],
      "include_colab_link": true
    },
    "kernelspec": {
      "name": "python3",
      "display_name": "Python 3"
    },
    "language_info": {
      "name": "python"
    }
  },
  "cells": [
    {
      "cell_type": "markdown",
      "metadata": {
        "id": "view-in-github",
        "colab_type": "text"
      },
      "source": [
        "<a href=\"https://colab.research.google.com/github/araldi/HS21---Big-Data-Analysis-in-Biomedical-Research-376-1723-00L-/blob/main/Week5/Week5_homework_solution.ipynb\" target=\"_parent\"><img src=\"https://colab.research.google.com/assets/colab-badge.svg\" alt=\"Open In Colab\"/></a>"
      ]
    },
    {
      "cell_type": "markdown",
      "metadata": {
        "id": "V_QTMgmki7Ja"
      },
      "source": [
        "Load the dataset and the dictionary to decode the columns.\n",
        "\n",
        "```\n",
        "df = pd.read_csv('https://github.com/araldi/HS21---Big-Data-Analysis-in-Biomedical-Research-376-1723-00L-/blob/main/Week5/Week5_statistics_exercise.csv?raw=true')\n",
        "```\n",
        "\n",
        "\n",
        "\n",
        "\n",
        "```\n",
        "df_dict = pd.read_csv('https://raw.githubusercontent.com/araldi/HS21---Big-Data-Analysis-in-Biomedical-Research-376-1723-00L-/main/Week5/df_dictionary.csv')\n",
        "\n",
        "```\n",
        "\n",
        "\n"
      ]
    },
    {
      "cell_type": "markdown",
      "metadata": {
        "id": "L27hDNBkYQ7_"
      },
      "source": [
        "# Exercise 1\n",
        "### Part a\n",
        "\n",
        "Sample 25 individuals among males and 25 individuals among females and perform an appropriate test to check whether the two sampled cohorts have the same height.\n",
        "\n",
        "* Plot the height of the two sampled cohorts.\n",
        "\n",
        "* Which statistical test are you going to use?\n",
        "\n",
        "* State the null hypothesis, state the alternate hypothesis.\n",
        "\n",
        "* Define the significance threshold.\n",
        "\n",
        "\n",
        "\n",
        "* How do you interpret the results?"
      ]
    },
    {
      "cell_type": "code",
      "metadata": {
        "id": "sguLeq7wYSXT"
      },
      "source": [
        "import pandas as pd\n",
        "import numpy as np\n",
        "import matplotlib.pyplot as plt\n",
        "import seaborn as sns\n",
        "from scipy import stats\n",
        "from statsmodels.stats.weightstats import ztest\n",
        "\n",
        "\n",
        "\n",
        "df = pd.read_csv('https://github.com/araldi/HS21---Big-Data-Analysis-in-Biomedical-Research-376-1723-00L-/blob/main/Week5/Week5_statistics_exercise.csv?raw=true')\n",
        "df_dict = pd.read_csv('https://raw.githubusercontent.com/araldi/HS21---Big-Data-Analysis-in-Biomedical-Research-376-1723-00L-/main/Week5/df_dictionary.csv')\n",
        "\n"
      ],
      "execution_count": null,
      "outputs": []
    },
    {
      "cell_type": "code",
      "metadata": {
        "colab": {
          "base_uri": "https://localhost:8080/",
          "height": 241
        },
        "id": "-7PC_wPgaXgV",
        "outputId": "18812bb8-e9ea-47dc-d31f-a2166250a456"
      },
      "source": [
        "df.head()"
      ],
      "execution_count": null,
      "outputs": [
        {
          "output_type": "execute_result",
          "data": {
            "text/html": [
              "<div>\n",
              "<style scoped>\n",
              "    .dataframe tbody tr th:only-of-type {\n",
              "        vertical-align: middle;\n",
              "    }\n",
              "\n",
              "    .dataframe tbody tr th {\n",
              "        vertical-align: top;\n",
              "    }\n",
              "\n",
              "    .dataframe thead th {\n",
              "        text-align: right;\n",
              "    }\n",
              "</style>\n",
              "<table border=\"1\" class=\"dataframe\">\n",
              "  <thead>\n",
              "    <tr style=\"text-align: right;\">\n",
              "      <th></th>\n",
              "      <th>Unnamed: 0</th>\n",
              "      <th>eid</th>\n",
              "      <th>31-0.0</th>\n",
              "      <th>48-0.0</th>\n",
              "      <th>49-0.0</th>\n",
              "      <th>50-0.0</th>\n",
              "      <th>2443-0.0</th>\n",
              "      <th>21002-0.0</th>\n",
              "      <th>21022-0.0</th>\n",
              "      <th>23099-0.0</th>\n",
              "      <th>30740-0.0</th>\n",
              "      <th>30750-0.0</th>\n",
              "      <th>30760-0.0</th>\n",
              "      <th>30770-0.0</th>\n",
              "      <th>30780-0.0</th>\n",
              "    </tr>\n",
              "  </thead>\n",
              "  <tbody>\n",
              "    <tr>\n",
              "      <th>0</th>\n",
              "      <td>281147</td>\n",
              "      <td>3811815</td>\n",
              "      <td>0.0</td>\n",
              "      <td>94.0</td>\n",
              "      <td>109.0</td>\n",
              "      <td>161.0</td>\n",
              "      <td>0.0</td>\n",
              "      <td>84.1</td>\n",
              "      <td>54.0</td>\n",
              "      <td>46.9</td>\n",
              "      <td>5.032</td>\n",
              "      <td>35.6</td>\n",
              "      <td>1.287</td>\n",
              "      <td>24.253</td>\n",
              "      <td>4.501</td>\n",
              "    </tr>\n",
              "    <tr>\n",
              "      <th>1</th>\n",
              "      <td>51158</td>\n",
              "      <td>1511686</td>\n",
              "      <td>0.0</td>\n",
              "      <td>67.0</td>\n",
              "      <td>96.0</td>\n",
              "      <td>160.0</td>\n",
              "      <td>0.0</td>\n",
              "      <td>61.9</td>\n",
              "      <td>41.0</td>\n",
              "      <td>28.6</td>\n",
              "      <td>3.671</td>\n",
              "      <td>31.7</td>\n",
              "      <td>1.059</td>\n",
              "      <td>22.127</td>\n",
              "      <td>5.275</td>\n",
              "    </tr>\n",
              "    <tr>\n",
              "      <th>2</th>\n",
              "      <td>167746</td>\n",
              "      <td>2677649</td>\n",
              "      <td>0.0</td>\n",
              "      <td>78.0</td>\n",
              "      <td>108.0</td>\n",
              "      <td>167.5</td>\n",
              "      <td>0.0</td>\n",
              "      <td>69.2</td>\n",
              "      <td>55.0</td>\n",
              "      <td>34.7</td>\n",
              "      <td>5.234</td>\n",
              "      <td>25.5</td>\n",
              "      <td>1.423</td>\n",
              "      <td>19.969</td>\n",
              "      <td>3.603</td>\n",
              "    </tr>\n",
              "    <tr>\n",
              "      <th>3</th>\n",
              "      <td>381947</td>\n",
              "      <td>4820009</td>\n",
              "      <td>1.0</td>\n",
              "      <td>88.0</td>\n",
              "      <td>101.0</td>\n",
              "      <td>184.0</td>\n",
              "      <td>0.0</td>\n",
              "      <td>79.5</td>\n",
              "      <td>45.0</td>\n",
              "      <td>14.1</td>\n",
              "      <td>4.665</td>\n",
              "      <td>35.1</td>\n",
              "      <td>2.018</td>\n",
              "      <td>28.842</td>\n",
              "      <td>3.060</td>\n",
              "    </tr>\n",
              "    <tr>\n",
              "      <th>4</th>\n",
              "      <td>114270</td>\n",
              "      <td>2142869</td>\n",
              "      <td>0.0</td>\n",
              "      <td>76.0</td>\n",
              "      <td>98.0</td>\n",
              "      <td>156.0</td>\n",
              "      <td>0.0</td>\n",
              "      <td>59.0</td>\n",
              "      <td>60.0</td>\n",
              "      <td>25.4</td>\n",
              "      <td>5.192</td>\n",
              "      <td>40.1</td>\n",
              "      <td>1.581</td>\n",
              "      <td>24.269</td>\n",
              "      <td>5.010</td>\n",
              "    </tr>\n",
              "  </tbody>\n",
              "</table>\n",
              "</div>"
            ],
            "text/plain": [
              "   Unnamed: 0      eid  31-0.0  ...  30760-0.0  30770-0.0  30780-0.0\n",
              "0      281147  3811815     0.0  ...      1.287     24.253      4.501\n",
              "1       51158  1511686     0.0  ...      1.059     22.127      5.275\n",
              "2      167746  2677649     0.0  ...      1.423     19.969      3.603\n",
              "3      381947  4820009     1.0  ...      2.018     28.842      3.060\n",
              "4      114270  2142869     0.0  ...      1.581     24.269      5.010\n",
              "\n",
              "[5 rows x 15 columns]"
            ]
          },
          "metadata": {},
          "execution_count": 2
        }
      ]
    },
    {
      "cell_type": "code",
      "metadata": {
        "colab": {
          "base_uri": "https://localhost:8080/",
          "height": 483
        },
        "id": "BRrsABYIaZNj",
        "outputId": "6631ded8-b177-4fb2-bb1b-0df08270e7bc"
      },
      "source": [
        "df_dict"
      ],
      "execution_count": null,
      "outputs": [
        {
          "output_type": "execute_result",
          "data": {
            "text/html": [
              "<div>\n",
              "<style scoped>\n",
              "    .dataframe tbody tr th:only-of-type {\n",
              "        vertical-align: middle;\n",
              "    }\n",
              "\n",
              "    .dataframe tbody tr th {\n",
              "        vertical-align: top;\n",
              "    }\n",
              "\n",
              "    .dataframe thead th {\n",
              "        text-align: right;\n",
              "    }\n",
              "</style>\n",
              "<table border=\"1\" class=\"dataframe\">\n",
              "  <thead>\n",
              "    <tr style=\"text-align: right;\">\n",
              "      <th></th>\n",
              "      <th>Description</th>\n",
              "      <th>Code</th>\n",
              "    </tr>\n",
              "  </thead>\n",
              "  <tbody>\n",
              "    <tr>\n",
              "      <th>0</th>\n",
              "      <td>PatientID</td>\n",
              "      <td>eid</td>\n",
              "    </tr>\n",
              "    <tr>\n",
              "      <th>1</th>\n",
              "      <td>Gender</td>\n",
              "      <td>31-0.0</td>\n",
              "    </tr>\n",
              "    <tr>\n",
              "      <th>2</th>\n",
              "      <td>Height [cm]</td>\n",
              "      <td>50-0.0</td>\n",
              "    </tr>\n",
              "    <tr>\n",
              "      <th>3</th>\n",
              "      <td>Weight [Kg]</td>\n",
              "      <td>21002-0.0</td>\n",
              "    </tr>\n",
              "    <tr>\n",
              "      <th>4</th>\n",
              "      <td>Waist circumference [cm]</td>\n",
              "      <td>48-0.0</td>\n",
              "    </tr>\n",
              "    <tr>\n",
              "      <th>5</th>\n",
              "      <td>Hip circumference [cm]</td>\n",
              "      <td>49-0.0</td>\n",
              "    </tr>\n",
              "    <tr>\n",
              "      <th>6</th>\n",
              "      <td>Body_fat_percentage [%]</td>\n",
              "      <td>23099-0.0</td>\n",
              "    </tr>\n",
              "    <tr>\n",
              "      <th>7</th>\n",
              "      <td>Diabetes diagnosed by doctor</td>\n",
              "      <td>2443-0.0</td>\n",
              "    </tr>\n",
              "    <tr>\n",
              "      <th>8</th>\n",
              "      <td>AgeRecruit</td>\n",
              "      <td>21022-0.0</td>\n",
              "    </tr>\n",
              "    <tr>\n",
              "      <th>9</th>\n",
              "      <td>Glucose [mmol/L]</td>\n",
              "      <td>30740-0.0</td>\n",
              "    </tr>\n",
              "    <tr>\n",
              "      <th>10</th>\n",
              "      <td>Glycated haemoglobin (HbA1c) [mmol/mol]</td>\n",
              "      <td>30750-0.0</td>\n",
              "    </tr>\n",
              "    <tr>\n",
              "      <th>11</th>\n",
              "      <td>LDL direct [mmol/L]</td>\n",
              "      <td>30780-0.0</td>\n",
              "    </tr>\n",
              "    <tr>\n",
              "      <th>12</th>\n",
              "      <td>HDL cholesterol [mmol/L]</td>\n",
              "      <td>30760-0.0</td>\n",
              "    </tr>\n",
              "    <tr>\n",
              "      <th>13</th>\n",
              "      <td>IGF-1 [nmol/L]</td>\n",
              "      <td>30770-0.0</td>\n",
              "    </tr>\n",
              "  </tbody>\n",
              "</table>\n",
              "</div>"
            ],
            "text/plain": [
              "                                Description       Code\n",
              "0                                 PatientID        eid\n",
              "1                                    Gender     31-0.0\n",
              "2                               Height [cm]     50-0.0\n",
              "3                               Weight [Kg]  21002-0.0\n",
              "4                  Waist circumference [cm]     48-0.0\n",
              "5                    Hip circumference [cm]     49-0.0\n",
              "6                   Body_fat_percentage [%]  23099-0.0\n",
              "7              Diabetes diagnosed by doctor   2443-0.0\n",
              "8                                AgeRecruit  21022-0.0\n",
              "9                          Glucose [mmol/L]  30740-0.0\n",
              "10  Glycated haemoglobin (HbA1c) [mmol/mol]  30750-0.0\n",
              "11                      LDL direct [mmol/L]  30780-0.0\n",
              "12                 HDL cholesterol [mmol/L]  30760-0.0\n",
              "13                           IGF-1 [nmol/L]  30770-0.0"
            ]
          },
          "metadata": {},
          "execution_count": 4
        }
      ]
    },
    {
      "cell_type": "code",
      "metadata": {
        "id": "-lQiNu1DYaFR"
      },
      "source": [
        "# sample the population\n",
        "males = df['31-0.0'] == 1\n",
        "females = df['31-0.0'] == 0\n",
        "sample1 = df[males].sample(25)\n",
        "sample2 = df[females].sample(25)"
      ],
      "execution_count": null,
      "outputs": []
    },
    {
      "cell_type": "code",
      "metadata": {
        "colab": {
          "base_uri": "https://localhost:8080/",
          "height": 296
        },
        "id": "yfcWufU7awCA",
        "outputId": "6b637db7-6c9d-4f3b-8fb0-721f892d18a5"
      },
      "source": [
        "# Plot the height of the two sampled cohorts.\n",
        "plt.hist(sample1['50-0.0'], bins=5, alpha=0.4, color='green', label = 'males')\n",
        "plt.hist(sample2['50-0.0'], bins=5, alpha = 0.4, color='orange', label = 'females')\n",
        "plt.xlabel(\"Height [cm]\")\n",
        "plt.ylabel(\"Individuals [counts]\")\n",
        "plt.legend()"
      ],
      "execution_count": null,
      "outputs": [
        {
          "output_type": "execute_result",
          "data": {
            "text/plain": [
              "<matplotlib.legend.Legend at 0x7f6bf42f1610>"
            ]
          },
          "metadata": {},
          "execution_count": 30
        },
        {
          "output_type": "display_data",
          "data": {
            "image/png": "[encoded data removed]",
            "text/plain": [
              "<Figure size 432x288 with 1 Axes>"
            ]
          },
          "metadata": {
            "needs_background": "light"
          }
        }
      ]
    },
    {
      "cell_type": "markdown",
      "metadata": {
        "id": "UET-Tcbxccrt"
      },
      "source": [
        "**Which is the appropriate test to check whether the two sampled cohorts have the same height?**\n",
        "\n",
        "The test to be used is the t-test (small sample size from two samples)\n",
        "\n",
        "\n",
        "**State the null hypothesis, state the alternate hypothesis.**\n",
        "* Null hypothesis: the two sampled cohorts belong to the same population, therefore their height is identical.\n",
        "* Alternate hypothesis: the two sampled cohorts come from two different populations, therefore their height is different.\n",
        "\n",
        "**Define the significance threshold.**\n",
        "\n",
        "Significance threshold is 0.05 from a two-tailed test (we do not know already if one sample is bigger than the other)\n"
      ]
    },
    {
      "cell_type": "code",
      "metadata": {
        "colab": {
          "base_uri": "https://localhost:8080/"
        },
        "id": "xDHtjik6bb4m",
        "outputId": "aa8b2e8c-76c3-4e72-82db-e561eaee3d03"
      },
      "source": [
        "# run the test\n",
        "\n",
        "stats.ttest_ind(sample1['50-0.0'], sample2['50-0.0'])"
      ],
      "execution_count": null,
      "outputs": [
        {
          "output_type": "execute_result",
          "data": {
            "text/plain": [
              "Ttest_indResult(statistic=6.416627445486153, pvalue=5.7733611593167556e-08)"
            ]
          },
          "metadata": {},
          "execution_count": 24
        }
      ]
    },
    {
      "cell_type": "markdown",
      "metadata": {
        "id": "c7ItuY8kcZBE"
      },
      "source": [
        "**Interpret the results**\n",
        "\n",
        "The two samples do not come from the same population (p-value is less than the pre-determined significance threshold)."
      ]
    },
    {
      "cell_type": "markdown",
      "metadata": {
        "id": "mu9sXdtEdCWE"
      },
      "source": [
        "\n",
        "\n",
        "### Part b\n",
        "Sample two groups of 25 males, run a statistical test to check if the height of the two groups are different. \n",
        "* Run 1000 simulations of similar samples and statistical tests, and save each p-value in an array.\n",
        "\n",
        "* Plot the distribution of the p-values of the statistical tests.\n",
        "\n",
        "* What do you notice?  "
      ]
    },
    {
      "cell_type": "code",
      "metadata": {
        "colab": {
          "base_uri": "https://localhost:8080/",
          "height": 296
        },
        "id": "3e1P6xnBeF_s",
        "outputId": "4fe9e05f-c934-4840-b7ea-8fbdc4469d24"
      },
      "source": [
        "# Sample two groups of 25 males, \n",
        "# run a statistical test to check if the height of the two groups are different\n",
        "\n",
        "males = df['31-0.0'] == 1\n",
        "sample1 = df[males].sample(25)\n",
        "sample2 = df[males].sample(25)\n",
        "\n",
        "# Plot the height of the two sampled cohorts.\n",
        "plt.hist(sample1['50-0.0'], bins=5, alpha=0.4, color='green', label = 'males_sample1')\n",
        "plt.hist(sample2['50-0.0'], bins=5, alpha = 0.4, color='orange', label = 'males_sample2')\n",
        "plt.xlabel(\"Height [cm]\")\n",
        "plt.ylabel(\"Males [counts]\")\n",
        "plt.legend()\n",
        "\n",
        "stats.ttest_ind(sample1['50-0.0'], sample2['50-0.0'])"
      ],
      "execution_count": null,
      "outputs": [
        {
          "output_type": "execute_result",
          "data": {
            "text/plain": [
              "Ttest_indResult(statistic=-0.6694284044083016, pvalue=0.5064296750122956)"
            ]
          },
          "metadata": {},
          "execution_count": 31
        },
        {
          "output_type": "display_data",
          "data": {
            "image/png": "[encoded data removed]",
            "text/plain": [
              "<Figure size 432x288 with 1 Axes>"
            ]
          },
          "metadata": {
            "needs_background": "light"
          }
        }
      ]
    },
    {
      "cell_type": "code",
      "metadata": {
        "id": "jy_k5lfFdE9G"
      },
      "source": [
        "# Run 1000 simulations of similar samples and statistical tests, \n",
        "# and save each p-value in an array.\n",
        "pvals = np.array([])\n",
        "for i in range(1000):\n",
        "  sample1 = df[males].sample(25)\n",
        "  sample2 = df[males].sample(25)\n",
        "  tstat, pvalue = stats.ttest_ind(sample1['50-0.0'], sample2['50-0.0'])\n",
        "  pvals = np.append(pvals, pvalue)\n",
        "\n"
      ],
      "execution_count": null,
      "outputs": []
    },
    {
      "cell_type": "code",
      "metadata": {
        "colab": {
          "base_uri": "https://localhost:8080/",
          "height": 313
        },
        "id": "Nm64aOfIdwuF",
        "outputId": "4cb9ffe9-b21a-4c1d-e37e-6f8e783ff719"
      },
      "source": [
        "# Plot the distribution of the p-values of the statistical tests.\n",
        "\n",
        "plt.hist(pvals, alpha=0.4, color='green', bins = 40)\n",
        "plt.vlines(x=0.05, ymin=0, ymax = 30, linestyle ='--', linewidth = 1)\n",
        "plt.xlabel(\"p-value\")\n",
        "plt.ylabel(\"Counts\")\n",
        "plt.legend()"
      ],
      "execution_count": null,
      "outputs": [
        {
          "output_type": "stream",
          "name": "stderr",
          "text": [
            "No handles with labels found to put in legend.\n"
          ]
        },
        {
          "output_type": "execute_result",
          "data": {
            "text/plain": [
              "<matplotlib.legend.Legend at 0x7f6bf46eff90>"
            ]
          },
          "metadata": {},
          "execution_count": 53
        },
        {
          "output_type": "display_data",
          "data": {
            "image/png": "[encoded data removed]",
            "text/plain": [
              "<Figure size 432x288 with 1 Axes>"
            ]
          },
          "metadata": {
            "needs_background": "light"
          }
        }
      ]
    },
    {
      "cell_type": "code",
      "metadata": {
        "colab": {
          "base_uri": "https://localhost:8080/"
        },
        "id": "72LUxwtBgRlw",
        "outputId": "92141387-1332-4513-939f-a79d008bb7c0"
      },
      "source": [
        "len(pvals[pvals<0.05])/len(pvals)"
      ],
      "execution_count": null,
      "outputs": [
        {
          "output_type": "execute_result",
          "data": {
            "text/plain": [
              "0.033"
            ]
          },
          "metadata": {},
          "execution_count": 57
        }
      ]
    },
    {
      "cell_type": "markdown",
      "metadata": {
        "id": "Nis5fyINgnJM"
      },
      "source": [
        "**What do you notice?**\n",
        "\n",
        "A proportion of statistical test (3.3%) have pvalues below the statistical threshold, even though the samples come from the same population."
      ]
    },
    {
      "cell_type": "markdown",
      "metadata": {
        "id": "FsyQ3qR93ISH"
      },
      "source": [
        "\n",
        "\n",
        "\n",
        "\n",
        "# Exercise 2\n",
        "Check whether the waist circuference of the male population and females population is different.\n",
        "\n",
        "* Plot the waist circuference of the two sampled cohorts.\n",
        "\n",
        "* Which statistical test are you going to use?\n",
        "\n",
        "* State the null hypothesis, state the alternate hypothesis.\n",
        "\n",
        "* Define the significance threshold.\n",
        "\n",
        "\n",
        "\n",
        "\n",
        "\n",
        "* How do you interpret the results?\n",
        "\n"
      ]
    },
    {
      "cell_type": "code",
      "metadata": {
        "id": "uvPAswf61YcW"
      },
      "source": [
        "# Check whether the waist circuference of the male population and females population is different\n",
        "males = df['31-0.0'] == 1\n",
        "females = df['31-0.0'] == 0"
      ],
      "execution_count": null,
      "outputs": []
    },
    {
      "cell_type": "code",
      "metadata": {
        "colab": {
          "base_uri": "https://localhost:8080/",
          "height": 296
        },
        "id": "Q-CIw4yThF0X",
        "outputId": "9dce1563-72f7-4963-cae2-049632d35e47"
      },
      "source": [
        "# Plot the waist circumference of the two populations\n",
        "plt.hist(df[males]['48-0.0'], alpha=0.4, color='green', label = 'males')\n",
        "plt.hist(df[females]['48-0.0'], alpha = 0.4, color='orange', label = 'females')\n",
        "plt.xlabel(\"Waist circumference [cm]\")\n",
        "plt.ylabel(\"Individuals [counts]\")\n",
        "plt.legend()"
      ],
      "execution_count": null,
      "outputs": [
        {
          "output_type": "execute_result",
          "data": {
            "text/plain": [
              "<matplotlib.legend.Legend at 0x7f6bf4af31d0>"
            ]
          },
          "metadata": {},
          "execution_count": 60
        },
        {
          "output_type": "display_data",
          "data": {
            "image/png": "[encoded data removed]",
            "text/plain": [
              "<Figure size 432x288 with 1 Axes>"
            ]
          },
          "metadata": {
            "needs_background": "light"
          }
        }
      ]
    },
    {
      "cell_type": "markdown",
      "metadata": {
        "id": "J_I0pgNzhhZq"
      },
      "source": [
        "**Which statistical test are you going to use?**\n",
        "\n",
        "Z-test (because we are comparing two populations)\n",
        "\n",
        "**State the null hypothesis, state the alternate hypothesis.**\n",
        "\n",
        "* Null hypothesis: the two populations have same mean for waist circumference.\n",
        "\n",
        "* Alternate hypothesis: the two populations have different mean for waist circumference.\n",
        "\n",
        "**Define the significance threshold.**\n",
        "\n",
        "Significance threshold will be 0.05 from a two-tailed test (we do not know already if the mean of one population is bigger than the other)"
      ]
    },
    {
      "cell_type": "code",
      "metadata": {
        "colab": {
          "base_uri": "https://localhost:8080/"
        },
        "id": "MW06pjvuij_t",
        "outputId": "d775f7d9-7218-4d01-f746-439ae0d1a02d"
      },
      "source": [
        "# remove nan\n",
        "df = df.dropna(subset=['48-0.0'])\n",
        "males = df['31-0.0'] == 1\n",
        "females = df['31-0.0'] == 0\n",
        "ztest(df[males]['48-0.0'], df[females]['48-0.0'], alternative='two-sided')"
      ],
      "execution_count": null,
      "outputs": [
        {
          "output_type": "execute_result",
          "data": {
            "text/plain": [
              "(71.67733702981381, 0.0)"
            ]
          },
          "metadata": {},
          "execution_count": 74
        }
      ]
    },
    {
      "cell_type": "markdown",
      "metadata": {
        "id": "5IIZurA2jLRD"
      },
      "source": [
        "**How do you interpret the results?**\n",
        "\n",
        "The two populations have significantly different mean for waist circumference because the pvalue of the statistical test is less than the 0.05 significance threshold."
      ]
    },
    {
      "cell_type": "markdown",
      "metadata": {
        "id": "hXA2W1hyg9bU"
      },
      "source": [
        "# Exercise 3\n",
        "Is diabetes and age related?\n",
        "\n",
        "* Divide the population in different age brackets. \n",
        "\n",
        "* Plot the percentage of diabetic patients among the different age buckets.\n",
        "\n",
        "* Which statistical test are you going to use?\n",
        "\n",
        "* State the null hypothesis, state the alternate hypothesis.\n",
        "\n",
        "* Define the significance threshold.\n",
        "\n",
        "* Run the test and interpret the results."
      ]
    },
    {
      "cell_type": "code",
      "metadata": {
        "colab": {
          "base_uri": "https://localhost:8080/",
          "height": 296
        },
        "id": "dW09PayIjY6y",
        "outputId": "ae51dd89-0d21-427f-a579-310c4fa9add2"
      },
      "source": [
        "# Divide the population in different age brackets.\n",
        "\n",
        "# check the age distribution first to determine the age brackets\n",
        "# Diabetes diagnosed by doctor\t2443-0.0\n",
        "#\tAgeRecruit\t21022-0.0\n",
        "\n",
        "plt.hist(df['21022-0.0'], bins=5)\n",
        "plt.xlabel('Age [years]')\n",
        "plt.ylabel('Individuals [counts]')"
      ],
      "execution_count": null,
      "outputs": [
        {
          "output_type": "execute_result",
          "data": {
            "text/plain": [
              "Text(0, 0.5, 'Individuals [counts]')"
            ]
          },
          "metadata": {},
          "execution_count": 79
        },
        {
          "output_type": "display_data",
          "data": {
            "image/png": "[encoded data removed]",
            "text/plain": [
              "<Figure size 432x288 with 1 Axes>"
            ]
          },
          "metadata": {
            "needs_background": "light"
          }
        }
      ]
    },
    {
      "cell_type": "code",
      "metadata": {
        "id": "ap669G7pjm4V"
      },
      "source": [
        "# let's divide the population in 5 groups\n",
        "age = {}\n",
        "age[0] = df['21022-0.0']<50\n",
        "age[1] = (df['21022-0.0']>=50) & (df['21022-0.0']<55)\n",
        "age[2] = (df['21022-0.0']>=55) & (df['21022-0.0']<60)\n",
        "age[3] = (df['21022-0.0']>=60) & (df['21022-0.0']<65)\n",
        "age[4] = df['21022-0.0']>=65 "
      ],
      "execution_count": null,
      "outputs": []
    },
    {
      "cell_type": "code",
      "metadata": {
        "colab": {
          "base_uri": "https://localhost:8080/",
          "height": 355
        },
        "id": "HaYrejMrkcOW",
        "outputId": "818bd0cf-e371-41a3-9a3a-21ec4014fcd6"
      },
      "source": [
        "plt.bar(height= [len(df[age[i]]['21022-0.0']) for i in range(5)], \n",
        "        x = ['age<50','50<=age<55','55<=age<60','60<=age<65','age>=65'])\n",
        "plt.xlabel('Age range')\n",
        "plt.xticks(rotation = 90)\n",
        "plt.ylabel('Individuals [counts]')"
      ],
      "execution_count": null,
      "outputs": [
        {
          "output_type": "execute_result",
          "data": {
            "text/plain": [
              "Text(0, 0.5, 'Individuals [counts]')"
            ]
          },
          "metadata": {},
          "execution_count": 115
        },
        {
          "output_type": "display_data",
          "data": {
            "image/png": "[encoded data removed]",
            "text/plain": [
              "<Figure size 432x288 with 1 Axes>"
            ]
          },
          "metadata": {
            "needs_background": "light"
          }
        }
      ]
    },
    {
      "cell_type": "code",
      "metadata": {
        "colab": {
          "base_uri": "https://localhost:8080/",
          "height": 355
        },
        "id": "bjnhB5xbk2gB",
        "outputId": "ac0c80ce-3657-456d-ca26-12bc2e693aae"
      },
      "source": [
        "# Plot the percentage of diabetic patients among the different age buckets\n",
        "\n",
        "\n",
        "plt.bar(height= [100* df[age[i]]['2443-0.0'].value_counts(normalize = True).at[1] for i in range(5)], \n",
        "        x = ['age<50','50<=age<55','55<=age<60','60<=age<65','age>=65'])\n",
        "plt.xlabel('Age range')\n",
        "plt.xticks(rotation = 90)\n",
        "plt.ylabel('Diabetic individuals [%')"
      ],
      "execution_count": null,
      "outputs": [
        {
          "output_type": "execute_result",
          "data": {
            "text/plain": [
              "Text(0, 0.5, 'Diabetic individuals [%')"
            ]
          },
          "metadata": {},
          "execution_count": 116
        },
        {
          "output_type": "display_data",
          "data": {
            "image/png": "[encoded data removed]",
            "text/plain": [
              "<Figure size 432x288 with 1 Axes>"
            ]
          },
          "metadata": {
            "needs_background": "light"
          }
        }
      ]
    },
    {
      "cell_type": "markdown",
      "metadata": {
        "id": "p0NTUt4on0sk"
      },
      "source": [
        "**Which statistical test are you going to use?**\n",
        "\n",
        " Chi-square\n",
        "\n",
        "**State the null hypothesis, state the alternate hypothesis.**\n",
        "* Null hypothesis: the different age ranges have *identical* proportion of diabetic individuals\n",
        "* Alternate hypothesis: the different age ranges have *different* proportion of diabetic individuals\n",
        "\n",
        "**Define the significance threshold.**\n",
        "\n",
        "Significance threshold will be 0.05 from a two-tailed test (we do not know already if one population has a bigger/smaller proportion than the others)\n"
      ]
    },
    {
      "cell_type": "code",
      "metadata": {
        "colab": {
          "base_uri": "https://localhost:8080/"
        },
        "id": "YDkhEZ5Gn0Lw",
        "outputId": "86d7fd5f-12a0-4506-9695-7f1a1baa7c83"
      },
      "source": [
        "# Run the test and interpret the results.\n",
        "\n",
        "#create a categorical column for age ranges\n",
        "\n",
        "conditions = [df['21022-0.0']<50,  (df['21022-0.0']>=50) & (df['21022-0.0']<55),\n",
        "              (df['21022-0.0']>=55) & (df['21022-0.0']<60),\n",
        "              (df['21022-0.0']>=60) & (df['21022-0.0']<65),\n",
        "              df['21022-0.0']>=65 ]\n",
        "choices = ['age<50','50<=age<55','55<=age<60','60<=age<65','age>=65']\n",
        "\n",
        "df['age_range'] = np.select(conditions, choices, default = np.nan)\n",
        "\n",
        "df['age_range'].value_counts()"
      ],
      "execution_count": null,
      "outputs": [
        {
          "output_type": "execute_result",
          "data": {
            "text/plain": [
              "60<=age<65    4854\n",
              "age<50        4552\n",
              "age>=65       3891\n",
              "55<=age<60    3645\n",
              "50<=age<55    2955\n",
              "Name: age_range, dtype: int64"
            ]
          },
          "metadata": {},
          "execution_count": 125
        }
      ]
    },
    {
      "cell_type": "code",
      "metadata": {
        "id": "HUqArc-koqhZ"
      },
      "source": [
        "# clean the data for diabetic patients \n",
        "\n",
        "df = df[df['2443-0.0'] >=0]"
      ],
      "execution_count": null,
      "outputs": []
    },
    {
      "cell_type": "code",
      "metadata": {
        "id": "fGlVadDHo_Nw"
      },
      "source": [
        "data_crosstab = pd.crosstab(df['age_range'],\n",
        "                            df['2443-0.0'],\n",
        "                           margins=True, margins_name=\"Total\")"
      ],
      "execution_count": null,
      "outputs": []
    },
    {
      "cell_type": "code",
      "metadata": {
        "colab": {
          "base_uri": "https://localhost:8080/",
          "height": 266
        },
        "id": "7x2CtqrupEsB",
        "outputId": "c69e394a-bfd5-432d-9a2f-b4ef5a12d933"
      },
      "source": [
        "data_crosstab"
      ],
      "execution_count": null,
      "outputs": [
        {
          "output_type": "execute_result",
          "data": {
            "text/html": [
              "<div>\n",
              "<style scoped>\n",
              "    .dataframe tbody tr th:only-of-type {\n",
              "        vertical-align: middle;\n",
              "    }\n",
              "\n",
              "    .dataframe tbody tr th {\n",
              "        vertical-align: top;\n",
              "    }\n",
              "\n",
              "    .dataframe thead th {\n",
              "        text-align: right;\n",
              "    }\n",
              "</style>\n",
              "<table border=\"1\" class=\"dataframe\">\n",
              "  <thead>\n",
              "    <tr style=\"text-align: right;\">\n",
              "      <th>2443-0.0</th>\n",
              "      <th>0.0</th>\n",
              "      <th>1.0</th>\n",
              "      <th>Total</th>\n",
              "    </tr>\n",
              "    <tr>\n",
              "      <th>age_range</th>\n",
              "      <th></th>\n",
              "      <th></th>\n",
              "      <th></th>\n",
              "    </tr>\n",
              "  </thead>\n",
              "  <tbody>\n",
              "    <tr>\n",
              "      <th>50&lt;=age&lt;55</th>\n",
              "      <td>2836</td>\n",
              "      <td>119</td>\n",
              "      <td>2955</td>\n",
              "    </tr>\n",
              "    <tr>\n",
              "      <th>55&lt;=age&lt;60</th>\n",
              "      <td>3452</td>\n",
              "      <td>193</td>\n",
              "      <td>3645</td>\n",
              "    </tr>\n",
              "    <tr>\n",
              "      <th>60&lt;=age&lt;65</th>\n",
              "      <td>4554</td>\n",
              "      <td>300</td>\n",
              "      <td>4854</td>\n",
              "    </tr>\n",
              "    <tr>\n",
              "      <th>age&lt;50</th>\n",
              "      <td>4425</td>\n",
              "      <td>127</td>\n",
              "      <td>4552</td>\n",
              "    </tr>\n",
              "    <tr>\n",
              "      <th>age&gt;=65</th>\n",
              "      <td>3568</td>\n",
              "      <td>323</td>\n",
              "      <td>3891</td>\n",
              "    </tr>\n",
              "    <tr>\n",
              "      <th>Total</th>\n",
              "      <td>18835</td>\n",
              "      <td>1062</td>\n",
              "      <td>19897</td>\n",
              "    </tr>\n",
              "  </tbody>\n",
              "</table>\n",
              "</div>"
            ],
            "text/plain": [
              "2443-0.0      0.0   1.0  Total\n",
              "age_range                     \n",
              "50<=age<55   2836   119   2955\n",
              "55<=age<60   3452   193   3645\n",
              "60<=age<65   4554   300   4854\n",
              "age<50       4425   127   4552\n",
              "age>=65      3568   323   3891\n",
              "Total       18835  1062  19897"
            ]
          },
          "metadata": {},
          "execution_count": 127
        }
      ]
    },
    {
      "cell_type": "code",
      "metadata": {
        "colab": {
          "base_uri": "https://localhost:8080/"
        },
        "id": "KDHUIl6spK9x",
        "outputId": "d29b9309-653f-468f-9aed-8b6bc951d853"
      },
      "source": [
        "import scipy\n",
        "stat, p, dof, expected = scipy.stats.chi2_contingency(data_crosstab.iloc[0:-1,0:-1])\n",
        "print('pvalue: ', p)\n",
        "print('degrees of freedom: ', dof)\n",
        "print('expected ', expected)"
      ],
      "execution_count": null,
      "outputs": [
        {
          "output_type": "stream",
          "name": "stdout",
          "text": [
            "pvalue:  6.451947511312587e-30\n",
            "degrees of freedom:  4\n",
            "expected  [[2797.27722772  157.72277228]\n",
            " [3450.44856008  194.55143992]\n",
            " [4594.9183294   259.0816706 ]\n",
            " [4309.03754335  242.96245665]\n",
            " [3683.31833945  207.68166055]]\n"
          ]
        }
      ]
    },
    {
      "cell_type": "markdown",
      "metadata": {
        "id": "XMbTYog9qKrA"
      },
      "source": [
        "**Interpret the results**\n",
        "\n",
        "The percentage of diabetic individuals significantly differs across different age ranges (the obtained p-value of the chi-square distribution is lower than the defined threshold)."
      ]
    },
    {
      "cell_type": "code",
      "metadata": {
        "id": "mw7KH8F0qalk"
      },
      "source": [
        ""
      ],
      "execution_count": null,
      "outputs": []
    }
  ]
}