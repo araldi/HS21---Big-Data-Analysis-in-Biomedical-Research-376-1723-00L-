{
  "nbformat": 4,
  "nbformat_minor": 0,
  "metadata": {
    "colab": {
      "name": "LinearModels_part1.ipynb",
      "provenance": [],
      "collapsed_sections": [],
      "authorship_tag": "ABX9TyP40o2QKs6i7sQtUXjLIRsU",
      "include_colab_link": true
    },
    "kernelspec": {
      "name": "python3",
      "display_name": "Python 3"
    },
    "language_info": {
      "name": "python"
    }
  },
  "cells": [
    {
      "cell_type": "markdown",
      "metadata": {
        "id": "view-in-github",
        "colab_type": "text"
      },
      "source": [
        "<a href=\"https://colab.research.google.com/github/araldi/HS21---Big-Data-Analysis-in-Biomedical-Research-376-1723-00L-/blob/main/Week5/LinearModels_part1.ipynb\" target=\"_parent\"><img src=\"https://colab.research.google.com/assets/colab-badge.svg\" alt=\"Open In Colab\"/></a>"
      ]
    },
    {
      "cell_type": "markdown",
      "metadata": {
        "id": "1P36FEdRWbjB"
      },
      "source": [
        "# Optimizing the objective functions"
      ]
    },
    {
      "cell_type": "code",
      "metadata": {
        "id": "IAWcBD2EYPgB"
      },
      "source": [
        "import pandas as pd\n",
        "import numpy as np\n",
        "import matplotlib.pyplot as plt\n",
        "import seaborn as sns\n",
        "\n",
        "df = pd.read_csv('https://github.com/araldi/HS21---Big-Data-Analysis-in-Biomedical-Research-376-1723-00L-/blob/main/Week5/Week5_statistics_exercise.csv?raw=true')\n",
        "dictionary = pd.read_csv('https://raw.githubusercontent.com/araldi/HS21---Big-Data-Analysis-in-Biomedical-Research-376-1723-00L-/main/Week3/Week3_homework_dictionary_part1.csv')"
      ],
      "execution_count": null,
      "outputs": []
    },
    {
      "cell_type": "markdown",
      "metadata": {
        "id": "iaXwInDwY_TV"
      },
      "source": [
        "Let's check the relationship between IGF-1 and age."
      ]
    },
    {
      "cell_type": "code",
      "metadata": {
        "id": "SQLIU5n7Yh7V"
      },
      "source": [
        "df.head()"
      ],
      "execution_count": null,
      "outputs": []
    },
    {
      "cell_type": "code",
      "metadata": {
        "id": "cTmaDoBJY4Ar"
      },
      "source": [
        "dictionary"
      ],
      "execution_count": null,
      "outputs": []
    },
    {
      "cell_type": "code",
      "metadata": {
        "id": "FCq6KZNSZgoM"
      },
      "source": [
        "df.dropna(subset = ['21022-0.0', '30770-0.0'], inplace =True)"
      ],
      "execution_count": null,
      "outputs": []
    },
    {
      "cell_type": "code",
      "metadata": {
        "id": "YDJlfceNZ1cR"
      },
      "source": [
        "# Let's look at the data\n",
        "plt.figure(figsize = (10,10))\n",
        "plt.scatter(df['21022-0.0'], df['30770-0.0'], s=1)\n",
        "plt.ylim(0, 60)"
      ],
      "execution_count": null,
      "outputs": []
    },
    {
      "cell_type": "code",
      "metadata": {
        "id": "T4ZImIsyNOfy"
      },
      "source": [
        "from scipy.optimize import minimize\n",
        "def line(x, b, a): #function to minimize\n",
        "    return a * x + b #line equation\n",
        "\n",
        "def fitfunc(args, x, y):\n",
        "    a, b = args\n",
        "    return sum((y - line(a, b, x))**2) # L2 objective function\n",
        " \n",
        "x = df['21022-0.0']\n",
        "y = df['30770-0.0']\n",
        "initialGuess = (0, 40)\n",
        " \n",
        "fitfunc(initialGuess, x, y)\n",
        "solution = minimize(fitfunc, initialGuess, args=(x, y)) # minimize the objective function"
      ],
      "execution_count": null,
      "outputs": []
    },
    {
      "cell_type": "code",
      "metadata": {
        "id": "Jc51P_Fhbzku"
      },
      "source": [
        "solution"
      ],
      "execution_count": null,
      "outputs": []
    },
    {
      "cell_type": "code",
      "metadata": {
        "id": "OZ2A9TAQbvMu"
      },
      "source": [
        "a, b = solution['x'][0], solution['x'][1]"
      ],
      "execution_count": null,
      "outputs": []
    },
    {
      "cell_type": "code",
      "metadata": {
        "id": "fvG1j5qYah6z"
      },
      "source": [
        "plt.figure(figsize = (10,10))\n",
        "plt.scatter(df['21022-0.0'], df['30770-0.0'], s=2, c='brown', alpha = 0.1)\n",
        "plt.ylim(0, 60)\n",
        "\n",
        "x = np.linspace(df['21022-0.0'].min(), df['21022-0.0'].max())\n",
        "y = a * x + b\n",
        "\n",
        "plt.plot(x, y, color = 'k', linestyle = '--')\n",
        "plt.xlabel('Age [Years]')\n",
        "plt.ylabel('IGF-1 [nmol/L]')\n",
        "plt.title('Linear relationship between IGF-1 and age')"
      ],
      "execution_count": null,
      "outputs": []
    },
    {
      "cell_type": "code",
      "metadata": {
        "id": "igbpxgieZdqI"
      },
      "source": [
        "def line(a, b, c, x): #function to minimize\n",
        "    return a * x**2 + b * x + c #second order equation\n",
        "\n",
        "def fitfunc(args, x, y):\n",
        "    a, b, c = args\n",
        "    return sum((y - line(a, b, c, x))**2) # L2 objective function\n",
        "                                          # sum of squared residuals\n",
        " \n",
        "x = df['21022-0.0']\n",
        "y = df['30770-0.0']\n",
        "initialGuess = (1, 1, 1)\n",
        " \n",
        "fitfunc(initialGuess, x, y)\n",
        "solution = minimize(fitfunc, initialGuess, args=(x, y)) # minimize the objective function"
      ],
      "execution_count": null,
      "outputs": []
    },
    {
      "cell_type": "code",
      "metadata": {
        "id": "veB6IVu7c4rM"
      },
      "source": [
        "solution"
      ],
      "execution_count": null,
      "outputs": []
    },
    {
      "cell_type": "code",
      "metadata": {
        "id": "iIlX6mBpc84k"
      },
      "source": [
        "a, b, c = solution['x'][0], solution['x'][1], solution['x'][2]\n",
        "\n",
        "x = df['21022-0.0']\n",
        "y = df['30770-0.0']\n",
        "\n",
        "plt.figure(figsize = (10,10))\n",
        "plt.scatter(df['21022-0.0'], df['30770-0.0'], s=2, c='brown', alpha = 0.1)\n",
        "plt.ylim(0, 60)\n",
        "\n",
        "x = np.linspace(df['21022-0.0'].min(), df['21022-0.0'].max())\n",
        "y = a * x**2 + b * x + c\n",
        "\n",
        "plt.plot(x, y, color = 'k', linestyle = '--')\n",
        "plt.xlabel('Age [Years]')\n",
        "plt.ylabel('IGF-1 [nmol/L]')\n",
        "plt.title('Second order relationship between IGF-1 and age')"
      ],
      "execution_count": null,
      "outputs": []
    },
    {
      "cell_type": "markdown",
      "metadata": {
        "id": "rHcXrAYkkaUv"
      },
      "source": [
        "### Use np.polyfit"
      ]
    },
    {
      "cell_type": "code",
      "metadata": {
        "id": "KLksc969dJ72"
      },
      "source": [
        "# first order with polyfit\n",
        "x = df['21022-0.0']\n",
        "y = df['30770-0.0']\n",
        "args = np.polyfit(x,y,1)"
      ],
      "execution_count": null,
      "outputs": []
    },
    {
      "cell_type": "code",
      "metadata": {
        "id": "Wv3uP1J5iux8"
      },
      "source": [
        "a, b = args\n",
        "plt.figure(figsize = (10,10))\n",
        "plt.scatter(df['21022-0.0'], df['30770-0.0'], s=2, c='brown', alpha = 0.1)\n",
        "plt.ylim(0, 60)\n",
        "\n",
        "x = np.linspace(df['21022-0.0'].min(), df['21022-0.0'].max())\n",
        "y = a * x + b\n",
        "\n",
        "plt.plot(x, y, color = 'k', linestyle = '--')\n",
        "plt.xlabel('Age [Years]')\n",
        "plt.ylabel('IGF-1 [nmol/L]')\n",
        "plt.title('Linear relationship between IGF-1 and age')"
      ],
      "execution_count": null,
      "outputs": []
    },
    {
      "cell_type": "code",
      "metadata": {
        "id": "YD0PC8m5hidB"
      },
      "source": [
        "# second order with polyfit\n",
        "x = df['21022-0.0']\n",
        "y = df['30770-0.0']\n",
        "args = np.polyfit(x,y,2)"
      ],
      "execution_count": null,
      "outputs": []
    },
    {
      "cell_type": "code",
      "metadata": {
        "id": "UHntdWnIh3J4"
      },
      "source": [
        "a, b, c = args\n",
        "\n",
        "plt.figure(figsize = (10,10))\n",
        "plt.scatter(df['21022-0.0'], df['30770-0.0'], s=2, c='brown', alpha = 0.1)\n",
        "plt.ylim(0, 60)\n",
        "\n",
        "x = np.linspace(df['21022-0.0'].min(), df['21022-0.0'].max())\n",
        "y = a * x**2 + b * x + c\n",
        "\n",
        "plt.plot(x, y, color = 'k', linestyle = '--')\n",
        "plt.xlabel('Age [Years]')\n",
        "plt.ylabel('IGF-1 [nmol/L]')\n",
        "plt.title('Second order relationship between IGF-1 and age')"
      ],
      "execution_count": null,
      "outputs": []
    },
    {
      "cell_type": "markdown",
      "metadata": {
        "id": "0Hk7JX9l7dF3"
      },
      "source": [
        "# Multiple linear regression"
      ]
    },
    {
      "cell_type": "code",
      "metadata": {
        "id": "boQtlhiN97Mt"
      },
      "source": [
        "dictionary['Description_cols'] = dictionary['Description'].str.split(' ').str[0]"
      ],
      "execution_count": null,
      "outputs": []
    },
    {
      "cell_type": "code",
      "metadata": {
        "id": "I4m3bGKO91_N"
      },
      "source": [
        "dict_columns = {}\n",
        "for index, value in enumerate(dictionary['Code']):\n",
        "  dict_columns[value] = dictionary.loc[index, \"Description_cols\"]"
      ],
      "execution_count": null,
      "outputs": []
    },
    {
      "cell_type": "code",
      "metadata": {
        "id": "1MzCYpnV-L-L"
      },
      "source": [
        "df.rename(columns = dict_columns, inplace = True)"
      ],
      "execution_count": null,
      "outputs": []
    },
    {
      "cell_type": "code",
      "metadata": {
        "id": "xUofBOzo-oiv"
      },
      "source": [
        "dictionary"
      ],
      "execution_count": null,
      "outputs": []
    },
    {
      "cell_type": "code",
      "metadata": {
        "id": "naI3dEvqCy8A"
      },
      "source": [
        "# prepare the data\n",
        "df = df.dropna()"
      ],
      "execution_count": null,
      "outputs": []
    },
    {
      "cell_type": "markdown",
      "metadata": {
        "id": "Ugs9sMdTZVOJ"
      },
      "source": [
        "### Test the assumptions"
      ]
    },
    {
      "cell_type": "code",
      "metadata": {
        "id": "Uacp4e6lO90O"
      },
      "source": [
        "# Check the residuals for glucose\n",
        "# according to assumptions, they have to be normally distributed\n",
        "\n",
        "#define figure size\n",
        "fig = plt.figure(figsize=(12,8))\n",
        "\n",
        "#produce regression plots\n",
        "fig = sm.graphics.plot_regress_exog(res, 'Glucose', fig=fig)"
      ],
      "execution_count": null,
      "outputs": []
    },
    {
      "cell_type": "code",
      "metadata": {
        "id": "y4RsrBudYe7A"
      },
      "source": [
        "# check covariance\n",
        "\n",
        "sns.pairplot(df.select_dtypes(exclude = 'int64'))\n",
        "# took 2 minutes to run"
      ],
      "execution_count": null,
      "outputs": []
    },
    {
      "cell_type": "code",
      "metadata": {
        "id": "tnSX4kd9Zgat"
      },
      "source": [
        "# Plot heatmap for feature covariance\n",
        "plt.figure(figsize = (14,10))\n",
        "sns.set(font_scale = 2)\n",
        "s = sns.heatmap(df.select_dtypes(exclude = 'int64').cov())"
      ],
      "execution_count": null,
      "outputs": []
    },
    {
      "cell_type": "code",
      "metadata": {
        "id": "1vlxtE-rxZ8R"
      },
      "source": [
        "# importing module\n",
        "import statsmodels.api as sm\n",
        "import statsmodels.formula.api as smf\n",
        "\n",
        "# fitting the data\n",
        "mod = smf.ols(formula='Glycated ~ Glucose', data=df)\n",
        "\n",
        "res = mod.fit()\n",
        "res.summary()"
      ],
      "execution_count": null,
      "outputs": []
    },
    {
      "cell_type": "code",
      "metadata": {
        "id": "Gb4pGDQ-hgQN"
      },
      "source": [
        "# standardize the data\n",
        "def standardize(x):\n",
        "  return (x - np.mean(x))/np.std(x)"
      ],
      "execution_count": null,
      "outputs": []
    },
    {
      "cell_type": "code",
      "metadata": {
        "id": "KEXgvruCh0rk"
      },
      "source": [
        "for i in df.select_dtypes(exclude = 'int64'):\n",
        "  df[i] = standardize(df[i])\n"
      ],
      "execution_count": null,
      "outputs": []
    },
    {
      "cell_type": "code",
      "metadata": {
        "id": "AX-zvrfhj2Qt"
      },
      "source": [
        "df.select_dtypes(exclude = 'int64'). describe()"
      ],
      "execution_count": null,
      "outputs": []
    },
    {
      "cell_type": "code",
      "metadata": {
        "id": "C4UOvf8PiO2T"
      },
      "source": [
        "# importing module\n",
        "import statsmodels.api as sm\n",
        "import statsmodels.formula.api as smf\n",
        "\n",
        "# fitting the data\n",
        "mod = smf.ols(formula='Glycated ~ Glucose', data=df)\n",
        "\n",
        "res = mod.fit()\n",
        "res.summary()"
      ],
      "execution_count": null,
      "outputs": []
    },
    {
      "cell_type": "markdown",
      "metadata": {
        "id": "3jnXrN66Db9h"
      },
      "source": [
        "### Exercise\n",
        "Play around with dependent variables to get the best possible model that describes (and predicts) glucose and LDL"
      ]
    },
    {
      "cell_type": "code",
      "metadata": {
        "id": "v1z_0HWnDFD9"
      },
      "source": [
        "# example\n",
        "mod = smf.ols(formula='Glycated ~ Glucose + Q(\"IGF-1\") + AgeRecruit', data=df)\n",
        "res = mod.fit()\n",
        "res.summary()"
      ],
      "execution_count": null,
      "outputs": []
    },
    {
      "cell_type": "code",
      "metadata": {
        "id": "ELmq0OWPxZ4W"
      },
      "source": [
        ""
      ],
      "execution_count": null,
      "outputs": []
    },
    {
      "cell_type": "code",
      "metadata": {
        "id": "ujSjQuPHSZfy"
      },
      "source": [
        ""
      ],
      "execution_count": null,
      "outputs": []
    }
  ]
}