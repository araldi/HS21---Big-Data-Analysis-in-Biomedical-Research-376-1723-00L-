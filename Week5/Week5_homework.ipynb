{
  "nbformat": 4,
  "nbformat_minor": 0,
  "metadata": {
    "colab": {
      "name": "Week5_homework.ipynb",
      "provenance": [],
      "collapsed_sections": [],
      "include_colab_link": true
    },
    "kernelspec": {
      "name": "python3",
      "display_name": "Python 3"
    },
    "language_info": {
      "name": "python"
    }
  },
  "cells": [
    {
      "cell_type": "markdown",
      "metadata": {
        "id": "view-in-github",
        "colab_type": "text"
      },
      "source": [
        "<a href=\"https://colab.research.google.com/github/araldi/HS21---Big-Data-Analysis-in-Biomedical-Research-376-1723-00L-/blob/main/Week5/Week5_homework.ipynb\" target=\"_parent\"><img src=\"https://colab.research.google.com/assets/colab-badge.svg\" alt=\"Open In Colab\"/></a>"
      ]
    },
    {
      "cell_type": "markdown",
      "metadata": {
        "id": "V_QTMgmki7Ja"
      },
      "source": [
        "Load the dataset and the dictionary to decode the columns.\n",
        "\n",
        "```\n",
        "df = pd.read_csv('https://github.com/araldi/HS21---Big-Data-Analysis-in-Biomedical-Research-376-1723-00L-/blob/main/Week5/Week5_statistics_exercise.csv?raw=true')\n",
        "```\n",
        "\n",
        "\n",
        "\n",
        "\n",
        "```\n",
        "df_dict = pd.read_csv('https://raw.githubusercontent.com/araldi/HS21---Big-Data-Analysis-in-Biomedical-Research-376-1723-00L-/main/Week5/df_dictionary.csv')\n",
        "\n",
        "```\n",
        "\n",
        "\n"
      ]
    },
    {
      "cell_type": "markdown",
      "metadata": {
        "id": "FsyQ3qR93ISH"
      },
      "source": [
        "# Exercise 1\n",
        "### Part a\n",
        "\n",
        "Sample 25 individuals among males and 25 individuals among females and perform an appropriate test to check whether the two sampled cohorts have the same height.\n",
        "\n",
        "* Plot the height of the two sampled cohorts.\n",
        "\n",
        "* Which statistical test are you going to use?\n",
        "\n",
        "* State the null hypothesis, state the alternate hypothesis.\n",
        "\n",
        "* Define the significance threshold.\n",
        "\n",
        "\n",
        "\n",
        "* How do you interpret the results?\n",
        "\n",
        "### Part b\n",
        "Sample two groups of 25 males, run a statistical test to check if the height of the two groups are different. \n",
        "* Run 1000 simulations of similar samples and statistical tests, and save each p-value in an array.\n",
        "\n",
        "* Plot the distribution of the p-values of the statistical tests.\n",
        "\n",
        "* What do you notice?  \n",
        "\n",
        "\n",
        "\n",
        "# Exercise 2\n",
        "Check whether the waist circuference of the male population and females population is different.\n",
        "\n",
        "* Plot the waist circuference of the two sampled cohorts.\n",
        "\n",
        "* Which statistical test are you going to use?\n",
        "\n",
        "* State the null hypothesis, state the alternate hypothesis.\n",
        "\n",
        "* Define the significance threshold.\n",
        "\n",
        "\n",
        "\n",
        "\n",
        "\n",
        "* How do you interpret the results?\n",
        "\n",
        "# Exercise 3\n",
        "Is diabetes and age related?\n",
        "\n",
        "* Divide the population in different age brackets. \n",
        "\n",
        "* Plot the percentage of diabetic patients among the different age buckets.\n",
        "\n",
        "* Which statistical test are you going to use?\n",
        "\n",
        "* State the null hypothesis, state the alternate hypothesis.\n",
        "\n",
        "* Define the significance threshold.\n",
        "\n",
        "* Run the test and interpret the results."
      ]
    },
    {
      "cell_type": "code",
      "metadata": {
        "id": "uvPAswf61YcW"
      },
      "source": [
        ""
      ],
      "execution_count": null,
      "outputs": []
    }
  ]
}