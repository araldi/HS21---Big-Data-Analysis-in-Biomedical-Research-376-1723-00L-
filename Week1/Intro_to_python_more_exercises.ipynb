{
  "nbformat": 4,
  "nbformat_minor": 0,
  "metadata": {
    "colab": {
      "name": "Intro_to_python_more_exercises.ipynb",
      "provenance": [],
      "include_colab_link": true
    },
    "kernelspec": {
      "name": "python3",
      "display_name": "Python 3"
    },
    "language_info": {
      "name": "python"
    }
  },
  "cells": [
    {
      "cell_type": "markdown",
      "metadata": {
        "id": "view-in-github",
        "colab_type": "text"
      },
      "source": [
        "<a href=\"https://colab.research.google.com/github/araldi/HS21---Big-Data-Analysis-in-Biomedical-Research-376-1723-00L-/blob/main/Intro_to_python_more_exercises.ipynb\" target=\"_parent\"><img src=\"https://colab.research.google.com/assets/colab-badge.svg\" alt=\"Open In Colab\"/></a>"
      ]
    },
    {
      "cell_type": "markdown",
      "metadata": {
        "id": "m_DZO2Qjrv9Q"
      },
      "source": [
        "## A couple more things to learn\n",
        "\n",
        "### built-in function enumerate()\n",
        "enumerate() loops over an iterable object and keep track of how many iterations have occurred."
      ]
    },
    {
      "cell_type": "code",
      "metadata": {
        "id": "_zbU64B1sLiy"
      },
      "source": [
        "# enumerate() example\n",
        "\n",
        "months = ['Jan','Feb','Mar','Apr','May','Jun','Jul','Aug','Sep','Oct','Nov','Dec']\n",
        "\n",
        "for iteration, element in enumerate(months):\n",
        "  print(\"iteration: \", iteration)\n",
        "  print(\"element name: \", element)"
      ],
      "execution_count": null,
      "outputs": []
    },
    {
      "cell_type": "code",
      "metadata": {
        "id": "kODgahc2tRjs"
      },
      "source": [
        "for iteration, element in enumerate(months):\n",
        "  print(\"month number {} is {}\".format(iteration +1, element))"
      ],
      "execution_count": null,
      "outputs": []
    },
    {
      "cell_type": "code",
      "metadata": {
        "id": "_CCL0TV3swhN"
      },
      "source": [
        "for iteration, element in enumerate(months):\n",
        "  print(\"month number {month_number} is {element}\".format(month_number = iteration +1, element = element))"
      ],
      "execution_count": null,
      "outputs": []
    },
    {
      "cell_type": "markdown",
      "metadata": {
        "id": "iu1BDVM8tgge"
      },
      "source": [
        "### Function\n",
        "\n",
        "A function is a block of code which only runs when it is called.\n",
        "\n",
        "You can pass data, known as parameters, into a function.\n",
        "\n",
        "A function can return data as a result.\n",
        "\n",
        "It increases the readability of the code, and allows for faster coding of repetitive operations."
      ]
    },
    {
      "cell_type": "code",
      "metadata": {
        "id": "1qCP_dYOtzi7"
      },
      "source": [
        "# synthax of a function\n",
        "\n",
        "def boring_sum_function(parameter1, parameter2):\n",
        "  sum = parameter1 + parameter2\n",
        "  return sum\n",
        "\n",
        "# note that nothing happens when the cell is run"
      ],
      "execution_count": 10,
      "outputs": []
    },
    {
      "cell_type": "code",
      "metadata": {
        "id": "8u4SPKEevs1V"
      },
      "source": [
        "#minimal function\n",
        "\n",
        "def boring_sum_function(parameter1, parameter2):\n",
        "  return parameter1 + parameter2\n"
      ],
      "execution_count": null,
      "outputs": []
    },
    {
      "cell_type": "code",
      "metadata": {
        "id": "BEGG6yesuOLj"
      },
      "source": [
        "# call the function\n",
        "boring_sum_function(1,3)\n"
      ],
      "execution_count": null,
      "outputs": []
    },
    {
      "cell_type": "code",
      "metadata": {
        "id": "5MZDkeCFu5pO"
      },
      "source": [
        "# try again\n",
        "boring_sum_function(\"boring\",3)"
      ],
      "execution_count": null,
      "outputs": []
    },
    {
      "cell_type": "code",
      "metadata": {
        "id": "3Y8ah_4uvP5x"
      },
      "source": [
        "# try again\n",
        "boring_sum_function(1,3,4)"
      ],
      "execution_count": null,
      "outputs": []
    },
    {
      "cell_type": "code",
      "metadata": {
        "id": "L5QdaIyHuUaB"
      },
      "source": [
        "def less_boring_sum_function(parameter1, parameter2):\n",
        "  '''\n",
        "  DOCSTRING:\n",
        "  this functions returns the sum of the two parameters\n",
        "  '''\n",
        "  sum = parameter1 + parameter2\n",
        "  print(\"I will now return the sum of the input parameters:\")\n",
        "  return sum"
      ],
      "execution_count": 14,
      "outputs": []
    },
    {
      "cell_type": "code",
      "metadata": {
        "id": "vaEGhrkSunxy"
      },
      "source": [
        "less_boring_sum_function?"
      ],
      "execution_count": 15,
      "outputs": []
    },
    {
      "cell_type": "code",
      "metadata": {
        "id": "6ma8sUFeusTB"
      },
      "source": [
        "help(less_boring_sum_function)"
      ],
      "execution_count": null,
      "outputs": []
    },
    {
      "cell_type": "code",
      "metadata": {
        "id": "yJovp1zyudm2"
      },
      "source": [
        "less_boring_sum_function(1, 2)"
      ],
      "execution_count": null,
      "outputs": []
    },
    {
      "cell_type": "markdown",
      "metadata": {
        "id": "G4wUQL43ZTBJ"
      },
      "source": [
        "## if-else, for loop exercises\n",
        "\n"
      ]
    },
    {
      "cell_type": "markdown",
      "metadata": {
        "id": "HV07P7uKrdxS"
      },
      "source": [
        "#### A calendar"
      ]
    },
    {
      "cell_type": "markdown",
      "metadata": {
        "id": "ZE-Mj_7cZHD5"
      },
      "source": [
        "Create a for loop (possibly a nested for loop) which writes out\n",
        "the month, day, and day of the week for each day of the year\n",
        "and that works for both years with 28 days in feb, and 29 days in feb\n",
        "just by changing the value of the variable feb\n",
        "it should look like this, in the case of a year starting on a Monday (simplest case)"
      ]
    },
    {
      "cell_type": "code",
      "metadata": {
        "id": "lecD5l_NRslK"
      },
      "source": [
        "days_of_the_week = ['M','Tue','W','Thr','F','Sat','Sun']\n",
        "months = ['Jan','Feb','Mar','Apr','May','Jun','Jul','Aug','Sep','Oct','Nov','Dec']\n",
        "feb = 29\n",
        "month_lenght = [31, feb, 31, 30, 31, 30, 31, 31, 30, 31, 30, 31]"
      ],
      "execution_count": 2,
      "outputs": []
    },
    {
      "cell_type": "markdown",
      "metadata": {
        "id": "w2q2t7XKv7jt"
      },
      "source": [
        "The output could be like this, for example:"
      ]
    },
    {
      "cell_type": "code",
      "metadata": {
        "colab": {
          "base_uri": "https://localhost:8080/"
        },
        "id": "P8eNNR1zv4Hd",
        "outputId": "aa1cd60c-8dde-4027-8265-c922d9c2c039"
      },
      "source": [
        "# output of code"
      ],
      "execution_count": 8,
      "outputs": [
        {
          "output_type": "stream",
          "name": "stdout",
          "text": [
            "1 Jan M\n",
            "2 Jan Tue\n",
            "3 Jan W\n",
            "4 Jan Thr\n",
            "5 Jan F\n",
            "6 Jan Sat\n",
            "7 Jan Sun\n",
            "8 Jan M\n",
            "9 Jan Tue\n",
            "10 Jan W\n",
            ". . .\n"
          ]
        }
      ]
    },
    {
      "cell_type": "code",
      "metadata": {
        "id": "nSVr0iJo-kL3"
      },
      "source": [
        "# HINT:\n",
        "\n",
        "# initialize your indexes and counters...\n",
        "\n",
        "#then open the month loop...\n",
        "for index, month in enumerate(months):  \n",
        "  # then open the day loop...\n",
        "\n",
        "  ## your solution\n"
      ],
      "execution_count": null,
      "outputs": []
    },
    {
      "cell_type": "markdown",
      "metadata": {
        "id": "4ho6sYWOwEE1"
      },
      "source": [
        "Can you recreate an output like this?"
      ]
    },
    {
      "cell_type": "code",
      "metadata": {
        "id": "oqCAZCdXWWjt",
        "colab": {
          "base_uri": "https://localhost:8080/"
        },
        "outputId": "c2e8cb65-8fc3-4895-84d0-8443b8f7ed15"
      },
      "source": [
        "# output of code"
      ],
      "execution_count": 10,
      "outputs": [
        {
          "output_type": "stream",
          "name": "stdout",
          "text": [
            "The 1st of Jan is a F\n",
            "The 2nd of Jan is a Sat\n",
            "The 3rd of Jan is a Sun\n",
            "The 4th of Jan is a M\n",
            "The 5th of Jan is a Tue\n",
            "The 6th of Jan is a W\n",
            "The 7th of Jan is a Thr\n",
            "The 8th of Jan is a F\n",
            "The 9th of Jan is a Sat\n",
            "The 10th of Jan is a Sun\n",
            "The 11th of Jan is a M\n",
            ". . .\n"
          ]
        }
      ]
    },
    {
      "cell_type": "code",
      "metadata": {
        "id": "3H1IuJBX_CJx"
      },
      "source": [
        "#HINT\n",
        "# Use a dictionary to choose the appropriate the suffix\n",
        "day_suffix_dict = {1: 'st', 2 : 'nd', 3: 'rd'}\n",
        "\n",
        "# your code..."
      ],
      "execution_count": null,
      "outputs": []
    },
    {
      "cell_type": "markdown",
      "metadata": {
        "id": "6_C_4zVr_Glz"
      },
      "source": [
        "Now modify the code to output the nth day of the year"
      ]
    },
    {
      "cell_type": "code",
      "metadata": {
        "colab": {
          "base_uri": "https://localhost:8080/"
        },
        "id": "zIePDi-2_gVy",
        "outputId": "bc81b057-6b45-4938-b813-fce3164180a9"
      },
      "source": [
        "# output of the code: example 1"
      ],
      "execution_count": 13,
      "outputs": [
        {
          "output_type": "stream",
          "name": "stdout",
          "text": [
            "which day: 360\n",
            "25 Dec W\n"
          ]
        }
      ]
    },
    {
      "cell_type": "code",
      "metadata": {
        "colab": {
          "base_uri": "https://localhost:8080/"
        },
        "id": "1R-vabdo_W98",
        "outputId": "51090f0a-a402-4259-a9f5-8c3d4cc0fb30"
      },
      "source": [
        "# output of the code: example 2"
      ],
      "execution_count": 11,
      "outputs": [
        {
          "output_type": "stream",
          "name": "stdout",
          "text": [
            "which day: 456\n",
            "that day does not exist\n"
          ]
        }
      ]
    },
    {
      "cell_type": "code",
      "metadata": {
        "id": "PWXZw1i0ww9z"
      },
      "source": [
        "# HINT\n",
        "nth_day = int(input(\"which day: \"))\n",
        "\n",
        "# use a counter to know when you are at the nth day\n",
        "counter = 0 # always initialized!\n",
        "\n",
        "# remember to consider if the input does not make sense! \n",
        "if nth_day <= 365:\n",
        "\n",
        "# your code\n",
        "\n",
        "else:\n",
        "  print('that day does not exist')\n",
        "    "
      ],
      "execution_count": null,
      "outputs": []
    },
    {
      "cell_type": "markdown",
      "metadata": {
        "id": "B8Tt1eTsrju_"
      },
      "source": [
        "#### Which day of the week?"
      ]
    },
    {
      "cell_type": "markdown",
      "metadata": {
        "id": "n9VPxkCDQiC8"
      },
      "source": [
        "Create a code whose output is which day of the week is any day in 2022 (in format dd/mm).\n",
        "\n",
        "Can you use functions where useful?\n",
        "\n",
        "2022 starts on Saturday and February has 28 days"
      ]
    },
    {
      "cell_type": "code",
      "metadata": {
        "colab": {
          "base_uri": "https://localhost:8080/"
        },
        "id": "5KbMBgFzQfEA",
        "outputId": "754d3b1b-335f-407e-baf0-bf94a13b14a3"
      },
      "source": [
        "# output of the code"
      ],
      "execution_count": 72,
      "outputs": [
        {
          "output_type": "stream",
          "name": "stdout",
          "text": [
            "Give me a dd/mm date in 2022: 24/09\n",
            "24/09/2022 is a Sat\n"
          ]
        }
      ]
    },
    {
      "cell_type": "code",
      "metadata": {
        "id": "yWESx5VU6dbC"
      },
      "source": [
        "# HINT\n",
        "# use a dictionary to input the info about the year\n",
        "year = {'feb' : 28,\n",
        "        'week_index' : 5,\n",
        "        'year' : 2022}\n",
        "\n",
        "#for example\n",
        "feb = year['feb'] \n",
        "month_lenght = [31, feb, 31, 30, 31, 30, 31, 31, 30, 31, 30, 31]\n",
        "\n",
        "week_index = year['week_index']\n",
        "\n",
        "yyyy = year['year']\n",
        "\n",
        "# you code ....\n",
        "\n",
        "# can you use functions?\n",
        "\n"
      ],
      "execution_count": null,
      "outputs": []
    }
  ]
}
