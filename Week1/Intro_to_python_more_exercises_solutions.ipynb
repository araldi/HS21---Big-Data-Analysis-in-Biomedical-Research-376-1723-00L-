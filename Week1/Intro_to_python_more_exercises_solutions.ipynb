{
  "nbformat": 4,
  "nbformat_minor": 0,
  "metadata": {
    "colab": {
      "name": "Intro_to_python_more_exercises_solutions.ipynb",
      "provenance": [],
      "include_colab_link": true
    },
    "kernelspec": {
      "name": "python3",
      "display_name": "Python 3"
    },
    "language_info": {
      "name": "python"
    }
  },
  "cells": [
    {
      "cell_type": "markdown",
      "metadata": {
        "id": "view-in-github",
        "colab_type": "text"
      },
      "source": [
        "<a href=\"https://colab.research.google.com/github/araldi/HS21---Big-Data-Analysis-in-Biomedical-Research-376-1723-00L-/blob/main/Intro_to_python_more_exercises_solutions.ipynb\" target=\"_parent\"><img src=\"https://colab.research.google.com/assets/colab-badge.svg\" alt=\"Open In Colab\"/></a>"
      ]
    },
    {
      "cell_type": "markdown",
      "metadata": {
        "id": "m_DZO2Qjrv9Q"
      },
      "source": [
        "## A couple more things to learn\n",
        "\n",
        "### built-in function enumerate()\n",
        "enumerate() loops over an iterable object and keep track of how many iterations have occurred."
      ]
    },
    {
      "cell_type": "code",
      "metadata": {
        "id": "_zbU64B1sLiy"
      },
      "source": [
        "# enumerate() example\n",
        "\n",
        "months = ['Jan','Feb','Mar','Apr','May','Jun','Jul','Aug','Sep','Oct','Nov','Dec']\n",
        "\n",
        "for iteration, element in enumerate(months):\n",
        "  print(\"iteration: \", iteration)\n",
        "  print(\"element name: \", element)"
      ],
      "execution_count": null,
      "outputs": []
    },
    {
      "cell_type": "code",
      "metadata": {
        "id": "kODgahc2tRjs"
      },
      "source": [
        "for iteration, element in enumerate(months):\n",
        "  print(\"month number {} is {}\".format(iteration +1, element))"
      ],
      "execution_count": null,
      "outputs": []
    },
    {
      "cell_type": "code",
      "metadata": {
        "id": "_CCL0TV3swhN"
      },
      "source": [
        "for iteration, element in enumerate(months):\n",
        "  print(\"month number {month_number} is {element}\".format(month_number = iteration +1, element = element))"
      ],
      "execution_count": null,
      "outputs": []
    },
    {
      "cell_type": "markdown",
      "metadata": {
        "id": "iu1BDVM8tgge"
      },
      "source": [
        "### Function\n",
        "\n",
        "A function is a block of code which only runs when it is called.\n",
        "\n",
        "You can pass data, known as parameters, into a function.\n",
        "\n",
        "A function can return data as a result.\n",
        "\n",
        "It increases the readability of the code, and allows for faster coding of repetitive operations."
      ]
    },
    {
      "cell_type": "code",
      "metadata": {
        "id": "1qCP_dYOtzi7"
      },
      "source": [
        "# synthax of a function\n",
        "\n",
        "def boring_sum_function(parameter1, parameter2):\n",
        "  sum = parameter1 + parameter2\n",
        "  return sum\n",
        "\n",
        "# note that nothing happens when the cell is run"
      ],
      "execution_count": null,
      "outputs": []
    },
    {
      "cell_type": "code",
      "metadata": {
        "id": "8u4SPKEevs1V"
      },
      "source": [
        "#minimal function\n",
        "\n",
        "def boring_sum_function(parameter1, parameter2):\n",
        "  return parameter1 + parameter2\n"
      ],
      "execution_count": null,
      "outputs": []
    },
    {
      "cell_type": "code",
      "metadata": {
        "id": "BEGG6yesuOLj"
      },
      "source": [
        "# call the function\n",
        "boring_sum_function(1,3)\n"
      ],
      "execution_count": null,
      "outputs": []
    },
    {
      "cell_type": "code",
      "metadata": {
        "id": "5MZDkeCFu5pO"
      },
      "source": [
        "# try again\n",
        "boring_sum_function(\"boring\",3)"
      ],
      "execution_count": null,
      "outputs": []
    },
    {
      "cell_type": "code",
      "metadata": {
        "id": "3Y8ah_4uvP5x"
      },
      "source": [
        "# try again\n",
        "boring_sum_function(1,3,4)"
      ],
      "execution_count": null,
      "outputs": []
    },
    {
      "cell_type": "code",
      "metadata": {
        "id": "L5QdaIyHuUaB"
      },
      "source": [
        "def less_boring_sum_function(parameter1, parameter2):\n",
        "  '''\n",
        "  DOCSTRING:\n",
        "  this functions returns the sum of the two parameters\n",
        "  '''\n",
        "  sum = parameter1 + parameter2\n",
        "  print(\"I will now return the sum of the input parameters:\")\n",
        "  return sum"
      ],
      "execution_count": null,
      "outputs": []
    },
    {
      "cell_type": "code",
      "metadata": {
        "id": "vaEGhrkSunxy"
      },
      "source": [
        "less_boring_sum_function?"
      ],
      "execution_count": null,
      "outputs": []
    },
    {
      "cell_type": "code",
      "metadata": {
        "id": "6ma8sUFeusTB"
      },
      "source": [
        "help(less_boring_sum_function)"
      ],
      "execution_count": null,
      "outputs": []
    },
    {
      "cell_type": "code",
      "metadata": {
        "id": "yJovp1zyudm2"
      },
      "source": [
        "less_boring_sum_function(1, 2)"
      ],
      "execution_count": null,
      "outputs": []
    },
    {
      "cell_type": "markdown",
      "metadata": {
        "id": "G4wUQL43ZTBJ"
      },
      "source": [
        "## if-else, for loop exercises\n",
        "\n"
      ]
    },
    {
      "cell_type": "markdown",
      "metadata": {
        "id": "HV07P7uKrdxS"
      },
      "source": [
        "#### A calendar"
      ]
    },
    {
      "cell_type": "markdown",
      "metadata": {
        "id": "ZE-Mj_7cZHD5"
      },
      "source": [
        "Create a for loop (possibly a nested for loop) which writes out\n",
        "the month, day, and day of the week for each day of the year\n",
        "and that works for both years with 28 days in feb, and 29 days in feb\n",
        "just by changing the value of the variable feb\n",
        "it should look like this, in the case of a year starting on a Monday (simplest case)"
      ]
    },
    {
      "cell_type": "code",
      "metadata": {
        "id": "lecD5l_NRslK"
      },
      "source": [
        "days_of_the_week = ['M','Tue','W','Thr','F','Sat','Sun']\n",
        "months = ['Jan','Feb','Mar','Apr','May','Jun','Jul','Aug','Sep','Oct','Nov','Dec']\n",
        "feb = 29\n",
        "month_lenght = [31, feb, 31, 30, 31, 30, 31, 31, 30, 31, 30, 31]"
      ],
      "execution_count": null,
      "outputs": []
    },
    {
      "cell_type": "markdown",
      "metadata": {
        "id": "w2q2t7XKv7jt"
      },
      "source": [
        "The output could be like this, for example:"
      ]
    },
    {
      "cell_type": "code",
      "metadata": {
        "id": "P8eNNR1zv4Hd"
      },
      "source": [
        "\n",
        "week_index = 0\n",
        "\n",
        "#for example....\n",
        "for index, month in enumerate(months):  \n",
        "\n",
        "# remove\n",
        "\n",
        "  for day in range(month_lenght[index]):\n",
        "    day = day + 1\n",
        "    weekday = days_of_the_week[week_index]\n",
        "    week_index +=1\n",
        "    if week_index == 7:\n",
        "      week_index = 0\n",
        "\n",
        "    print('{0} {1} {2}'.format(day,  month, weekday))\n"
      ],
      "execution_count": null,
      "outputs": []
    },
    {
      "cell_type": "markdown",
      "metadata": {
        "id": "4ho6sYWOwEE1"
      },
      "source": [
        "Can you recreate an output like this?"
      ]
    },
    {
      "cell_type": "code",
      "metadata": {
        "id": "oqCAZCdXWWjt"
      },
      "source": [
        "#HINT\n",
        "# Use a dictionary to choose the appropriate the suffix\n",
        "day_suffix_dict = {1: 'st', 2 : 'nd', 3: 'rd'}\n",
        "\n",
        "week_index = 0\n",
        "\n",
        "#remove\n",
        "\n",
        "for index, month in enumerate(months):  \n",
        "  for day in range(month_lenght[index]):\n",
        "    day = day + 1\n",
        "    weekday = days_of_the_week[week_index]\n",
        "    week_index +=1\n",
        "    if week_index == 7:\n",
        "      week_index = 0\n",
        "    # give the right suffix to the day\n",
        "    if day in day_suffix_dict.keys():\n",
        "      day_suffix = day_suffix_dict[day]\n",
        "    else:\n",
        "      day_suffix = 'th'\n",
        "    print('The {0}{1} of {2} is a {3}'.format(day, day_suffix, month, weekday))\n"
      ],
      "execution_count": null,
      "outputs": []
    },
    {
      "cell_type": "code",
      "metadata": {
        "colab": {
          "base_uri": "https://localhost:8080/"
        },
        "id": "PWXZw1i0ww9z",
        "outputId": "7c551b07-38a2-4ef2-cb32-8110179f67d9"
      },
      "source": [
        "# now modify the code to output the nth day of the year\n",
        "\n",
        "week_index = 0\n",
        "counter = 0\n",
        "nth_day = int(input(\"which day: \"))\n",
        "\n",
        "if nth_day <= 365:\n",
        "  for index, month in enumerate(months):  \n",
        "    for day in range(month_lenght[index]):\n",
        "      counter +=1 \n",
        "      day = day + 1\n",
        "      weekday = days_of_the_week[week_index]\n",
        "      week_index +=1\n",
        "      if week_index == 7:\n",
        "        week_index = 0\n",
        "\n",
        "      if counter == nth_day:\n",
        "        break\n",
        "    \n",
        "    if counter == nth_day:\n",
        "      break\n",
        "\n",
        "      \n",
        "  print('{0} {1} {2}'.format(day,  month, weekday))\n",
        "\n",
        "else:\n",
        "  print('that day does not exist')\n",
        "    "
      ],
      "execution_count": null,
      "outputs": [
        {
          "output_type": "stream",
          "name": "stdout",
          "text": [
            "which day: 57\n",
            "26 Feb M\n"
          ]
        }
      ]
    },
    {
      "cell_type": "code",
      "metadata": {
        "id": "yWESx5VU6dbC"
      },
      "source": [
        ""
      ],
      "execution_count": null,
      "outputs": []
    }
  ]
}
