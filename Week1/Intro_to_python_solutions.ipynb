{
  "nbformat": 4,
  "nbformat_minor": 0,
  "metadata": {
    "colab": {
      "name": "Intro_to_python_solutions.ipynb",
      "provenance": [],
      "collapsed_sections": [
        "omNYmYEqS1ns",
        "50Fkw8odjMG-",
        "qUYtvb6vS5yE",
        "3R0LZAyPS-Uf",
        "ikJ_D77OTIGd"
      ],
      "authorship_tag": "ABX9TyNNTwp2QUKndwe60Xi+LDns",
      "include_colab_link": true
    },
    "kernelspec": {
      "name": "python3",
      "display_name": "Python 3"
    },
    "language_info": {
      "name": "python"
    }
  },
  "cells": [
    {
      "cell_type": "markdown",
      "metadata": {
        "id": "view-in-github",
        "colab_type": "text"
      },
      "source": [
        "<a href=\"https://colab.research.google.com/github/araldi/HS21---Big-Data-Analysis-in-Biomedical-Research-376-1723-00L-/blob/main/Intro_to_python_solutions.ipynb\" target=\"_parent\"><img src=\"https://colab.research.google.com/assets/colab-badge.svg\" alt=\"Open In Colab\"/></a>"
      ]
    },
    {
      "cell_type": "markdown",
      "metadata": {
        "id": "t06jHd-S5dhL"
      },
      "source": [
        "# **Python general introduction**"
      ]
    },
    {
      "cell_type": "markdown",
      "metadata": {
        "id": "9xPOtPbVY1Bs"
      },
      "source": [
        "## **Basics of Python**\n",
        "\n",
        "Python is interactive. \n",
        "You can run each line of code, one at the time (in terminal, >>>).\n",
        "\n",
        "In particular, using notebooks such as Google Colab or Jupyter Notebook/Lab lets you write, save and execute code, one cell at the time.\n",
        "\n",
        "Each line is a \"sentence\" and it will be executed independently.\n",
        "\n",
        "Below is a code cell with a short Python script that computes a value, stores it in a variable, and prints the result:"
      ]
    },
    {
      "cell_type": "code",
      "metadata": {
        "id": "CgMc7W-ud63B"
      },
      "source": [
        "simple_sum = 1 + 2 + 3\n",
        "simple_sum"
      ],
      "execution_count": null,
      "outputs": []
    },
    {
      "cell_type": "markdown",
      "metadata": {
        "id": "HaI_wwtWh3xR"
      },
      "source": [
        "To execute the code in the above cell, select it with a click and then either press the play button to the left of the code, or use the keyboard shortcut **Command/Ctrl+Enter**. \n",
        "\n",
        "To edit the code, just click the cell and start editing. Move from cell to cell with up/down arrows.\n",
        "\n",
        "Variables that you define in one cell can later be used in other cells:"
      ]
    },
    {
      "cell_type": "code",
      "metadata": {
        "id": "JELN-Zn3h3Cc"
      },
      "source": [
        "simple_multiplication = simple_sum * simple_sum\n",
        "simple_multiplication\n"
      ],
      "execution_count": null,
      "outputs": []
    },
    {
      "cell_type": "markdown",
      "metadata": {
        "id": "FbLQkoU9iI_7"
      },
      "source": [
        "##### Exercise\n",
        "\n",
        "Calculate how many seconds in a day using the variable seconds_in_day and how many seconds in a week using the variable seconds_in_week, from the variable seconds_in_day"
      ]
    },
    {
      "cell_type": "code",
      "metadata": {
        "id": "PEUqlW-miHdA"
      },
      "source": [
        "seconds_in_day = "
      ],
      "execution_count": null,
      "outputs": []
    },
    {
      "cell_type": "code",
      "metadata": {
        "id": "zPIUCZ7Xid1r"
      },
      "source": [
        "seconds_in_week = "
      ],
      "execution_count": null,
      "outputs": []
    },
    {
      "cell_type": "markdown",
      "metadata": {
        "id": "sj4jmA9XitqI"
      },
      "source": [
        "### Get help"
      ]
    },
    {
      "cell_type": "markdown",
      "metadata": {
        "id": "LAZwq4fcK03G"
      },
      "source": [
        "\n",
        "Your python editor is your friend. It opens and closes parenthesis for you, it indents automatically, it colors the text making it easier to visually find what you need.\n",
        "\n",
        "While you type, using the TAB key in the editor usually gives potential options and completes names/funtions (preexisting variables, arguments in funtions, etc). This saves spelling mistakes: use extensively.\n",
        "\n",
        "Also, the notebook helps with function and options. Either run help(what_you_are_looking_for) or what_you_are_looking_for?\n",
        "\n",
        "\n"
      ]
    },
    {
      "cell_type": "code",
      "metadata": {
        "id": "f2x_QOYZeboD"
      },
      "source": [
        "help(print)"
      ],
      "execution_count": null,
      "outputs": []
    },
    {
      "cell_type": "code",
      "metadata": {
        "id": "1NX8z4Sld6G0"
      },
      "source": [
        "print?"
      ],
      "execution_count": null,
      "outputs": []
    },
    {
      "cell_type": "markdown",
      "metadata": {
        "id": "IHFMMEqmjBZT"
      },
      "source": [
        "##### Exercise\n",
        "\n",
        "Get help on the function len() and on the function range()."
      ]
    },
    {
      "cell_type": "markdown",
      "metadata": {
        "id": "C1-ueIIov47c"
      },
      "source": [
        "### Errors\n",
        "\n",
        "Do not freeze with errors. \n",
        "\n",
        "Look first what type of error it is (the example below it is a NameError), \n",
        "then where it is (convenient ----> pointing to line 1)\n",
        "\n",
        "If you do not know what they mean, google them.\n",
        "\n",
        "Error messages will tell you exactly **WHAT** is going wrong and **WHERE**"
      ]
    },
    {
      "cell_type": "code",
      "metadata": {
        "id": "CKkO2Nz5TRZJ"
      },
      "source": [
        "problem"
      ],
      "execution_count": null,
      "outputs": []
    },
    {
      "cell_type": "markdown",
      "metadata": {
        "id": "aON1xZ4uilaV"
      },
      "source": [
        "### Comments"
      ]
    },
    {
      "cell_type": "code",
      "metadata": {
        "id": "gGJC0FTcI05W"
      },
      "source": [
        "# This is a single line comment\n",
        "# whatever is after the '#' character will not be considered\n",
        "# keyboard shortcut: select line to comment/decomment and command/control + '/'\n",
        "\n",
        "##########################################################\n",
        "###\n",
        "###\n",
        "### Comments help with readability of your code.\n",
        "### Use them extensively to remind yourself in the future why you did something in your code\n",
        "###\n",
        "###\n",
        "##########################################################\n",
        "\n",
        "### You can be very creative with comments\n",
        "  #           *     ,MMM8&&&.            *\n",
        "  #                 MMMM88&&&&&    .\n",
        "  #                MMMM88&&&&&&&\n",
        "  #    *           MMM88&&&&&&&&\n",
        "  #                MMM88&&&&&&&&\n",
        "  #                'MMM88&&&&&&'\n",
        "  #                  'MMM8&&&'      *    \n",
        "  #         |\\___/|     /\\___/\\\n",
        "  #         )     (     )    ~( .              '\n",
        "  #        =\\     /=   =\\~    /=\n",
        "  #          )===(       ) ~ (\n",
        "  #         /     \\     /     \\\n",
        "  #         |     |     ) ~   (\n",
        "  #        /       \\   /     ~ \\\n",
        "  #        \\       /   \\~     ~/\n",
        "  # ____/\\_/\\__  _/_/\\_/\\__~__/_/\\_/\\_/\\_/\\_/\\_\n",
        "  # |  |  |  |( (  |  |  | ))  |  |  |  |  |  |\n",
        "  # |  |  |  | ) ) |  |  |//|  |  |  |  |  |  |\n",
        "  # |  |  |  |(_(  |  |  (( |  |  |  |  |  |  |\n",
        "  # |  |  |  |  |  |  |  |\\)|  |  |  |  |  |  |\n",
        "  # |  |  |  |  |  |  |  |  |  |  |  |  |  |  |\n",
        "\n",
        "\n",
        "\"\"\"\n",
        "This is a multiline comment\n",
        "written in more than one line\n",
        "and it does not generate an output\n",
        "\"\"\"\n",
        "\n",
        "print('only this will be printed')  # print is a built-in function that prints the object"
      ],
      "execution_count": null,
      "outputs": []
    },
    {
      "cell_type": "markdown",
      "metadata": {
        "id": "4FR-XWCeedkQ"
      },
      "source": [
        "### Python Spaces, Lines, and Indentation\n",
        "\n",
        "Indentation refers to the spaces at the beginning of a code line.\n",
        "\n",
        "Python uses indentation to indicate a **block of code**. At least one space needs to be used for indentation, although usually 4 spaces or a tab are used.\n",
        "\n",
        "Also use blank lines and spaces to help readibility."
      ]
    },
    {
      "cell_type": "code",
      "metadata": {
        "colab": {
          "base_uri": "https://localhost:8080/"
        },
        "id": "WQCcbuGY1-aW",
        "outputId": "b76b55c3-6738-471f-b705-b6fcda102fbe"
      },
      "source": [
        "\n",
        "a = 0\n",
        "b = 2\n",
        "w = 5\n",
        "\n",
        "if a != b:\n",
        "  print('a different from b') # notice the indent\n"
      ],
      "execution_count": null,
      "outputs": [
        {
          "output_type": "stream",
          "name": "stdout",
          "text": [
            "a different from b\n"
          ]
        }
      ]
    },
    {
      "cell_type": "code",
      "metadata": {
        "colab": {
          "base_uri": "https://localhost:8080/"
        },
        "id": "ZDwtzDbRZ1sh",
        "outputId": "7ec3abba-b346-49c9-a729-ed5c8fea012c"
      },
      "source": [
        "# to write a sentence in more than one line, use \\\n",
        "\n",
        "if a == 0 and b > 1 \\\n",
        "  and b< 5\\\n",
        "  and w  ==5:\n",
        "    print('line joining 1')\n",
        "else:\n",
        "  print(\"line joining 2\")"
      ],
      "execution_count": null,
      "outputs": [
        {
          "output_type": "stream",
          "name": "stdout",
          "text": [
            "line joining 1\n"
          ]
        }
      ]
    },
    {
      "cell_type": "markdown",
      "metadata": {
        "id": "1v4H4_ywqHuZ"
      },
      "source": [
        "### Operators"
      ]
    },
    {
      "cell_type": "markdown",
      "metadata": {
        "id": "PyozmlyBAArr"
      },
      "source": [
        "#### Arithmetic"
      ]
    },
    {
      "cell_type": "code",
      "metadata": {
        "id": "VA6_iYNSAH7O"
      },
      "source": [
        "x = 10\n",
        "y = 15"
      ],
      "execution_count": null,
      "outputs": []
    },
    {
      "cell_type": "code",
      "metadata": {
        "id": "aBNaKSlgpsAB"
      },
      "source": [
        "# Addition\n",
        "x + y"
      ],
      "execution_count": null,
      "outputs": []
    },
    {
      "cell_type": "code",
      "metadata": {
        "id": "EFIrxZjM0tZg"
      },
      "source": [
        "# Subtraction\n",
        "x - y"
      ],
      "execution_count": null,
      "outputs": []
    },
    {
      "cell_type": "code",
      "metadata": {
        "id": "URppw5NZ0tgC"
      },
      "source": [
        "# Multiplication\n",
        "x * y"
      ],
      "execution_count": null,
      "outputs": []
    },
    {
      "cell_type": "code",
      "metadata": {
        "id": "KYI5g7HP-HA2"
      },
      "source": [
        "# Division\n",
        "x / y"
      ],
      "execution_count": null,
      "outputs": []
    },
    {
      "cell_type": "code",
      "metadata": {
        "id": "5nC-P5lS-HDs"
      },
      "source": [
        "# Modulus (remainder of the division)\n",
        "x % y"
      ],
      "execution_count": null,
      "outputs": []
    },
    {
      "cell_type": "code",
      "metadata": {
        "id": "FaQWRQtv-HGS"
      },
      "source": [
        "# Exponent\n",
        "x ** y"
      ],
      "execution_count": null,
      "outputs": []
    },
    {
      "cell_type": "code",
      "metadata": {
        "colab": {
          "base_uri": "https://localhost:8080/"
        },
        "id": "nRTjBme7-HI4",
        "outputId": "7ffb1b18-fb90-41bf-82cc-0786ae968b14"
      },
      "source": [
        "# Floor division (result is the quotient in which the digits after the decimal point are removed)\n",
        "y // x"
      ],
      "execution_count": null,
      "outputs": [
        {
          "output_type": "execute_result",
          "data": {
            "text/plain": [
              "1"
            ]
          },
          "metadata": {},
          "execution_count": 17
        }
      ]
    },
    {
      "cell_type": "markdown",
      "metadata": {
        "id": "ZrlHlc0h_uvH"
      },
      "source": [
        "#### Comparison operators"
      ]
    },
    {
      "cell_type": "code",
      "metadata": {
        "colab": {
          "base_uri": "https://localhost:8080/"
        },
        "id": "0mQmVpl-AGxX",
        "outputId": "a97ee8f5-45b6-4787-f24c-8f575ef2f448"
      },
      "source": [
        "# Equal\n",
        "x == y\n"
      ],
      "execution_count": null,
      "outputs": [
        {
          "output_type": "execute_result",
          "data": {
            "text/plain": [
              "True"
            ]
          },
          "metadata": {},
          "execution_count": 20
        }
      ]
    },
    {
      "cell_type": "code",
      "metadata": {
        "colab": {
          "base_uri": "https://localhost:8080/"
        },
        "id": "y_WYowGnAdTC",
        "outputId": "2714adc9-cd8a-4ed5-ac10-5ece40a859dc"
      },
      "source": [
        "# not equal\n",
        "x != y"
      ],
      "execution_count": null,
      "outputs": [
        {
          "output_type": "execute_result",
          "data": {
            "text/plain": [
              "False"
            ]
          },
          "metadata": {},
          "execution_count": 21
        }
      ]
    },
    {
      "cell_type": "code",
      "metadata": {
        "id": "Y9JnzgKtAdZ2"
      },
      "source": [
        "# greater than\n",
        "x > y"
      ],
      "execution_count": null,
      "outputs": []
    },
    {
      "cell_type": "code",
      "metadata": {
        "id": "cA-cAc21Adkh"
      },
      "source": [
        "# less than\n",
        "x < y"
      ],
      "execution_count": null,
      "outputs": []
    },
    {
      "cell_type": "code",
      "metadata": {
        "id": "dhRN96JVA0TU"
      },
      "source": [
        "# greater than or equal\n",
        "x >= y"
      ],
      "execution_count": null,
      "outputs": []
    },
    {
      "cell_type": "markdown",
      "metadata": {
        "id": "Ih9GIRD_OOGB"
      },
      "source": [
        "#### Logical operators"
      ]
    },
    {
      "cell_type": "code",
      "metadata": {
        "colab": {
          "base_uri": "https://localhost:8080/"
        },
        "id": "qubESzL8OQ02",
        "outputId": "d47ca49a-5336-48ca-9630-3da7eefad757"
      },
      "source": [
        "# and: is True if both x and y are true\n",
        "\n",
        "(x >10 and y >10)"
      ],
      "execution_count": null,
      "outputs": [
        {
          "output_type": "execute_result",
          "data": {
            "text/plain": [
              "False"
            ]
          },
          "metadata": {},
          "execution_count": 29
        }
      ]
    },
    {
      "cell_type": "code",
      "metadata": {
        "colab": {
          "base_uri": "https://localhost:8080/"
        },
        "id": "PgxThuaeORDz",
        "outputId": "e653bc7c-2c2f-4f63-80cd-9fc7fb75f775"
      },
      "source": [
        "# or: is True if either x or y is true\n",
        "\n",
        "(x >10 or y >10)"
      ],
      "execution_count": null,
      "outputs": [
        {
          "output_type": "execute_result",
          "data": {
            "text/plain": [
              "True"
            ]
          },
          "metadata": {},
          "execution_count": 27
        }
      ]
    },
    {
      "cell_type": "code",
      "metadata": {
        "colab": {
          "base_uri": "https://localhost:8080/"
        },
        "id": "Zr4V9O2uOjx2",
        "outputId": "86ff5029-429f-48ac-b87e-b5b1c7862d50"
      },
      "source": [
        "# not: If a condition is true then Logical not operator will make false.\n",
        "not(x >10 or y >10)"
      ],
      "execution_count": null,
      "outputs": [
        {
          "output_type": "execute_result",
          "data": {
            "text/plain": [
              "False"
            ]
          },
          "metadata": {},
          "execution_count": 30
        }
      ]
    },
    {
      "cell_type": "markdown",
      "metadata": {
        "id": "DjqnMVQSRKXS"
      },
      "source": [
        "#### Assignment operators"
      ]
    },
    {
      "cell_type": "code",
      "metadata": {
        "colab": {
          "base_uri": "https://localhost:8080/"
        },
        "id": "9-WzaDieR7QQ",
        "outputId": "c12488e6-b0bb-46c0-a54d-15d6cd5b9d7e"
      },
      "source": [
        "# add the two variables and assign the value to the left variable\n",
        "x+=y\n",
        "x"
      ],
      "execution_count": null,
      "outputs": [
        {
          "output_type": "execute_result",
          "data": {
            "text/plain": [
              "25"
            ]
          },
          "metadata": {},
          "execution_count": 31
        }
      ]
    },
    {
      "cell_type": "code",
      "metadata": {
        "colab": {
          "base_uri": "https://localhost:8080/"
        },
        "id": "3qihDSLTSGUz",
        "outputId": "6a5986c8-7830-4f23-e935-2e2c09d5110d"
      },
      "source": [
        "x+=1\n",
        "x"
      ],
      "execution_count": null,
      "outputs": [
        {
          "output_type": "execute_result",
          "data": {
            "text/plain": [
              "26"
            ]
          },
          "metadata": {},
          "execution_count": 32
        }
      ]
    },
    {
      "cell_type": "markdown",
      "metadata": {
        "id": "lEc1pWm5zQen"
      },
      "source": [
        "### Reserved words\n",
        "\n",
        "Do  not use the following words to store variables. They have a meaning and should not be used for other purposes!"
      ]
    },
    {
      "cell_type": "code",
      "metadata": {
        "id": "2aGdoz2XqNmh"
      },
      "source": [
        "False\t\n",
        "True\n",
        "\n",
        "None\n",
        "\n",
        "is\n",
        "in\t\n",
        "\n",
        "and\n",
        "or\n",
        "not\n",
        "\n",
        "if\t\n",
        "else\n",
        "elif\n",
        "\n",
        "while\n",
        "\n",
        "for\n",
        "\n",
        "break\n",
        "pass\n",
        "\n",
        "try\n",
        "except \n",
        "\n",
        "def\t\n",
        "return\n",
        "import\n",
        "as\n",
        "del \n",
        "lambda\n",
        "\n",
        "class\t\n",
        "from\n",
        "raise\t\n",
        "with\n",
        "assert\t\n",
        "finally\t\n",
        "nonlocal\t\n",
        "yield\n",
        "continue\t\n",
        "global\t\n"
      ],
      "execution_count": null,
      "outputs": []
    },
    {
      "cell_type": "markdown",
      "metadata": {
        "id": "UU4qlIhiIcuH"
      },
      "source": [
        "\n",
        "## **Data types**"
      ]
    },
    {
      "cell_type": "markdown",
      "metadata": {
        "id": "R2IFzb_ZhkDb"
      },
      "source": [
        "Python has the following data types built-in by default, in these categories:\n",
        "\n",
        "* Text Type:\tstr\n",
        "* Numeric Types:\tint, float, complex\n",
        "* Sequence Types:\tlist, tuple, range\n",
        "* Mapping Type:\tdict\n",
        "* Set Types:\tset, frozenset\n",
        "* Boolean Type:\tbool\n",
        "* Binary Types:\tbytes, bytearray, memoryview"
      ]
    },
    {
      "cell_type": "markdown",
      "metadata": {
        "id": "mywRDLg5YhKI"
      },
      "source": [
        "#### Simple variables\n",
        "Variables are reserved memory locations to store values.\n",
        "\n",
        "A variable can have a short name (like x and y) or a more descriptive name (age, total_volume, glucose, etc). \n",
        "\n",
        "Rules for Python variables:\n",
        "\n",
        "\n",
        "*   A variable name must start with a letter or the underscore character\n",
        "*   A variable name cannot start with a number\n",
        "*   A variable name can only contain alpha-numeric characters and underscores (A-z, 0-9, and _ ) - spaces are not allowed!\n",
        "*   Variable names are case-sensitive (age, Age and AGE are three different variables)\n"
      ]
    },
    {
      "cell_type": "code",
      "metadata": {
        "id": "V_t8UMyRIb-M"
      },
      "source": [
        "this_is_a_string = 'Hello World!'   # A string\n",
        "also_a_string = \"another String\"    # A string - ' and \" are equivalent\n",
        "this_is_an_integer = -64            # An integer assignment\n",
        "this_is_a_float = 123.0             # A floating point number, or float, is a number, \n",
        "                                    # positive or negative, containing one or more decimals\n",
        "also_a_float = 3.45e-5              # A float\n",
        "this_is_a_boolean = True            # A boolean\n",
        "also_a_boolean = False              # A boolean"
      ],
      "execution_count": null,
      "outputs": []
    },
    {
      "cell_type": "code",
      "metadata": {
        "id": "Wi3AQ30pK3qC"
      },
      "source": [
        "# multiple assignments\n",
        "this_is_a_string, this_is_an_integer, this_is_a_float, this_is_a_boolean = 'string', -64, 123.0, True"
      ],
      "execution_count": null,
      "outputs": []
    },
    {
      "cell_type": "markdown",
      "metadata": {
        "id": "LHO_A5I1Prf8"
      },
      "source": [
        "#### Other data types"
      ]
    },
    {
      "cell_type": "markdown",
      "metadata": {
        "id": "BjEPcOATQ5aW"
      },
      "source": [
        "**Lists**"
      ]
    },
    {
      "cell_type": "code",
      "metadata": {
        "id": "Ea28UxClPxKS"
      },
      "source": [
        "# lists\n",
        "this_is_a_list = []"
      ],
      "execution_count": null,
      "outputs": []
    },
    {
      "cell_type": "code",
      "metadata": {
        "colab": {
          "base_uri": "https://localhost:8080/"
        },
        "id": "sVEr01B8PxVR",
        "outputId": "319d82ed-3c23-4928-c340-8d9ee4072cfe"
      },
      "source": [
        "# lists can contain multiple data types\n",
        "this_is_a_list = ['string'] \n",
        "this_is_a_list"
      ],
      "execution_count": null,
      "outputs": [
        {
          "output_type": "execute_result",
          "data": {
            "text/plain": [
              "['string']"
            ]
          },
          "metadata": {},
          "execution_count": 8
        }
      ]
    },
    {
      "cell_type": "code",
      "metadata": {
        "colab": {
          "base_uri": "https://localhost:8080/"
        },
        "id": "YoGqPWnLQvJL",
        "outputId": "5a20078f-9799-4bae-e3f7-546264cbf201"
      },
      "source": [
        "# add objects to a list (as long as they are also in lists)\n",
        "this_is_a_list = this_is_a_list + ['element'] # + concatenates lists\n",
        "this_is_a_list = this_is_a_list + [True, False, True] + [35, -123.56]\n",
        "this_is_a_list"
      ],
      "execution_count": null,
      "outputs": [
        {
          "output_type": "execute_result",
          "data": {
            "text/plain": [
              "['string', 'element', True, False, True, 35, -123.56]"
            ]
          },
          "metadata": {},
          "execution_count": 9
        }
      ]
    },
    {
      "cell_type": "code",
      "metadata": {
        "colab": {
          "base_uri": "https://localhost:8080/"
        },
        "id": "She_oLbQQJr7",
        "outputId": "b237398c-8f04-42f7-fffe-02647f7bff5d"
      },
      "source": [
        "# remove objects from a list\n",
        "this_is_a_list.remove('string')\n",
        "this_is_a_list"
      ],
      "execution_count": null,
      "outputs": [
        {
          "output_type": "execute_result",
          "data": {
            "text/plain": [
              "['element', True, False, True, 35, -123.56]"
            ]
          },
          "metadata": {},
          "execution_count": 10
        }
      ]
    },
    {
      "cell_type": "code",
      "metadata": {
        "colab": {
          "base_uri": "https://localhost:8080/"
        },
        "id": "vNjYZZNORC3a",
        "outputId": "cc7f1aad-2a0f-45e4-ca5d-f6fdb246eae5"
      },
      "source": [
        "# access one or more element in the list with their index\n",
        "# remember that python starts to count from 0\n",
        "print(this_is_a_list)\n",
        "print(this_is_a_list[0])    # prints the first element of the list\n",
        "print(this_is_a_list[-1])   # prints the last element of the list\n",
        "print(this_is_a_list[2:4])  # prints a range of elements based on their indexes (slicing)\n",
        "print(this_is_a_list[::-2]) # prints every other element in reverse "
      ],
      "execution_count": null,
      "outputs": [
        {
          "output_type": "stream",
          "name": "stdout",
          "text": [
            "['element', True, False, True, 35, -123.56]\n",
            "element\n",
            "-123.56\n",
            "[False, True]\n",
            "[-123.56, True, True]\n"
          ]
        }
      ]
    },
    {
      "cell_type": "markdown",
      "metadata": {
        "id": "jU5qObV3Q9jH"
      },
      "source": [
        "**Tuples**"
      ]
    },
    {
      "cell_type": "markdown",
      "metadata": {
        "id": "HAQ6uHagb8dz"
      },
      "source": [
        "Tuples are like lists, except they are immutable (i.e. you cannot change its content once created) and can hold mix data types."
      ]
    },
    {
      "cell_type": "code",
      "metadata": {
        "id": "722uQWXEQem5"
      },
      "source": [
        "this_is_a_tuple = ('tuples', 'are', 'immutable')"
      ],
      "execution_count": null,
      "outputs": []
    },
    {
      "cell_type": "code",
      "metadata": {
        "colab": {
          "base_uri": "https://localhost:8080/"
        },
        "id": "feua-OwbcMCt",
        "outputId": "560f0ca5-dedf-411b-8285-3dde90d456d2"
      },
      "source": [
        "print(this_is_a_tuple[2])"
      ],
      "execution_count": null,
      "outputs": [
        {
          "output_type": "stream",
          "name": "stdout",
          "text": [
            "immutable\n"
          ]
        }
      ]
    },
    {
      "cell_type": "markdown",
      "metadata": {
        "id": "AbJR9MC90brm"
      },
      "source": [
        "**Dictionary**\n",
        "\n",
        "A dictionary is a container of key:value pairs.\n",
        "Each object or value accessed by key and keys are unique in the dictionary. As keys are used for indexing, they must be the immutable type (string, number, or tuple). \n",
        "\n",
        "You can create an empty dictionary using empty curly braces."
      ]
    },
    {
      "cell_type": "code",
      "metadata": {
        "id": "OQrHA9KM0nRM"
      },
      "source": [
        "this_is_a_dictionary = {\n",
        "        'ATA':'I', 'ATC':'I', 'ATT':'I', 'ATG':'M',\n",
        "        'ACA':'T', 'ACC':'T', 'ACG':'T', 'ACT':'T',\n",
        "        'AAC':'N', 'AAT':'N', 'AAA':'K', 'AAG':'K',\n",
        "        'AGC':'S', 'AGT':'S', 'AGA':'R', 'AGG':'R',                \n",
        "        'CTA':'L', 'CTC':'L', 'CTG':'L', 'CTT':'L',\n",
        "        'CCA':'P', 'CCC':'P', 'CCG':'P', 'CCT':'P',\n",
        "        'CAC':'H', 'CAT':'H', 'CAA':'Q', 'CAG':'Q',\n",
        "        'CGA':'R', 'CGC':'R', 'CGG':'R', 'CGT':'R',\n",
        "        'GTA':'V', 'GTC':'V', 'GTG':'V', 'GTT':'V',\n",
        "        'GCA':'A', 'GCC':'A', 'GCG':'A', 'GCT':'A',\n",
        "        'GAC':'D', 'GAT':'D', 'GAA':'E', 'GAG':'E',\n",
        "        'GGA':'G', 'GGC':'G', 'GGG':'G', 'GGT':'G',\n",
        "        'TCA':'S', 'TCC':'S', 'TCG':'S', 'TCT':'S',\n",
        "        'TTC':'F', 'TTT':'F', 'TTA':'L', 'TTG':'L',\n",
        "        'TAC':'Y', 'TAT':'Y', 'TAA':'_', 'TAG':'_',\n",
        "        'TGC':'C', 'TGT':'C', 'TGA':'_', 'TGG':'W'}"
      ],
      "execution_count": null,
      "outputs": []
    },
    {
      "cell_type": "code",
      "metadata": {
        "colab": {
          "base_uri": "https://localhost:8080/",
          "height": 35
        },
        "id": "8_drdoE2dLYi",
        "outputId": "be24636d-12e6-44f9-ec9a-fcd1c4fa7510"
      },
      "source": [
        "this_is_a_dictionary['GCG']"
      ],
      "execution_count": null,
      "outputs": [
        {
          "output_type": "execute_result",
          "data": {
            "application/vnd.google.colaboratory.intrinsic+json": {
              "type": "string"
            },
            "text/plain": [
              "'A'"
            ]
          },
          "metadata": {},
          "execution_count": 66
        }
      ]
    },
    {
      "cell_type": "code",
      "metadata": {
        "id": "ghOlGrHbdQXp"
      },
      "source": [
        "# you can add elements to the dictionary \n",
        "this_is_a_dictionary['element'] = 'something'"
      ],
      "execution_count": null,
      "outputs": []
    },
    {
      "cell_type": "markdown",
      "metadata": {
        "id": "y7lb6m-j0hUU"
      },
      "source": [
        "## **Statements**"
      ]
    },
    {
      "cell_type": "markdown",
      "metadata": {
        "id": "pWzamhR-0siP"
      },
      "source": [
        "#### if - elif - else\n",
        "\n",
        "It executes a set of statements conditionally, based on the value of a logical expression."
      ]
    },
    {
      "cell_type": "code",
      "metadata": {
        "id": "1PFkrtWwUkmb"
      },
      "source": [
        "x = 10\n",
        "if x > 10 :  # tests the logical expression\n",
        "  #does something - execute the statement\n",
        "  print('x is greater than ten')\n",
        "\n",
        "  #if the logical expression is not true, does nothing\n"
      ],
      "execution_count": null,
      "outputs": []
    },
    {
      "cell_type": "code",
      "metadata": {
        "id": "2784QxTcV00S"
      },
      "source": [
        "# else\n",
        "if x > 10 :  \n",
        "  print('x is greater than ten')\n",
        "else: # if the previous condition is not true, executes this statement\n",
        "  print('x is less than ten')"
      ],
      "execution_count": null,
      "outputs": []
    },
    {
      "cell_type": "code",
      "metadata": {
        "id": "sqPZJ7J2VT_l"
      },
      "source": [
        "# elif\n",
        "if x > 10 :  \n",
        "  print('x is greater than ten')\n",
        "elif x > 5: # tests another logical expression if the previous is not true\n",
        "  print('x is greater than five')\n",
        "# you can have infinite elif logical expressions to test, and if they\n",
        "else: # if any of the logical expressions are not true, executes this statement\n",
        "  print('x is less than ten')"
      ],
      "execution_count": null,
      "outputs": []
    },
    {
      "cell_type": "markdown",
      "metadata": {
        "id": "MxPqYQHS0u6o"
      },
      "source": [
        "#### for loop\n",
        "\n",
        "for loop is used to iterate over the items of any sequence including the Python list, string, tuple, dictionaries, etc"
      ]
    },
    {
      "cell_type": "code",
      "metadata": {
        "colab": {
          "base_uri": "https://localhost:8080/"
        },
        "id": "S-H-25AlUmys",
        "outputId": "4a8ed311-1d39-49d3-cbb3-cfce50cc8451"
      },
      "source": [
        "sequence = [\"Red\", \"Blue\", \"Green\", \"Black\"]\n",
        "for i in sequence:\n",
        "  # do something\n",
        "  print(i)\n",
        "  print(\"print again\", i)"
      ],
      "execution_count": null,
      "outputs": [
        {
          "output_type": "stream",
          "name": "stdout",
          "text": [
            "Red\n",
            "print again Red\n",
            "Blue\n",
            "print again Blue\n",
            "Green\n",
            "print again Green\n",
            "Black\n",
            "print again Black\n"
          ]
        }
      ]
    },
    {
      "cell_type": "code",
      "metadata": {
        "id": "53pCTSlGRMYr"
      },
      "source": [
        "sequence = range(0,11)\n",
        "\n",
        "# Python starts to count at 0\n",
        "for i in sequence:  \n",
        "  # range is a built-in function that returns a sequence of numbers, \n",
        "  # starting from 0 and increments by 1 (by default), the last integer is ignored\n",
        "  print(i)\n",
        "  if i in range(3,6):\n",
        "    print('%s is between 3 and 5' %i)"
      ],
      "execution_count": null,
      "outputs": []
    },
    {
      "cell_type": "markdown",
      "metadata": {
        "id": "uvkgOyTN0xHY"
      },
      "source": [
        "#### while\n",
        "\n",
        "A while loop repeateadly executes a block of program until the condition evaluated is False"
      ]
    },
    {
      "cell_type": "code",
      "metadata": {
        "colab": {
          "base_uri": "https://localhost:8080/"
        },
        "id": "pFt4UCucazuQ",
        "outputId": "c22a72ce-9cc2-4306-990a-1bc39d5f7345"
      },
      "source": [
        "x = 0\n",
        "\n",
        "while x < 10:\n",
        "  print(x)\n",
        "  x +=1"
      ],
      "execution_count": null,
      "outputs": [
        {
          "output_type": "stream",
          "name": "stdout",
          "text": [
            "0\n",
            "1\n",
            "2\n",
            "3\n",
            "4\n",
            "5\n",
            "6\n",
            "7\n",
            "8\n",
            "9\n"
          ]
        }
      ]
    },
    {
      "cell_type": "code",
      "metadata": {
        "id": "knpbsCF2bRfp"
      },
      "source": [
        "# careful not to enter an infinite loop!\n",
        "x = 0\n",
        "\n",
        "while x < 10:\n",
        "  print(x)\n"
      ],
      "execution_count": null,
      "outputs": []
    },
    {
      "cell_type": "code",
      "metadata": {
        "colab": {
          "base_uri": "https://localhost:8080/"
        },
        "id": "bVK0hmA9bcsF",
        "outputId": "418aea93-5f87-4fe1-f5f5-cdaa421f80ec"
      },
      "source": [
        "x = 0\n",
        "\n",
        "while x < 10:\n",
        "  print(x)\n",
        "  x +=1\n",
        "else:\n",
        "  print('the loop is over')"
      ],
      "execution_count": null,
      "outputs": [
        {
          "output_type": "stream",
          "name": "stdout",
          "text": [
            "0\n",
            "1\n",
            "2\n",
            "3\n",
            "4\n",
            "5\n",
            "6\n",
            "7\n",
            "8\n",
            "9\n",
            "the loop is over\n"
          ]
        }
      ]
    },
    {
      "cell_type": "code",
      "metadata": {
        "colab": {
          "base_uri": "https://localhost:8080/"
        },
        "id": "5BkxiTlabmjp",
        "outputId": "ecfd3c73-5bac-4b3e-ecc2-1ec46d83b354"
      },
      "source": [
        "x = 0\n",
        "\n",
        "while x < 10:\n",
        "  print(x)\n",
        "  x +=1\n",
        "  if x == 5:\n",
        "    break # finishes the loop\n"
      ],
      "execution_count": null,
      "outputs": [
        {
          "output_type": "stream",
          "name": "stdout",
          "text": [
            "0\n",
            "1\n",
            "2\n",
            "3\n",
            "4\n"
          ]
        }
      ]
    },
    {
      "cell_type": "markdown",
      "metadata": {
        "id": "R5ZR2OixCJo8"
      },
      "source": [
        "## **Built-in functions**"
      ]
    },
    {
      "cell_type": "markdown",
      "metadata": {
        "id": "omNYmYEqS1ns"
      },
      "source": [
        "#### **print()**"
      ]
    },
    {
      "cell_type": "code",
      "metadata": {
        "colab": {
          "base_uri": "https://localhost:8080/"
        },
        "id": "qKWp2Fx7HLw0",
        "outputId": "020bfe5b-3f2b-4153-c282-0b89ae8bb640"
      },
      "source": [
        "# The Python print function is often used to output variables.\n",
        "\n",
        "# assign a value to a variable, \n",
        "this_is_a_string = 'Hello World!'\n",
        "\n",
        "print(this_is_a_string)"
      ],
      "execution_count": null,
      "outputs": [
        {
          "output_type": "stream",
          "name": "stdout",
          "text": [
            "Hello World!\n"
          ]
        }
      ]
    },
    {
      "cell_type": "markdown",
      "metadata": {
        "id": "50Fkw8odjMG-"
      },
      "source": [
        "#### **len()**"
      ]
    },
    {
      "cell_type": "code",
      "metadata": {
        "colab": {
          "base_uri": "https://localhost:8080/"
        },
        "id": "o7A3LRjKjRt2",
        "outputId": "6363b52f-a669-4ea6-eab8-94ae01421c39"
      },
      "source": [
        "# the function len() outputs the length of the object\n",
        "len(this_is_a_string)"
      ],
      "execution_count": null,
      "outputs": [
        {
          "output_type": "execute_result",
          "data": {
            "text/plain": [
              "12"
            ]
          },
          "metadata": {},
          "execution_count": 40
        }
      ]
    },
    {
      "cell_type": "code",
      "metadata": {
        "colab": {
          "base_uri": "https://localhost:8080/",
          "height": 35
        },
        "id": "FOMUpH4kjcLu",
        "outputId": "31441ded-567a-44f9-9dbe-0bd10888aa0e"
      },
      "source": [
        "# access the last element of the string using len()\n",
        "this_is_a_string[len(this_is_a_string )-1]"
      ],
      "execution_count": null,
      "outputs": [
        {
          "output_type": "execute_result",
          "data": {
            "application/vnd.google.colaboratory.intrinsic+json": {
              "type": "string"
            },
            "text/plain": [
              "'!'"
            ]
          },
          "metadata": {},
          "execution_count": 42
        }
      ]
    },
    {
      "cell_type": "markdown",
      "metadata": {
        "id": "qUYtvb6vS5yE"
      },
      "source": [
        "#### **type()**"
      ]
    },
    {
      "cell_type": "code",
      "metadata": {
        "colab": {
          "base_uri": "https://localhost:8080/"
        },
        "id": "WdLxxwtvGoLF",
        "outputId": "245f0fd6-c868-480b-9b74-80b5b52b8401"
      },
      "source": [
        "# built-in function type() returns the type of object is the one in parenthesis\n",
        "type(this_is_a_string)"
      ],
      "execution_count": null,
      "outputs": [
        {
          "output_type": "execute_result",
          "data": {
            "text/plain": [
              "str"
            ]
          },
          "metadata": {},
          "execution_count": 13
        }
      ]
    },
    {
      "cell_type": "code",
      "metadata": {
        "colab": {
          "base_uri": "https://localhost:8080/"
        },
        "id": "a3FKCjMkGyvh",
        "outputId": "b939672a-2bbe-4722-c88f-d9ca57724d54"
      },
      "source": [
        "# built-in function type()\n",
        "type(this_is_an_integer)"
      ],
      "execution_count": null,
      "outputs": [
        {
          "output_type": "execute_result",
          "data": {
            "text/plain": [
              "int"
            ]
          },
          "metadata": {},
          "execution_count": 14
        }
      ]
    },
    {
      "cell_type": "code",
      "metadata": {
        "colab": {
          "base_uri": "https://localhost:8080/"
        },
        "id": "X42jgUZMHMu6",
        "outputId": "24d76c16-db33-44ac-ad6d-2c13a200161a"
      },
      "source": [
        "# built-in function type()\n",
        "type(this_is_a_float)"
      ],
      "execution_count": null,
      "outputs": [
        {
          "output_type": "execute_result",
          "data": {
            "text/plain": [
              "float"
            ]
          },
          "metadata": {},
          "execution_count": 15
        }
      ]
    },
    {
      "cell_type": "code",
      "metadata": {
        "colab": {
          "base_uri": "https://localhost:8080/"
        },
        "id": "XTPZ6ssTJNda",
        "outputId": "c80f9ff4-6ee0-42ce-e083-28109de3de48"
      },
      "source": [
        "# built-in function type()\n",
        "type(this_is_a_boolean)"
      ],
      "execution_count": null,
      "outputs": [
        {
          "output_type": "execute_result",
          "data": {
            "text/plain": [
              "bool"
            ]
          },
          "metadata": {},
          "execution_count": 16
        }
      ]
    },
    {
      "cell_type": "markdown",
      "metadata": {
        "id": "3R0LZAyPS-Uf"
      },
      "source": [
        "#### **Functions converting objects**"
      ]
    },
    {
      "cell_type": "code",
      "metadata": {
        "colab": {
          "base_uri": "https://localhost:8080/",
          "height": 35
        },
        "id": "QbAF0_gDGkDm",
        "outputId": "56a9cfe6-148c-492d-811d-f06fc92253bc"
      },
      "source": [
        "# built-in function str() converts object into a string\n",
        "this_is_also_a_string = str(this_is_an_integer)\n",
        "this_is_also_a_string"
      ],
      "execution_count": null,
      "outputs": [
        {
          "output_type": "execute_result",
          "data": {
            "application/vnd.google.colaboratory.intrinsic+json": {
              "type": "string"
            },
            "text/plain": [
              "'-64'"
            ]
          },
          "metadata": {},
          "execution_count": 17
        }
      ]
    },
    {
      "cell_type": "code",
      "metadata": {
        "colab": {
          "base_uri": "https://localhost:8080/"
        },
        "id": "5LBMJIm4GkGD",
        "outputId": "5f98d048-a3af-4920-c8ec-1389f3919f72"
      },
      "source": [
        "type(this_is_also_a_string)"
      ],
      "execution_count": null,
      "outputs": [
        {
          "output_type": "execute_result",
          "data": {
            "text/plain": [
              "str"
            ]
          },
          "metadata": {},
          "execution_count": 18
        }
      ]
    },
    {
      "cell_type": "code",
      "metadata": {
        "colab": {
          "base_uri": "https://localhost:8080/"
        },
        "id": "eDSL_MtfHPuv",
        "outputId": "d946ba3b-2d44-4bd1-d806-2b83091254e0"
      },
      "source": [
        "# built-in function int() converts object into integer\n",
        "this_is_also_an_integer = int(this_is_a_float)\n",
        "type(this_is_also_an_integer)"
      ],
      "execution_count": null,
      "outputs": [
        {
          "output_type": "execute_result",
          "data": {
            "text/plain": [
              "int"
            ]
          },
          "metadata": {},
          "execution_count": 19
        }
      ]
    },
    {
      "cell_type": "code",
      "metadata": {
        "colab": {
          "base_uri": "https://localhost:8080/"
        },
        "id": "rnwn2vjgHuwr",
        "outputId": "f410a4a3-2388-4d3f-be38-f87e80c8b0cb"
      },
      "source": [
        "# built-in function float() converts object into a float\n",
        "this_is_also_a_float = float(this_is_an_integer)\n",
        "type(this_is_also_a_float)\n"
      ],
      "execution_count": null,
      "outputs": [
        {
          "output_type": "execute_result",
          "data": {
            "text/plain": [
              "float"
            ]
          },
          "metadata": {},
          "execution_count": 20
        }
      ]
    },
    {
      "cell_type": "code",
      "metadata": {
        "colab": {
          "base_uri": "https://localhost:8080/"
        },
        "id": "6qhRVrt-H4c1",
        "outputId": "f2871450-f0d6-44c5-ecbd-93d6b34e76f3"
      },
      "source": [
        "this_is_also_a_float"
      ],
      "execution_count": null,
      "outputs": [
        {
          "output_type": "execute_result",
          "data": {
            "text/plain": [
              "-64.0"
            ]
          },
          "metadata": {},
          "execution_count": 21
        }
      ]
    },
    {
      "cell_type": "code",
      "metadata": {
        "colab": {
          "base_uri": "https://localhost:8080/"
        },
        "id": "67v5agVWJJtJ",
        "outputId": "f3af2c94-8ee3-4a50-d46c-c13a81d2f3cf"
      },
      "source": [
        "# built-in function abs() returns the absolute value of a number\n",
        "abs(this_is_also_a_float)"
      ],
      "execution_count": null,
      "outputs": [
        {
          "output_type": "execute_result",
          "data": {
            "text/plain": [
              "64.0"
            ]
          },
          "metadata": {},
          "execution_count": 27
        }
      ]
    },
    {
      "cell_type": "code",
      "metadata": {
        "colab": {
          "base_uri": "https://localhost:8080/"
        },
        "id": "Umf1Lg2PIecG",
        "outputId": "c885a72d-698f-466c-c7ae-7aab92d39f22"
      },
      "source": [
        "# obviously functions can be nested\n",
        "int(abs(this_is_also_a_float))"
      ],
      "execution_count": null,
      "outputs": [
        {
          "output_type": "execute_result",
          "data": {
            "text/plain": [
              "64"
            ]
          },
          "metadata": {},
          "execution_count": 28
        }
      ]
    },
    {
      "cell_type": "code",
      "metadata": {
        "colab": {
          "base_uri": "https://localhost:8080/",
          "height": 181
        },
        "id": "Tk-V-8pyIoUZ",
        "outputId": "b1fa90f8-3103-4bc0-cd98-e111aa5560d8"
      },
      "source": [
        "# you need a number if you want to convert an absolute number!\n",
        "abs(this_is_a_string)\n",
        "# the error you get is a TypeError, because abs() does not accept strings as operands"
      ],
      "execution_count": null,
      "outputs": [
        {
          "output_type": "error",
          "ename": "TypeError",
          "evalue": "ignored",
          "traceback": [
            "\u001b[0;31m---------------------------------------------------------------------------\u001b[0m",
            "\u001b[0;31mTypeError\u001b[0m                                 Traceback (most recent call last)",
            "\u001b[0;32m<ipython-input-30-6eeac56012f7>\u001b[0m in \u001b[0;36m<module>\u001b[0;34m()\u001b[0m\n\u001b[1;32m      1\u001b[0m \u001b[0;31m# you need a number if you want to convert an absolute number!\u001b[0m\u001b[0;34m\u001b[0m\u001b[0;34m\u001b[0m\u001b[0;34m\u001b[0m\u001b[0m\n\u001b[0;32m----> 2\u001b[0;31m \u001b[0mabs\u001b[0m\u001b[0;34m(\u001b[0m\u001b[0mthis_is_a_string\u001b[0m\u001b[0;34m)\u001b[0m\u001b[0;34m\u001b[0m\u001b[0;34m\u001b[0m\u001b[0m\n\u001b[0m",
            "\u001b[0;31mTypeError\u001b[0m: bad operand type for abs(): 'str'"
          ]
        }
      ]
    },
    {
      "cell_type": "code",
      "metadata": {
        "colab": {
          "base_uri": "https://localhost:8080/"
        },
        "id": "cVSuptGLJxFo",
        "outputId": "463f4c36-5ccf-4999-8d45-8ff02edcb09a"
      },
      "source": [
        "# bool() function converts an object into its boolean value\n",
        "# it will always be True unless:\n",
        "#   The object is empty, like [], (), {}\n",
        "#   The object is False\n",
        "#   The object is 0\n",
        "#   The object is None\n",
        "bool(1)"
      ],
      "execution_count": null,
      "outputs": [
        {
          "output_type": "execute_result",
          "data": {
            "text/plain": [
              "True"
            ]
          },
          "metadata": {},
          "execution_count": 34
        }
      ]
    },
    {
      "cell_type": "code",
      "metadata": {
        "colab": {
          "base_uri": "https://localhost:8080/"
        },
        "id": "H2kqFdh6KiLp",
        "outputId": "5ce879d0-06f2-4a3b-e832-a0ba1f508be5"
      },
      "source": [
        "bool('Am I True?')"
      ],
      "execution_count": null,
      "outputs": [
        {
          "output_type": "execute_result",
          "data": {
            "text/plain": [
              "True"
            ]
          },
          "metadata": {},
          "execution_count": 43
        }
      ]
    },
    {
      "cell_type": "code",
      "metadata": {
        "colab": {
          "base_uri": "https://localhost:8080/"
        },
        "id": "lpvrJrpOJ18Q",
        "outputId": "94426764-83e8-4f7c-ee57-48e74d2dd6fb"
      },
      "source": [
        "# None is one of the empy objects in Python\n",
        "bool(None)"
      ],
      "execution_count": null,
      "outputs": [
        {
          "output_type": "execute_result",
          "data": {
            "text/plain": [
              "False"
            ]
          },
          "metadata": {},
          "execution_count": 41
        }
      ]
    },
    {
      "cell_type": "code",
      "metadata": {
        "colab": {
          "base_uri": "https://localhost:8080/"
        },
        "id": "DbPDWF6wItj7",
        "outputId": "36db3054-66e0-4c96-f32a-307ff548706a"
      },
      "source": [
        "bool(0)"
      ],
      "execution_count": null,
      "outputs": [
        {
          "output_type": "execute_result",
          "data": {
            "text/plain": [
              "False"
            ]
          },
          "metadata": {},
          "execution_count": 42
        }
      ]
    },
    {
      "cell_type": "code",
      "metadata": {
        "id": "ScJqs3IwTX9e"
      },
      "source": [
        ""
      ],
      "execution_count": null,
      "outputs": []
    },
    {
      "cell_type": "markdown",
      "metadata": {
        "id": "ikJ_D77OTIGd"
      },
      "source": [
        "#### **range()**"
      ]
    },
    {
      "cell_type": "code",
      "metadata": {
        "colab": {
          "base_uri": "https://localhost:8080/"
        },
        "id": "H3Cq_eFTTGhj",
        "outputId": "c570b91a-da19-42fe-e665-50b5cc4d5c04"
      },
      "source": [
        "for i in range(0, 11):  \n",
        "  # range is a built-in function that returns a sequence of numbers, \n",
        "  # starting from 0 and increments by 1 (by default)\n",
        "  print(i)"
      ],
      "execution_count": null,
      "outputs": [
        {
          "output_type": "stream",
          "name": "stdout",
          "text": [
            "0\n",
            "1\n",
            "2\n",
            "3\n",
            "4\n",
            "5\n",
            "6\n",
            "7\n",
            "8\n",
            "9\n",
            "10\n"
          ]
        }
      ]
    },
    {
      "cell_type": "code",
      "metadata": {
        "colab": {
          "base_uri": "https://localhost:8080/"
        },
        "id": "n-OogmZiUri4",
        "outputId": "43cc67e3-bd02-4e9e-f5d9-4b2e9255a2c2"
      },
      "source": [
        "for i in range(11): \n",
        "  print(i)"
      ],
      "execution_count": null,
      "outputs": [
        {
          "output_type": "stream",
          "name": "stdout",
          "text": [
            "0\n",
            "1\n",
            "2\n",
            "3\n",
            "4\n",
            "5\n",
            "6\n",
            "7\n",
            "8\n",
            "9\n",
            "10\n"
          ]
        }
      ]
    },
    {
      "cell_type": "code",
      "metadata": {
        "colab": {
          "base_uri": "https://localhost:8080/"
        },
        "id": "Z-UiiVXAJbxH",
        "outputId": "8bed4d8d-00b6-4de5-dc99-dede6d465551"
      },
      "source": [
        "for i in range(0, 11, 2): # increments by 2\n",
        "  print(i)"
      ],
      "execution_count": null,
      "outputs": [
        {
          "output_type": "stream",
          "name": "stdout",
          "text": [
            "0\n",
            "2\n",
            "4\n",
            "6\n",
            "8\n",
            "10\n"
          ]
        }
      ]
    },
    {
      "cell_type": "markdown",
      "metadata": {
        "id": "k8yiPKstZQ-D"
      },
      "source": [
        "#### format()"
      ]
    },
    {
      "cell_type": "code",
      "metadata": {
        "id": "HdVVX3feZOYe"
      },
      "source": [
        "# The format() function formats a specified value into a specified format."
      ],
      "execution_count": null,
      "outputs": []
    },
    {
      "cell_type": "code",
      "metadata": {
        "id": "2H4nsz1MeHzU"
      },
      "source": [
        "# Some examples of formats available\n",
        "# 'g' - General format\n",
        "# 'e' - Scientific format, with a lower case e\n",
        "# 'E' - Scientific format, with an upper case E\n",
        "# 'f' - Fix point number format\n",
        "# 'F' - Fix point number format, upper case\n",
        "# 'n' - Number format\n",
        "# '%' - Percentage format\n"
      ],
      "execution_count": null,
      "outputs": []
    },
    {
      "cell_type": "code",
      "metadata": {
        "id": "nr4n1BbW7kEK",
        "colab": {
          "base_uri": "https://localhost:8080/"
        },
        "outputId": "f1e5e4e1-4faa-4ee8-8836-313e0713e4d1"
      },
      "source": [
        "x= 3.26e-4\n",
        "print('{}'.format(x))     # no specifications\n",
        "print('{:.5f}'.format(x)) # up to the 5th digit\n",
        "print('{:.5e}'.format(x)) # up to the 5th digit scientific notation\n",
        "print('{:.5E}'.format(x)) # up to the 5th digit scientific notation uppercase E\n",
        "print('{:n}'.format(x))   # number\n",
        "print('{:%}'.format(x))   # percentage\n",
        "\n",
        "# old format\n",
        "print('%.5f' %x)\n",
        "print('%.5e' %x)"
      ],
      "execution_count": null,
      "outputs": [
        {
          "output_type": "stream",
          "name": "stdout",
          "text": [
            "0.000326\n",
            "0.00033\n",
            "3.26000e-04\n",
            "3.26000E-04\n",
            "0.000326\n",
            "0.032600%\n",
            "0.00033\n",
            "3.26000e-04\n"
          ]
        }
      ]
    },
    {
      "cell_type": "markdown",
      "metadata": {
        "id": "Fx1_d0MZjibK"
      },
      "source": [
        "### Exercises"
      ]
    },
    {
      "cell_type": "code",
      "metadata": {
        "colab": {
          "base_uri": "https://localhost:8080/"
        },
        "id": "_feEMmlMqkpk",
        "outputId": "80ac2763-6a03-4a7e-f0a9-9ea8a8e3cab8"
      },
      "source": [
        "# Write a python program that tells you whether the input is odd or even\n",
        "\n",
        "number = int(input(\"This program knows whether the number is odd or even. \\nInput a number: \"))\n",
        "\n",
        "\n",
        "# comment this out\n",
        "# solution\n",
        "if number % 2 == 0:\n",
        "  \n",
        "  print('This number is even')\n",
        "else:\n",
        "  print('This number is odd')"
      ],
      "execution_count": null,
      "outputs": [
        {
          "output_type": "stream",
          "name": "stdout",
          "text": [
            "This program knows whether the number is odd or even. \n",
            "Input a number: 56\n",
            "This number is even\n"
          ]
        }
      ]
    },
    {
      "cell_type": "code",
      "metadata": {
        "id": "2BcpKEKovf1x"
      },
      "source": [
        "# Write a Python code that gives you the alternate letters of any word\n",
        "\n",
        "word = str(input(\"This code gives you the alternate letters of a word. \\nInput the word: \"))\n",
        "\n",
        "print() ### print something...\n",
        "\n",
        "## solution\n",
        "print(word[::2])"
      ],
      "execution_count": null,
      "outputs": []
    },
    {
      "cell_type": "code",
      "metadata": {
        "colab": {
          "base_uri": "https://localhost:8080/"
        },
        "id": "eIkev1dzykkl",
        "outputId": "560317a0-19c9-417e-fc0f-59def5e36fc0"
      },
      "source": [
        "# write a code that checks if a string is palindrome, and if so, the output is the repeated\n",
        "\n",
        "string = input(\"Input the string to check: \")\n",
        "\n",
        "string = string.lower() # converts string to lowercase\n",
        "\n",
        "condition = string == string[::-1]\n",
        "\n",
        "if condition :\n",
        "\n",
        "  #check whether odd or even to determine how to slice the string\n",
        "    # continue\n",
        "    if len(string) %2:\n",
        "      halfpal = string[:len(string) // 2 +1]\n",
        "    else:\n",
        "      halfpal = string[:len(string) // 2]\n",
        "  \n",
        "    print('Yes, it is a palindrome', halfpal)\n",
        "    \n",
        "else:\n",
        "  print('No, not a palindrome')\n"
      ],
      "execution_count": null,
      "outputs": [
        {
          "output_type": "stream",
          "name": "stdout",
          "text": [
            "Input the string to check: hanah\n",
            "Yes, it is a palindrome han\n"
          ]
        }
      ]
    },
    {
      "cell_type": "code",
      "metadata": {
        "id": "BbQj2N5ZjkBZ",
        "colab": {
          "base_uri": "https://localhost:8080/"
        },
        "outputId": "e8c3ada1-857f-4eab-ff76-e18a614328a4"
      },
      "source": [
        "# Print the Fibonacci sequence until the nth position\n",
        "\n",
        "# A Fibonacci sequence is the integer sequence of 0, 1, 1, 2, 3, 5, 8....\n",
        "# The first two terms are 0 and 1. \n",
        "# All other terms are obtained by adding the preceding two terms. \n",
        "# This means to say the nth term is the sum of (n-1)th and (n-2)th term.\n",
        "\n",
        "nterms = int(input(\"How many terms? \"))\n",
        "\n",
        "#always initialize variables\n",
        "Fibonacci_number_n = 0\n",
        "Fibonacci_number_1 = 0\n",
        "Fibonacci_number_2 = 1\n",
        "\n",
        "if nterms <= 0:\n",
        "  print(\"Please enter a number greater than zero\")\n",
        "\n",
        "print('Fibonacci sequence:')\n",
        "if nterms == 1:\n",
        "  print(Fibonacci_number_1)\n",
        "\n",
        "if nterms > 1:\n",
        "  Fibonacci_number_n = Fibonacci_number_1 + Fibonacci_number_2\n",
        "  print(Fibonacci_number_1)\n",
        "  print(Fibonacci_number_2)\n",
        "\n",
        "# continue....\n",
        "\n",
        "#comment this out\n",
        "  for i in range(nterms-2):\n",
        "    Fibonacci_number_n = Fibonacci_number_1 + Fibonacci_number_2\n",
        "    print(Fibonacci_number_n)\n",
        "\n",
        "    #update values\n",
        "    Fibonacci_number_1 = Fibonacci_number_2\n",
        "    Fibonacci_number_2 = Fibonacci_number_n\n",
        "    \n"
      ],
      "execution_count": null,
      "outputs": [
        {
          "output_type": "stream",
          "name": "stdout",
          "text": [
            "How many terms? 4\n",
            "Fibonacci sequence:\n",
            "0\n",
            "1\n",
            "1\n",
            "2\n"
          ]
        }
      ]
    },
    {
      "cell_type": "code",
      "metadata": {
        "colab": {
          "base_uri": "https://localhost:8080/"
        },
        "id": "-EU1bZggRpEC",
        "outputId": "cdb45258-58d7-4d95-da97-6d12a248b2d8"
      },
      "source": [
        "# Alternative solution to the Fibonacci exercise, resulting in a list\n",
        "\n",
        "nterms = int(input(\"How many terms? \"))\n",
        "\n",
        "zero = 0\n",
        "one = 1\n",
        "Fibonacci_sequence = [zero, one] # use the last two positions in the sequence to select the two numbers to sum\n",
        "\n",
        "for i in range(nterms):\n",
        "    fibonacci = (Fibonacci_sequence[-1] + Fibonacci_sequence[-2])\n",
        "    Fibonacci_sequence.append(fibonacci)\n",
        "\n",
        "print(\"Fibonacci sequence\", Fibonacci_sequence)"
      ],
      "execution_count": null,
      "outputs": [
        {
          "output_type": "stream",
          "name": "stdout",
          "text": [
            "How many terms? 4\n",
            "Fibonacci sequence [0, 1, 1, 2, 3, 5]\n"
          ]
        }
      ]
    },
    {
      "cell_type": "code",
      "metadata": {
        "id": "f85VHbGad8tD"
      },
      "source": [
        "# translate a sequence of mRNA into protein\n",
        "\n",
        "mRNA_sequence = 'GGTCAGCAATTGGACTATGAGATCGATTGA'\n",
        "\n",
        "counter = 0\n",
        "\n",
        "protein_sequence = '' #always initialize your variables before a loop\n",
        "\n",
        "# continue....\n",
        "\n",
        "for i in range(len(mRNA_sequence)//3):\n",
        "  codon = mRNA_sequence[counter:counter+3]\n",
        "  amino_acid = this_is_a_dictionary[codon]\n",
        "  protein_sequence = protein_sequence + amino_acid\n",
        "  counter +=3\n",
        "\n",
        "print(protein_sequence)"
      ],
      "execution_count": null,
      "outputs": []
    },
    {
      "cell_type": "markdown",
      "metadata": {
        "id": "TSTd3lvYkeul"
      },
      "source": [
        ""
      ]
    },
    {
      "cell_type": "code",
      "metadata": {
        "id": "vWJiGq_67oQf"
      },
      "source": [
        ""
      ],
      "execution_count": null,
      "outputs": []
    },
    {
      "cell_type": "code",
      "metadata": {
        "id": "wYKBO2W27ohb"
      },
      "source": [
        ""
      ],
      "execution_count": null,
      "outputs": []
    },
    {
      "cell_type": "code",
      "metadata": {
        "id": "965W-9m-7kLj"
      },
      "source": [
        ""
      ],
      "execution_count": null,
      "outputs": []
    }
  ]
}
