{
  "nbformat": 4,
  "nbformat_minor": 0,
  "metadata": {
    "colab": {
      "name": "Week1_homework_solution.ipynb",
      "provenance": [],
      "authorship_tag": "ABX9TyMPB/lxmUr3A4CcJhn3Ixxf",
      "include_colab_link": true
    },
    "kernelspec": {
      "name": "python3",
      "display_name": "Python 3"
    },
    "language_info": {
      "name": "python"
    }
  },
  "cells": [
    {
      "cell_type": "markdown",
      "metadata": {
        "id": "view-in-github",
        "colab_type": "text"
      },
      "source": [
        "<a href=\"https://colab.research.google.com/github/araldi/HS21---Big-Data-Analysis-in-Biomedical-Research-376-1723-00L-/blob/main/Week1_homework_solution.ipynb\" target=\"_parent\"><img src=\"https://colab.research.google.com/assets/colab-badge.svg\" alt=\"Open In Colab\"/></a>"
      ]
    },
    {
      "cell_type": "markdown",
      "metadata": {
        "id": "B8Tt1eTsrju_"
      },
      "source": [
        "#### Which day of the week?"
      ]
    },
    {
      "cell_type": "markdown",
      "metadata": {
        "id": "n9VPxkCDQiC8"
      },
      "source": [
        "Create a code whose output is which day of the week is any day in 2022 (in format dd/mm).\n",
        "\n",
        "Can you use functions where useful?\n",
        "\n",
        "2022 starts on Saturday and February has 28 days"
      ]
    },
    {
      "cell_type": "code",
      "metadata": {
        "colab": {
          "base_uri": "https://localhost:8080/"
        },
        "id": "5KbMBgFzQfEA",
        "outputId": "5ac8fc9c-ddfc-4c08-d382-87b034a4ab69"
      },
      "source": [
        "days_of_the_week = ['M','Tue','W','Thr','F','Sat','Sun']\n",
        "months = ['Jan','Feb','Mar','Apr','May','Jun','Jul','Aug','Sep','Oct','Nov','Dec']\n",
        "\n",
        "# HINT\n",
        "# use a dictionary to input the info about the year\n",
        "year = {'feb' : 28,\n",
        "        'week_index' : 5,\n",
        "        'year' : 2022}\n",
        "\n",
        "#for example\n",
        "feb = year['feb'] \n",
        "month_lenght = [31, feb, 31, 30, 31, 30, 31, 31, 30, 31, 30, 31]\n",
        "\n",
        "week_index = year['week_index']\n",
        "\n",
        "yyyy = year['year']\n",
        "\n",
        "\n",
        "## remove\n",
        "\n",
        "def two_digit_format_for_date(number):\n",
        "  if number < 10:\n",
        "   number = '0{}'.format(number)\n",
        "  else:\n",
        "   number = str(number)\n",
        "  return number\n",
        " \n",
        "\n",
        "\n",
        "def calendar(year):\n",
        "  calendar_dict = {}\n",
        "  feb = year['feb']\n",
        "  week_index = year['week_index']\n",
        "  yyyy = year['year']\n",
        "\n",
        "  month_lenght = [31, feb, 31, 30, 31, 30, 31, 31, 30, 31, 30, 31]\n",
        "\n",
        "  for index, month in enumerate(months):  \n",
        "    mm = index + 1\n",
        "    mm = two_digit_format_for_date(mm)\n",
        "\n",
        "    for day in range(month_lenght[index]):\n",
        "      dd = day +1\n",
        "      dd = two_digit_format_for_date(dd)\n",
        "\n",
        "      weekday = days_of_the_week[week_index]\n",
        "      week_index +=1\n",
        "      if week_index == 7:\n",
        "        week_index = 0\n",
        "\n",
        "      date = '{}/{}/{}'.format(dd, mm, yyyy)\n",
        "      calendar_dict[date] = weekday\n",
        "  return calendar_dict\n",
        "\n",
        "\n",
        "\n",
        "\n",
        "\n",
        "def fancy_calendar_code(year, date, calendar):\n",
        "\n",
        "  date = date + '/2022'\n",
        "\n",
        "  if date in calendar.keys():\n",
        "    print(date, 'is a', calendar[date])\n",
        "    \n",
        "  else:\n",
        "    print(date, ' does not exist')\n",
        "\n",
        "calendar  = calendar(year)\n",
        "date = str(input('Give me a dd/mm date in 2022: '))\n",
        "fancy_calendar_code(year, date, calendar)\n"
      ],
      "execution_count": null,
      "outputs": [
        {
          "output_type": "stream",
          "name": "stdout",
          "text": [
            "Give me a dd/mm date in 2022: 08/09\n",
            "08/09/2022 is a Thr\n"
          ]
        }
      ]
    },
    {
      "cell_type": "code",
      "metadata": {
        "id": "bF40Kh5Q9J72"
      },
      "source": [
        ""
      ],
      "execution_count": null,
      "outputs": []
    }
  ]
}
