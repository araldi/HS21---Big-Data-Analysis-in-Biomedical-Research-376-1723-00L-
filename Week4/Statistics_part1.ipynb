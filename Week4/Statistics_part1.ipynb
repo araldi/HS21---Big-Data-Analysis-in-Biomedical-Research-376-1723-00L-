{
  "nbformat": 4,
  "nbformat_minor": 0,
  "metadata": {
    "colab": {
      "name": "Statistics_part1.ipynb",
      "provenance": [],
      "collapsed_sections": [],
      "authorship_tag": "ABX9TyPzX95E3U/JMU6rpTWZSr1p",
      "include_colab_link": true
    },
    "kernelspec": {
      "name": "python3",
      "display_name": "Python 3"
    },
    "language_info": {
      "name": "python"
    }
  },
  "cells": [
    {
      "cell_type": "markdown",
      "metadata": {
        "id": "view-in-github",
        "colab_type": "text"
      },
      "source": [
        "<a href=\"https://colab.research.google.com/github/araldi/HS21---Big-Data-Analysis-in-Biomedical-Research-376-1723-00L-/blob/main/Week4/Statistics_part1.ipynb\" target=\"_parent\"><img src=\"https://colab.research.google.com/assets/colab-badge.svg\" alt=\"Open In Colab\"/></a>"
      ]
    },
    {
      "cell_type": "code",
      "metadata": {
        "id": "sZ8epwDfhiIT"
      },
      "source": [
        "import pandas as pd\n",
        "import numpy as np\n",
        "import seaborn as sns\n",
        "import pylab as pl\n",
        "import matplotlib \n",
        "import matplotlib.pyplot as plt\n",
        "from matplotlib import animation\n",
        "from IPython.display import HTML\n",
        "\n",
        "import scipy as sp\n",
        "from scipy import stats\n",
        "%pylab inline"
      ],
      "execution_count": null,
      "outputs": []
    },
    {
      "cell_type": "markdown",
      "metadata": {
        "id": "QJxdCO92BDZY"
      },
      "source": [
        "Set the random seed."
      ]
    },
    {
      "cell_type": "code",
      "metadata": {
        "id": "JeHsSSqcBOV8"
      },
      "source": [
        "import random\n",
        "\n",
        "random.seed(2021)"
      ],
      "execution_count": null,
      "outputs": []
    },
    {
      "cell_type": "markdown",
      "metadata": {
        "id": "1KnxUoe4-oa8"
      },
      "source": [
        "# Distributions demo"
      ]
    },
    {
      "cell_type": "markdown",
      "metadata": {
        "id": "B5kAZ1C6rX1W"
      },
      "source": [
        "## Binomial distribution:\n",
        "\n",
        "$k=\\textstyle {n \\choose k}\\, p^k (1-p)^{n-k}$\n",
        "\n",
        "parameters: \n",
        "    - n: number of tries\n",
        "    - p: probability of success at each try\n",
        "defines the probability of having N \"successes\" in a series of n independent identical success/failure experiment. The case of n=1 and p=0.5 is describe a fair coin toss. \n",
        "\n",
        "mean: np\n",
        "\n",
        "variance: np*(1-p)"
      ]
    },
    {
      "cell_type": "code",
      "metadata": {
        "ExecuteTime": {
          "end_time": "2019-09-03T13:15:09.026978Z",
          "start_time": "2019-09-03T13:15:08.024302Z"
        },
        "id": "_bvlsrBLrX1X"
      },
      "source": [
        "Ndistribs = 20 #number of distributions\n",
        "ssize = 1000 #sample size\n",
        "\n",
        "#binomial distribution parameters n,p\n",
        "n = 20 # n parameter\n",
        "ps = np.linspace(0, 1.0, n) # p parameter\n",
        "\n",
        "t = np.linspace(0, n, n+1).astype(int) # x axis\n",
        "y = np.zeros((Ndistribs, ssize)) #container for the distributions\n",
        "ls = np.zeros((Ndistribs, len(t))) #container for gaussians corresponding to the distribs\n",
        "\n",
        "#loop to generate a distribution for each p value\n",
        "for i,j in enumerate(ps):\n",
        "    # binomial\n",
        "    y[i] = sp.stats.binom.rvs(n=n, p=j, size=ssize)\n",
        "    # gaussian with same mean\n",
        "    ls[i] = sp.stats.binom.pmf(t, n=n, p=j)\n",
        "    \n",
        "#prepare figure\n",
        "fig, ax = pl.subplots();\n",
        "ax.axis([-20, 35, 0, 0.4]);\n",
        "\n",
        "# get and plot histogram of initial distributions\n",
        "y0 = np.histogram(y[0], bins=t, density=1)[0]\n",
        "n, bins, patches = plt.hist(y0, bins=t, density=1, \n",
        "                            facecolor='SteelBlue', alpha=0.75);\n",
        "#plot Gaussians\n",
        "l,= ax.plot(t, ls[i]);\n",
        "\n",
        "#add label\n",
        "texts = ax.text(0.70, 0.9,  'p = %.2f'%ps[0], transform=ax.transAxes, \n",
        "               fontsize=20)\n",
        "\n",
        "#line at 0\n",
        "ax.plot([0, 0], [0, 0.4], 'k-', alpha=0.5)\n",
        "#axis labels\n",
        "ax.set_title(\"Binomial\")\n",
        "ax.set_ylabel(\"probability of N successes\")\n",
        "ax.set_xlabel(\"N\")\n",
        "\n",
        "#animation function\n",
        "def animate(i):\n",
        "    ''' matplotlib animation call\n",
        "    i: loop iterator\n",
        "    returns the patches\n",
        "    '''\n",
        "    n, _ = np.histogram(y[i], bins=t, density=1)\n",
        "    for rect, h in zip(patches, n):\n",
        "        #regenerate histogram\n",
        "        rect.set_height(h)\n",
        "    #regenerate gaussian line\n",
        "    l.set_data(t, ls[i])\n",
        "    #regenerate label\n",
        "    texts.set_text('p = %.2f'%ps[i])\n",
        "    return patches\n",
        "\n",
        "ani = matplotlib.animation.FuncAnimation(fig, animate, frames=len(y));\n",
        "HTML(ani.to_jshtml())"
      ],
      "execution_count": null,
      "outputs": []
    },
    {
      "cell_type": "markdown",
      "metadata": {
        "id": "FwzxAj3JrX1e"
      },
      "source": [
        "## Poisson distribution:\n",
        "$k=\\frac{\\lambda^k}{k!} e^{-\\lambda}$\n",
        "\n",
        "parameters: \n",
        "    - lambda: number of tries\n",
        "A discrete distribution that expresses the probability of a number of events\n",
        "occurring in a fixed period of time if these events occur with a known average rate\n",
        "and independently of the time since the last event. More here http://individual.utoronto.ca/zheli/poisson.pdf\n",
        "\n",
        "mean: lambda\n",
        "\n",
        "variance: lambda\n"
      ]
    },
    {
      "cell_type": "code",
      "metadata": {
        "ExecuteTime": {
          "end_time": "2019-09-03T13:36:54.282958Z",
          "start_time": "2019-09-03T13:36:52.882915Z"
        },
        "id": "-TJaUXXzrX1e"
      },
      "source": [
        "Ndistribs = 20 #number of distributions\n",
        "\n",
        "#Poisson distribution parameters lambda\n",
        "n = 20 # n parameter\n",
        "lambdas = np.linspace(0, Ndistribs-1, Ndistribs).astype(int)# lambda parameter\n",
        "\n",
        "t = np.linspace(0, n*2, n*2+1).astype(int) # x axis\n",
        "y = np.zeros((Ndistribs, ssize)) #container for the distributions\n",
        "ls = np.zeros((Ndistribs, len(t))) #container for gaussians corresponding to the distribs\n",
        "\n",
        "\n",
        "#loop to generate a distribution for each p value\n",
        "for i,j in enumerate(lambdas):\n",
        "    #print(mus[i])\n",
        "    y[i] = sp.stats.poisson.rvs(size=ssize, mu=j)\n",
        "    ls[i] = sp.stats.poisson.pmf(t, mu=j)\n",
        "    #pl.figure()\n",
        "    #pl.hist(y[i])\n",
        "    \n",
        "#prepare figure\n",
        "fig, ax = pl.subplots();\n",
        "ax.axis([-n, 35, 0, 0.2])\n",
        "bins = t\n",
        "\n",
        "y0 = np.histogram(y[0], bins=bins, density=1)[0]\n",
        "\n",
        "n, bins, patches = plt.hist(y0, bins, density=1, \n",
        "                            facecolor='SteelBlue', alpha=0.75);\n",
        "l,= ax.plot(t, ls[i])\n",
        "texts = ax.text(0.50, 0.9,  'lambdas = %d'%lambdas[0], transform=ax.transAxes, \n",
        "               fontsize=20)\n",
        "ax.plot([0, 0], [0, 0.4], 'k-', alpha=0.5)\n",
        "ax.set_title(\"Poisson\")\n",
        "ax.set_ylabel(\"probability of N\")\n",
        "ax.set_xlabel(\"N\")\n",
        "\n",
        "def animate(i):    \n",
        "    n, _ = np.histogram(y[i], bins=bins, density=1)\n",
        "    for rect, h in zip(patches, n):\n",
        "        rect.set_height(h)\n",
        "    l.set_data(t, ls[i])\n",
        "    texts.set_text('lambdas = %d'%lambdas[i])\n",
        "    return patches\n",
        "\n",
        "ani = matplotlib.animation.FuncAnimation(fig, animate, frames=len(y))\n",
        "HTML(ani.to_jshtml())"
      ],
      "execution_count": null,
      "outputs": []
    },
    {
      "cell_type": "markdown",
      "metadata": {
        "ExecuteTime": {
          "end_time": "2019-09-03T13:30:37.460003Z",
          "start_time": "2019-09-03T13:30:37.410821Z"
        },
        "id": "eFbJiytjrX1j"
      },
      "source": [
        "## Gaussian \n",
        "\n",
        "$x= \\frac{1}{\\sigma\\sqrt{2\\pi}}\\, e^{-\\frac{(x - \\mu)^2}{2 \\sigma^2}}$\n",
        "\n",
        "parameters:\n",
        "    - mu: mean\n",
        "    - sigma: standard deviation\n",
        "It relates to the Central Limit Theorem:\n",
        "(Under some conditions which include finite variance) the averages of samples \n",
        "of random variables independently drawn from _any_ distributions \n",
        "converge in distribution to the normal, i.e., \n",
        "they become normally distributed with mean equal to the expected value and \n",
        "sdtandard deviation equal to the square root of the mean.\n",
        "\n",
        "Also referred to Normal if mean is 0 and Standard Normal if mean is 0 and standard deviation is 1\n",
        "\n",
        "mean: mu\n",
        "\n",
        "variance: sigma^2"
      ]
    },
    {
      "cell_type": "code",
      "metadata": {
        "ExecuteTime": {
          "end_time": "2019-09-03T13:38:06.904161Z",
          "start_time": "2019-09-03T13:38:05.642837Z"
        },
        "id": "mHkzaKKmrX1k"
      },
      "source": [
        "Ndistribs = 21\n",
        "nminmax = 35\n",
        "t = np.linspace(-nminmax, nminmax, nminmax+1).astype(int)\n",
        "y = np.zeros((Ndistribs, ssize))\n",
        "ls = np.zeros((Ndistribs, len(t)))\n",
        "sigs = np.linspace(1, Ndistribs, Ndistribs).astype(int) # parameter variance \n",
        "mu = 10 # parameter mean\n",
        "\n",
        "for i,j in enumerate(sigs):\n",
        "    #print(mus[i])\n",
        "    y[i] = sp.stats.norm.rvs(size=ssize, loc=mu, scale=j)\n",
        "    ls[i] = sp.stats.norm.pdf(t, loc=mu, scale=j)\n",
        "    #pl.figure()\n",
        "    #pl.hist(y[i])\n",
        "    \n",
        "fig, ax = pl.subplots()\n",
        "ax.axis([-20, 20, 0, 0.2])\n",
        "bins = t\n",
        "\n",
        "y0 = np.histogram(y[0], bins=bins, density=1)[0]\n",
        "\n",
        "n, bins, patches = plt.hist(y0, bins, density=1, \n",
        "                            facecolor='SteelBlue', alpha=0.75);\n",
        "l,= ax.plot(t, ls[i])\n",
        "texts = ax.text(0.70, 0.9,  'sig = %d'%sigs[0], transform=ax.transAxes, \n",
        "               fontsize=20)\n",
        "ax.plot([0, 0], [0, 0.4], 'k-', alpha=0.5)\n",
        "ax.set_title(\"Gaussian\")\n",
        "ax.set_ylabel(\"probability of x\")\n",
        "ax.set_xlabel(\"x\")\n",
        "\n",
        "def animate(i):    \n",
        "    n, _ = np.histogram(y[i], bins=bins, density=1)\n",
        "    for rect, h in zip(patches, n):\n",
        "        rect.set_height(h)\n",
        "    l.set_data(t, ls[i])\n",
        "    texts.set_text('sig = %d'%sigs[i])\n",
        "    return patches\n",
        "print(r\"changing mu\")\n",
        "ani = matplotlib.animation.FuncAnimation(fig, animate, frames=len(y))\n",
        "HTML(ani.to_jshtml())\n"
      ],
      "execution_count": null,
      "outputs": []
    },
    {
      "cell_type": "code",
      "metadata": {
        "ExecuteTime": {
          "end_time": "2019-09-03T13:07:20.562185Z",
          "start_time": "2019-09-03T13:07:11.118239Z"
        },
        "id": "0gWSENG6rX1l"
      },
      "source": [
        "sig = 4\n",
        "mus = np.linspace(0, 20, 21).astype(int)\n",
        "for i,j in enumerate(mus):\n",
        "    #print(mus[i])\n",
        "    y[i] = sp.stats.norm.rvs(size=ssize, loc=j, scale=sig)\n",
        "    ls[i] = sp.stats.norm.pdf(t, loc=j, scale=sig)\n",
        "    #pl.figure()\n",
        "    #pl.hist(y[i])\n",
        "fig, ax = pl.subplots()\n",
        "ax.axis([-20, 35, 0, 0.2])\n",
        "bins = t\n",
        "\n",
        "y0 = np.histogram(y[0], bins=bins, density=1)[0]\n",
        "\n",
        "n, bins, patches = pl.hist(y0, bins, density=1, \n",
        "                            facecolor='SteelBlue', alpha=0.75);\n",
        "l,= ax.plot(t, ls[i])\n",
        "texts = ax.text(0.70, 0.9,  'mu = %d'%mus[0], transform=ax.transAxes, \n",
        "               fontsize=20)\n",
        "ax.plot([0, 0], [0, 0.4], 'k-', alpha=0.5)\n",
        "ax.set_title(\"Gaussian\")\n",
        "ax.set_ylabel(\"probability of x\")\n",
        "ax.set_xlabel(\"x\")\n",
        "\n",
        "def animate(i):    \n",
        "    n, _ = np.histogram(y[i], bins=bins, density=1)\n",
        "    for rect, h in zip(patches, n):\n",
        "        rect.set_height(h)\n",
        "    texts.set_text('mu = %d'%mus[i])\n",
        "    l.set_data(t, ls[i])\n",
        "    return patches\n",
        "\n",
        "print(r\"changing mu\")\n",
        "ani = matplotlib.animation.FuncAnimation(fig, animate, frames=len(y))\n",
        "HTML(ani.to_jshtml())"
      ],
      "execution_count": null,
      "outputs": []
    },
    {
      "cell_type": "markdown",
      "metadata": {
        "ExecuteTime": {
          "end_time": "2019-09-03T13:35:46.734186Z",
          "start_time": "2019-09-03T13:35:46.722912Z"
        },
        "id": "Hvxvr7PMrX1q"
      },
      "source": [
        "## Chi Squared \n",
        "\n",
        "$x=\\frac{1}{2^{\\frac{k}{2}}\\Gamma\\left(\\frac{k}{2}\\right)}\\\\; x^{\\frac{k}{2}-1} e^{-\\frac{x}{2}}$\n",
        "\n",
        "parameters:\n",
        "    - k: degrees of freedom\n",
        "the distribution of a sum of the squares of k independent standard normal random variables. The most common distribution in Null Hypothesis Rejection Testing\n",
        "\n",
        "mean: k\n",
        "\n",
        "variance: 2k"
      ]
    },
    {
      "cell_type": "code",
      "metadata": {
        "ExecuteTime": {
          "end_time": "2019-09-03T13:41:57.124656Z",
          "start_time": "2019-09-03T13:41:56.017158Z"
        },
        "id": "bY6YcsoSrX1r"
      },
      "source": [
        "lambdas = np.linspace(1, 20, 20).astype(int)\n",
        "for i,j in enumerate(lambdas):\n",
        "    #print(mus[i])\n",
        "    y[i] = sp.stats.chi2.rvs(size=ssize, df=j)\n",
        "    ls[i] = sp.stats.norm.pdf(t, loc=j, scale=np.sqrt(2 * lambdas[i]))\n",
        "    #pl.figure()\n",
        "    #pl.hist(y[i])\n",
        "fig, ax = pl.subplots()\n",
        "ax.axis([-20, 35, 0, 0.2])\n",
        "bins = t\n",
        "\n",
        "y0 = np.histogram(y[0], bins=bins, density=1)[0]\n",
        "\n",
        "n, bins, patches = pl.hist(y0, bins, density=1, \n",
        "                            facecolor='SteelBlue', alpha=0.75);\n",
        "l,= ax.plot(t, ls[i])\n",
        "texts = ax.text(0.60, 0.9,  'lambda = %d'%lambdas[0], transform=ax.transAxes, \n",
        "               fontsize=20)\n",
        "ax.plot([0, 0], [0, 0.4], 'k-', alpha=0.5)\n",
        "\n",
        "def animate(i):    \n",
        "    n, _ = np.histogram(y[i], bins=bins, density=1)\n",
        "    for rect, h in zip(patches, n):\n",
        "        rect.set_height(h)\n",
        "    texts.set_text('lambda = %d'%lambdas[i])\n",
        "    l.set_data(t, ls[i])\n",
        "    return patches\n",
        "\n",
        "ani = matplotlib.animation.FuncAnimation(fig, animate, frames=len(lambdas))\n",
        "HTML(ani.to_jshtml())"
      ],
      "execution_count": null,
      "outputs": []
    },
    {
      "cell_type": "markdown",
      "metadata": {
        "ExecuteTime": {
          "end_time": "2019-09-03T16:53:44.840664Z",
          "start_time": "2019-09-03T16:53:44.810678Z"
        },
        "id": "x2CDf47orX1t"
      },
      "source": [
        "## Uniform\n",
        "\n"
      ]
    },
    {
      "cell_type": "code",
      "metadata": {
        "ExecuteTime": {
          "end_time": "2019-09-03T16:57:56.176171Z",
          "start_time": "2019-09-03T16:57:54.941505Z"
        },
        "id": "2GhIFX-brX1t"
      },
      "source": [
        "t = np.linspace(-Ndistribs, Ndistribs, Ndistribs*2+1).astype(int)\n",
        "lambdas = np.linspace(1, Ndistribs, Ndistribs).astype(int)\n",
        "center = 0\n",
        "for i,j in enumerate(lambdas):\n",
        "    #print(mus[i])\n",
        "    y[i] = sp.stats.uniform.rvs(size=ssize, loc=center, scale=j)\n",
        "fig, ax = pl.subplots()\n",
        "ax.axis([-20, 35, 0, 0.2])\n",
        "bins = t\n",
        "\n",
        "y0 = np.histogram(y[0], bins=bins, density=1)[0]\n",
        "\n",
        "n, bins, patches = pl.hist(y0, bins, density=1, \n",
        "                            facecolor='SteelBlue', alpha=0.75);\n",
        "texts = ax.text(0.60, 0.9,  'scale = %d'%lambdas[0], transform=ax.transAxes, \n",
        "               fontsize=20)\n",
        "ax.plot([0, 0], [0, 0.4], 'k-', alpha=0.5)\n",
        "\n",
        "def animate(i):    \n",
        "    n, _ = np.histogram(y[i], bins=bins, density=1)\n",
        "    for rect, h in zip(patches, n):\n",
        "        rect.set_height(h)\n",
        "    texts.set_text('scale = %d'%lambdas[i])\n",
        "    l.set_data(t, ls[i])\n",
        "    return patches\n",
        "\n",
        "ani = matplotlib.animation.FuncAnimation(fig, animate, frames=len(y))\n",
        "HTML(ani.to_jshtml())"
      ],
      "execution_count": null,
      "outputs": []
    },
    {
      "cell_type": "markdown",
      "metadata": {
        "id": "4ZIg06uMGzaU"
      },
      "source": [
        "# Central Limit Theorem\n",
        "\n",
        "Central Limit Theorem states that given a high enough sample size, the following properties hold true:\n",
        "\n",
        "* Sampling distribution's mean = Population mean (μ), and\n",
        "* Sampling distribution's standard deviation (standard error) = σ/√n, such that\n",
        "* for n ≥ 30, the sampling distribution tends to a normal distribution for all practical purposes."
      ]
    },
    {
      "cell_type": "markdown",
      "metadata": {
        "id": "9JD8IIUgbof0"
      },
      "source": [
        "#### Exponentially distributed population"
      ]
    },
    {
      "cell_type": "code",
      "metadata": {
        "id": "YKOEImRZdH1c"
      },
      "source": [
        "# rate parameter for the exponentially distributed population\n",
        "rate = 0.25\n",
        "\n",
        "sample_size = 500\n",
        "\n",
        "# population\n",
        "exponential_sample = np.random.exponential((1/rate), sample_size)\n",
        "plt.hist(exponential_sample, bins = 20);"
      ],
      "execution_count": null,
      "outputs": []
    },
    {
      "cell_type": "code",
      "metadata": {
        "id": "7XftgPU9bsq9"
      },
      "source": [
        "#Population mean\n",
        "mu = 1/rate\n",
        "\n",
        "# Population standard deviation\n",
        "sd = np.sqrt(1/(rate**2))\n",
        "\n",
        "print('Population mean:', mu)\n",
        "print('Population standard deviation:', sd)"
      ],
      "execution_count": null,
      "outputs": []
    },
    {
      "cell_type": "code",
      "metadata": {
        "id": "Prc9bwG1cBiC"
      },
      "source": [
        "# drawing 50 random samples of size 2 from the exponentially distributed population\n",
        "sample_size = 2\n",
        "df2 = pd.DataFrame(index= ['x1', 'x2'] )\n",
        "\n",
        "for i in range(1, 51):\n",
        "    exponential_sample = np.random.exponential((1/rate), sample_size)\n",
        "    col = f'sample {i}'\n",
        "    df2[col] = exponential_sample\n",
        "\n",
        "# Taking a peek at the samples\n",
        "df2"
      ],
      "execution_count": null,
      "outputs": []
    },
    {
      "cell_type": "code",
      "metadata": {
        "id": "wgqG52ftcQYf"
      },
      "source": [
        "# Calculating sample means and plotting their distribution\n",
        "df2_sample_means = df2.mean()\n",
        "sns.distplot(df2_sample_means);"
      ],
      "execution_count": null,
      "outputs": []
    },
    {
      "cell_type": "code",
      "metadata": {
        "id": "mni9iCFXcWxQ"
      },
      "source": [
        "# drawing 50 random samples of size 500\n",
        "sample_size=500\n",
        "\n",
        "df500 = pd.DataFrame()\n",
        "\n",
        "for i in range(1, 51):\n",
        "    exponential_sample = np.random.exponential((1/rate), sample_size)\n",
        "    col = f'sample {i}'\n",
        "    df500[col] = exponential_sample\n",
        "\n",
        "\n",
        "df500_sample_means = pd.DataFrame(df500.mean(),columns=['Sample means'])\n",
        "sns.distplot(df500_sample_means);"
      ],
      "execution_count": null,
      "outputs": []
    },
    {
      "cell_type": "code",
      "metadata": {
        "id": "WC_xT-Djcgjr"
      },
      "source": [
        "#The first 5 values from the 50 sample means\n",
        "df500_sample_means.head()"
      ],
      "execution_count": null,
      "outputs": []
    },
    {
      "cell_type": "code",
      "metadata": {
        "id": "jDqP5sd3cpTg"
      },
      "source": [
        "# An estimate of the standard deviation of the sampling distribution can be obtained as:\n",
        "np.std(df500_sample_means)"
      ],
      "execution_count": null,
      "outputs": []
    },
    {
      "cell_type": "code",
      "metadata": {
        "id": "GFZZY14qd1iA"
      },
      "source": [
        "# according to the central limit theorem, the sampling distribution standard deviation should be:\n",
        "# σ/√n\n",
        "sd = np.sqrt(1/(rate**2)) # standard deviation of the original population\n",
        "\n",
        "print(sd/np.sqrt(sample_size))\n",
        "\n"
      ],
      "execution_count": null,
      "outputs": []
    },
    {
      "cell_type": "markdown",
      "metadata": {
        "id": "E83pKvIkqKOe"
      },
      "source": [
        "# Random variables"
      ]
    },
    {
      "cell_type": "markdown",
      "metadata": {
        "id": "TgnM9pkpqMzh"
      },
      "source": [
        "In practice we never have access to the population, but to its samples. The descriptive statistics of the samples are random variables.\n",
        " \n",
        " Sample the population and see that the descriptive statistics of the sample (random variables) change at every sampling."
      ]
    },
    {
      "cell_type": "code",
      "metadata": {
        "id": "Y7gBWu7HjfzC"
      },
      "source": [
        "df = pd.read_csv('https://github.com/araldi/HS21---Big-Data-Analysis-in-Biomedical-Research-376-1723-00L-/blob/main/numpy/Week2_homework_data.csv?raw=true')"
      ],
      "execution_count": null,
      "outputs": []
    },
    {
      "cell_type": "code",
      "metadata": {
        "id": "ISsZRXhHzMtT"
      },
      "source": [
        "# calculate BMI\n",
        "df['BMI']= df['21002-0.0'] / np.power(df['50-0.0']/100,2)"
      ],
      "execution_count": null,
      "outputs": []
    },
    {
      "cell_type": "code",
      "metadata": {
        "id": "0jJWQKgMjjAl"
      },
      "source": [
        "# Plot the mean BMI of the whole cohort\n",
        "plt.figure(figsize =(5, 5))\n",
        "sns.boxplot(df['31-0.0'], df['BMI'], palette ='Pastel2')\n",
        "plt.xlabel('Gender')\n",
        "plt.ylabel('BMI [kg/m^2]')\n",
        "plt.title('BMI in ~500.000 individuals')"
      ],
      "execution_count": null,
      "outputs": []
    },
    {
      "cell_type": "code",
      "metadata": {
        "id": "u2EBJAQ4jwnA"
      },
      "source": [
        "# Plot the mean BMI of samples of the cohort\n",
        "for trials in range(3):\n",
        "  plt.figure(figsize =(5, 5))\n",
        "  df1 = df.sample(1000)\n",
        "  sns.boxplot(df1['31-0.0'], df1['BMI'], palette ='Pastel2')\n",
        "  plt.xlabel('Gender')\n",
        "  plt.ylabel('BMI [kg/m^2]')\n",
        "  plt.title('BMI in 1000 individuals')\n",
        "  print(\"mean males: \",  df1[df1['31-0.0'] == 1]['BMI'].mean(), '\\nmean females: ',  \n",
        "        df1[df1['31-0.0'] == 0]['BMI'].mean())\n",
        "  plt.show()"
      ],
      "execution_count": null,
      "outputs": []
    },
    {
      "cell_type": "markdown",
      "metadata": {
        "id": "ZWTonZYy_4v9"
      },
      "source": [
        "# Null hypothesis testing"
      ]
    },
    {
      "cell_type": "markdown",
      "metadata": {
        "id": "a0-zdMMMsylm"
      },
      "source": [
        "Let's test if the observed differences between BMI in males and females are due to randomness."
      ]
    },
    {
      "cell_type": "code",
      "metadata": {
        "id": "__bdo7xtvRJq"
      },
      "source": [
        "# What is the observed difference between male and female BMI?\n",
        "\n",
        "# mean of BMI of males\n",
        "np.mean(df[df['31-0.0'] == 1]['BMI']) "
      ],
      "execution_count": null,
      "outputs": []
    },
    {
      "cell_type": "code",
      "metadata": {
        "id": "d90pciNZvb1_"
      },
      "source": [
        "# mean of BMI of females\n",
        "np.mean(df[df['31-0.0'] == 0]['BMI']) "
      ],
      "execution_count": null,
      "outputs": []
    },
    {
      "cell_type": "code",
      "metadata": {
        "id": "JQuzP8mNvecn"
      },
      "source": [
        "observed_difference = np.mean(df[df['31-0.0'] == 1]['BMI']) - np.mean(df[df['31-0.0'] == 0]['BMI']) "
      ],
      "execution_count": null,
      "outputs": []
    },
    {
      "cell_type": "code",
      "metadata": {
        "id": "UAAzQ26MvjW_"
      },
      "source": [
        "observed_difference"
      ],
      "execution_count": null,
      "outputs": []
    },
    {
      "cell_type": "code",
      "metadata": {
        "id": "92YIzw68pYnk"
      },
      "source": [
        "# Test if the null hypothesis is true\n",
        "\n",
        "#null hypothesis: BMI in males and females is identical\n",
        "\n",
        "# the null hypothesis array will contain the difference between two samples of the male population\n",
        "# then we will test how many times the null array is bigger than the observed difference\n",
        "\n",
        "null_hypothesis = np.empty(1)\n",
        "df_males = df[df['31-0.0'] == 1]\n",
        "# let's simulate the sampling in the same population (male)\n",
        "for i in range(1000):\n",
        "  males1 = np.mean(df_males['BMI'].sample(1000))\n",
        "  males2 = np.mean(df_males['BMI'].sample(1000))\n",
        "  difference = males1-males2\n",
        "  null_hypothesis = np.append(null_hypothesis, difference)"
      ],
      "execution_count": null,
      "outputs": []
    },
    {
      "cell_type": "code",
      "metadata": {
        "id": "rGygUXRGtLa6"
      },
      "source": [
        "# let's compare the sampling in males with the observed differences\n",
        "np.mean(null_hypothesis >= observed_difference)"
      ],
      "execution_count": null,
      "outputs": []
    },
    {
      "cell_type": "markdown",
      "metadata": {
        "id": "2_kBLRO68v6c"
      },
      "source": [
        "The chances of the female and males having identical BMI distribution is x%"
      ]
    }
  ]
}