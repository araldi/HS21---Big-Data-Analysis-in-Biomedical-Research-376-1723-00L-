{
  "nbformat": 4,
  "nbformat_minor": 0,
  "metadata": {
    "colab": {
      "name": "00_Python easy exercises_solutions.ipynb",
      "provenance": [],
      "authorship_tag": "ABX9TyPliV9a6kktSiQnht9nu4+J",
      "include_colab_link": true
    },
    "kernelspec": {
      "name": "python3",
      "display_name": "Python 3"
    },
    "language_info": {
      "name": "python"
    }
  },
  "cells": [
    {
      "cell_type": "markdown",
      "metadata": {
        "id": "view-in-github",
        "colab_type": "text"
      },
      "source": [
        "<a href=\"https://colab.research.google.com/github/araldi/HS21---Big-Data-Analysis-in-Biomedical-Research-376-1723-00L-/blob/main/Exercises/00_Python_easy_exercises_solutions.ipynb\" target=\"_parent\"><img src=\"https://colab.research.google.com/assets/colab-badge.svg\" alt=\"Open In Colab\"/></a>"
      ]
    },
    {
      "cell_type": "markdown",
      "metadata": {
        "id": "neFN4J5fo0ZV"
      },
      "source": [
        "## Exercise 1"
      ]
    },
    {
      "cell_type": "markdown",
      "metadata": {
        "id": "vKt9BYKbAYXE"
      },
      "source": [
        "Given this object:\n",
        "\n",
        "```\n",
        "import numpy as np\n",
        "a = np.random.randint(0, 1000, np.random.randint(1000))\n",
        "```\n",
        "\n",
        "* count how many elements in total\n",
        "* count how many even and odd numbers"
      ]
    },
    {
      "cell_type": "code",
      "metadata": {
        "id": "emB3mn3xAl1-"
      },
      "source": [
        "import numpy as np\n",
        "a = np.random.randint(0, 1000, np.random.randint(1000))"
      ],
      "execution_count": null,
      "outputs": []
    },
    {
      "cell_type": "code",
      "metadata": {
        "id": "KEv-exCZoVQl"
      },
      "source": [
        "# HINT\n",
        "# create a variable equal to zero that counts even numbers and a variable equal to zero that counts odd numbers\n",
        "# AKA initialize the counters:\n",
        "odd = 0\n",
        "even = 0\n",
        "\n",
        "# check the length of the object\n",
        "length = len(a)\n",
        "\n",
        "# loop over each element of the object with a for loop\n",
        "for i in a:\n",
        "# use the modulus operation (to see if the numbers give a remainder 1 or not when divided by 1)\n",
        "  remainder = i%2\n",
        "# create a logical if/else statement to check if the number is odd (or even)\n",
        "# and appropriately add odd or even numbers to counters\n",
        "  if remainder == 1: # checks if number is odd\n",
        "    odd = odd +1 # add one element to odd counter\n",
        "  else: # checks if even \n",
        "    even = even + 1 # add one element to even counter\n",
        "\n",
        "# print how many elements in the object and how many odd and even numbers you have found\n",
        "print(\"the object has {} elements:\".format(length))\n",
        "print(\"there are {} odd numbers\".format(odd))\n",
        "print(\"there are {} even numbers\".format(even))\n"
      ],
      "execution_count": null,
      "outputs": []
    },
    {
      "cell_type": "markdown",
      "metadata": {
        "id": "RMnV5wknAQ2e"
      },
      "source": [
        "Create a function for the code above that takes as input any given list"
      ]
    },
    {
      "cell_type": "code",
      "metadata": {
        "id": "ZbHSrkISpkbx"
      },
      "source": [
        "def check_lenght_odds_evens(input_list):\n",
        "  odd = 0\n",
        "  even = 0\n",
        "  \n",
        "  length = len(input_list)\n",
        "\n",
        "  for i in input_list:\n",
        "    remainder = i%2\n",
        "    if remainder == 1: # checks if number is odd\n",
        "      odd = odd +1\n",
        "    else:\n",
        "      even = even + 1\n",
        "\n",
        "  print(\"the object has {} elements:\".format(length))\n",
        "  print(\"there are {} odd numbers\".format(odd))\n",
        "  print(\"there are {} even numbers\".format(even))\n"
      ],
      "execution_count": null,
      "outputs": []
    },
    {
      "cell_type": "markdown",
      "metadata": {
        "id": "fR5YkH37AC22"
      },
      "source": [
        "Test the function with the following list:\n",
        "\n"
      ]
    },
    {
      "cell_type": "code",
      "metadata": {
        "id": "zzV77m5PArtc"
      },
      "source": [
        "another_list = [0, 4, 9, 15, 7, 98, 12325, 34, 2, 5, 67, 95]"
      ],
      "execution_count": null,
      "outputs": []
    },
    {
      "cell_type": "code",
      "metadata": {
        "id": "PohilUfFqiRT"
      },
      "source": [
        "# HINT\n",
        "# call the function using another_list as parameter\n",
        "check_lenght_odds_evens(another_list)"
      ],
      "execution_count": null,
      "outputs": []
    },
    {
      "cell_type": "markdown",
      "metadata": {
        "id": "lsyFwdCv_-YF"
      },
      "source": [
        "Which type of object is a?"
      ]
    },
    {
      "cell_type": "markdown",
      "metadata": {
        "id": "cIBBWX5gteL4"
      },
      "source": [
        "## Exercise 2\n",
        "\n",
        "Write a Python program that accepts a word from the user and reverse it."
      ]
    },
    {
      "cell_type": "code",
      "metadata": {
        "id": "l_Ckwu63tkvX"
      },
      "source": [
        "# HINT\n",
        "# create the input\n",
        "input_word = input(\"Please enter a word and this code will reverse  it: \", )\n",
        "# reverse the word with slicing\n",
        "output_word = input_word[::-1].lower() # I have added the function lower() to lower all the letters otherwise it looks weird\n",
        "# print the output\n",
        "print(output_word) \n",
        "\n"
      ],
      "execution_count": null,
      "outputs": []
    },
    {
      "cell_type": "markdown",
      "metadata": {
        "id": "sjmHpl6i_j_F"
      },
      "source": [
        "From the same word, the output will be a word containly only every 3 letters of the original word.\n"
      ]
    },
    {
      "cell_type": "code",
      "metadata": {
        "id": "Bk4n0Zp__qCf"
      },
      "source": [
        "# take every 3 letters of the input word\n",
        "output_word = input_word[::3].lower() # I have added the function lower() to lower all the letters otherwise it looks weird\n",
        "# print the output\n",
        "print(output_word) "
      ],
      "execution_count": null,
      "outputs": []
    },
    {
      "cell_type": "markdown",
      "metadata": {
        "id": "cpJGX9kau6Kf"
      },
      "source": [
        "## Exercise 3"
      ]
    },
    {
      "cell_type": "markdown",
      "metadata": {
        "id": "exeuTb1M-4pD"
      },
      "source": [
        "Write a Python program that accepts a string and calculate the number of digits and letters\n",
        "\n",
        "**HINT**: Use the function .isdigit() and .isalpha() to check if the elements in the string are numbers or letters"
      ]
    },
    {
      "cell_type": "code",
      "metadata": {
        "id": "XcxE3CuwuHpo"
      },
      "source": [
        "# HINT\n",
        "\n",
        "# create the input\n",
        "input_object = input(\"Please enter letters and numbers: \", )\n",
        "\n",
        "# create a variable equal to zero that counts numbers and a variable equal to zero that counts letters\n",
        "# AKA initialize the counters:\n",
        "digits = 0\n",
        "letters = 0\n",
        "\n",
        "# loop over each element of the object with a for loop\n",
        "for i in input_object:\n",
        "# check if element is a digit with .isdigit() or if it is a letter with .isalpha()\n",
        "# use if/elif statement\n",
        "# and appropriately add numbers to counters\n",
        "\n",
        "  if i.isdigit(): \n",
        "    digits = digits +1\n",
        "  elif i.isalpha(): # better to specifically check if the other strings are not other symbols\n",
        "    letters = letters +1\n",
        "\n",
        "# print how many letters and numbers in the object you have found\n",
        "print('There are {} letters and {} digits'.format(letters, digits))\n",
        "\n"
      ],
      "execution_count": null,
      "outputs": []
    },
    {
      "cell_type": "markdown",
      "metadata": {
        "id": "AmE7GLEE-zEm"
      },
      "source": [
        "Modify the code so that you can also check how many other symbols are in the input"
      ]
    },
    {
      "cell_type": "code",
      "metadata": {
        "id": "9vlZgTu1vfMl"
      },
      "source": [
        "# HINT\n",
        "\n",
        "# create the input\n",
        "input_object = input(\"Please enter letters and numbers: \", )\n",
        "\n",
        "# create a variable equal to zero that counts numbers \n",
        "# and a variable equal to zero that counts letters\n",
        "# and a variable equal to zero that counts symbols\n",
        "\n",
        "# AKA initialize the counters:\n",
        "digits = 0\n",
        "letters = 0\n",
        "symbols = 0\n",
        "\n",
        "# loop over each element of the object with a for loop\n",
        "for i in input_object:\n",
        "# check if element is a digit with .isdigit() or if it is a letter with .isalpha()\n",
        "# use if/elif statement\n",
        "# and appropriately add numbers to counters\n",
        "\n",
        "  if i.isdigit(): \n",
        "    digits = digits +1\n",
        "  elif i.isalpha(): # better to specifically check if the other strings are not other symbols\n",
        "    letters = letters +1\n",
        "  else: # if not letter or digit, add a value to the symbols counter\n",
        "    symbols = symbols + 1\n",
        "\n",
        "# print how many letters and numbers in the object you have found\n",
        "print('There are {} letters, {} digits and {} symbols'.format(letters, digits, symbols))"
      ],
      "execution_count": null,
      "outputs": []
    },
    {
      "cell_type": "markdown",
      "metadata": {
        "id": "ErrdAzp6xwqL"
      },
      "source": [
        "## Exercise 4\n",
        "\n",
        "Write a script that creates a dictionary that has as keys numbers from 1 to 100 \n",
        "and as values are the square of the keys. \n",
        "something like that:\n",
        "\n",
        "\n",
        "```\n",
        "{1:1, 2:4, 3:9, ....}\n",
        "```\n",
        "\n"
      ]
    },
    {
      "cell_type": "code",
      "metadata": {
        "id": "5V5DmQZO7tDv"
      },
      "source": [
        "# HINT\n",
        "# Initilize the dictionary:\n",
        "square_dict = {}\n",
        "\n",
        "# loop over a range of numbers from 1 to 101 (it is Python!)\n",
        "for i in range(1,101): #remember that Python does not consider the last number in the range:\n",
        "\n",
        "# Populate the dictionary\n",
        "  square_dict[i] = i * i\n",
        "\n",
        "# check what you have done\n",
        "square_dict"
      ],
      "execution_count": null,
      "outputs": []
    },
    {
      "cell_type": "markdown",
      "metadata": {
        "id": "0qWFiNj7_QZD"
      },
      "source": [
        "Check if what you have created is indeed a dictionary"
      ]
    },
    {
      "cell_type": "code",
      "metadata": {
        "id": "J25j5QSw8aFK"
      },
      "source": [
        "type(square_dict)"
      ],
      "execution_count": null,
      "outputs": []
    },
    {
      "cell_type": "markdown",
      "metadata": {
        "id": "y9v0bTSG_Z5x"
      },
      "source": [
        "Check whether a given number already exists in a dictionary, and if not, add it"
      ]
    },
    {
      "cell_type": "code",
      "metadata": {
        "id": "_WfqpGns-wCV"
      },
      "source": [
        "# HINT\n",
        "new_number = input('Give me a number: ')\n",
        "\n",
        "# OPTIONAL\n",
        "# check if the number is actually a number, and if not, return an error message\n",
        "if new_number.isdigit():\n",
        "  new_number = int(new_number)\n",
        "\n",
        "# check if the input number is in the keys of the dictionary with the .keys() function\n",
        "  if new_number in square_dict.keys():\n",
        "    print('{} is already in the dictionary. Its square is {}'.format(new_number, \n",
        "                                                                    square_dict[new_number]))\n",
        "# if the number is not present, add it like above\n",
        "  else:\n",
        "    square_dict[new_number] = new_number * new_number\n",
        "    print('{} is not in the dictionary. It is now added. Its square is {}'.format(new_number, \n",
        "                                                                    square_dict[new_number]))\n",
        "\n",
        "# if input is not a number, return an error message\n",
        "else:\n",
        "  print('ERROR: the input was not a number')"
      ],
      "execution_count": null,
      "outputs": []
    }
  ]
}