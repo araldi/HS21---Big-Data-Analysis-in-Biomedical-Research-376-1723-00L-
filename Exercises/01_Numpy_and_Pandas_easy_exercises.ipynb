{
  "nbformat": 4,
  "nbformat_minor": 0,
  "metadata": {
    "colab": {
      "name": "01_Numpy and Pandas easy exercises.ipynb",
      "provenance": [],
      "authorship_tag": "ABX9TyPeeSU8SNUxtrLK4ASH8eXt",
      "include_colab_link": true
    },
    "kernelspec": {
      "name": "python3",
      "display_name": "Python 3"
    },
    "language_info": {
      "name": "python"
    }
  },
  "cells": [
    {
      "cell_type": "markdown",
      "metadata": {
        "id": "view-in-github",
        "colab_type": "text"
      },
      "source": [
        "<a href=\"https://colab.research.google.com/github/araldi/HS21---Big-Data-Analysis-in-Biomedical-Research-376-1723-00L-/blob/main/Exercises/01_Numpy_and_Pandas_easy_exercises.ipynb\" target=\"_parent\"><img src=\"https://colab.research.google.com/assets/colab-badge.svg\" alt=\"Open In Colab\"/></a>"
      ]
    },
    {
      "cell_type": "markdown",
      "metadata": {
        "id": "4-R5KCs5NqvO"
      },
      "source": [
        "# Easy exercises"
      ]
    },
    {
      "cell_type": "code",
      "metadata": {
        "id": "SJI1I1yeNcOa"
      },
      "source": [
        "# import pandas and numpy and give them easy aliases\n"
      ],
      "execution_count": null,
      "outputs": []
    },
    {
      "cell_type": "markdown",
      "metadata": {
        "id": "3ehCazV6D3Eg"
      },
      "source": [
        "### NumPy"
      ]
    },
    {
      "cell_type": "code",
      "metadata": {
        "id": "MgrGG4-LNnM1"
      },
      "source": [
        "# Create a numpy array (called a) with 10 random numbers taken from a standard distribution\n"
      ],
      "execution_count": null,
      "outputs": []
    },
    {
      "cell_type": "code",
      "metadata": {
        "id": "IqYMvVoAN2Sk"
      },
      "source": [
        "# Create a numpy array (called b) with 10 random integer numbers \n"
      ],
      "execution_count": null,
      "outputs": []
    },
    {
      "cell_type": "code",
      "metadata": {
        "id": "V0Sdr2u4S_RT"
      },
      "source": [
        "# Sum a and b\n"
      ],
      "execution_count": null,
      "outputs": []
    },
    {
      "cell_type": "code",
      "metadata": {
        "id": "a8Z5lROCN2Py"
      },
      "source": [
        "# Multiply a and b\n"
      ],
      "execution_count": null,
      "outputs": []
    },
    {
      "cell_type": "code",
      "metadata": {
        "id": "OgykaaLzN2NJ"
      },
      "source": [
        "# Elevate a to the power of b\n"
      ],
      "execution_count": null,
      "outputs": []
    },
    {
      "cell_type": "code",
      "metadata": {
        "id": "P_LInNZYEBLM"
      },
      "source": [
        "# Calculate mean and standard deviation of a and b"
      ],
      "execution_count": null,
      "outputs": []
    },
    {
      "cell_type": "code",
      "metadata": {
        "id": "psYWfEAJN2KK"
      },
      "source": [
        "# Create a numpy array made of a random quantity of zeros\n"
      ],
      "execution_count": null,
      "outputs": []
    },
    {
      "cell_type": "code",
      "metadata": {
        "id": "Q9kea3XHN2Hi"
      },
      "source": [
        "# Create a numpy array made of a random quantity of ones"
      ],
      "execution_count": null,
      "outputs": []
    },
    {
      "cell_type": "markdown",
      "metadata": {
        "id": "1asQ4DU7EG7-"
      },
      "source": [
        "#### Pandas"
      ]
    },
    {
      "cell_type": "code",
      "metadata": {
        "id": "76Y3Z333N2EW"
      },
      "source": [
        "# open this csv file and assign it to a variable called df to be used in the next cells\n",
        "# https://github.com/araldi/HS21---Big-Data-Analysis-in-Biomedical-Research-376-1723-00L-/blob/main/numpy/Week2_homework_data.csv?raw=true\n"
      ],
      "execution_count": null,
      "outputs": []
    },
    {
      "cell_type": "code",
      "metadata": {
        "id": "CjB1QYCOOhqk"
      },
      "source": [
        "# See the first 15 entries"
      ],
      "execution_count": null,
      "outputs": []
    },
    {
      "cell_type": "code",
      "metadata": {
        "id": "e1uIA7UDPVCY"
      },
      "source": [
        "# See the last 15 entries"
      ],
      "execution_count": null,
      "outputs": []
    },
    {
      "cell_type": "code",
      "metadata": {
        "id": "scqZg6mPOtIR"
      },
      "source": [
        "# What is the number of observations in the dataset?"
      ],
      "execution_count": null,
      "outputs": []
    },
    {
      "cell_type": "code",
      "metadata": {
        "id": "Jm0P7JwyOvfN"
      },
      "source": [
        "# What is the number of columns in the dataset?"
      ],
      "execution_count": null,
      "outputs": []
    },
    {
      "cell_type": "code",
      "metadata": {
        "id": "Pj2RfIbBPa4z"
      },
      "source": [
        "# What is the data type of each column?"
      ],
      "execution_count": null,
      "outputs": []
    },
    {
      "cell_type": "code",
      "metadata": {
        "id": "sUg2teWzOveS"
      },
      "source": [
        "# Print the name of all the columns"
      ],
      "execution_count": null,
      "outputs": []
    },
    {
      "cell_type": "code",
      "metadata": {
        "id": "Hf73i-tAOvdO"
      },
      "source": [
        "# What is the name of 4th column?"
      ],
      "execution_count": null,
      "outputs": []
    },
    {
      "cell_type": "code",
      "metadata": {
        "id": "a8LH2dGfOvcQ"
      },
      "source": [
        "# What is the type of observation of 4th column?"
      ],
      "execution_count": null,
      "outputs": []
    },
    {
      "cell_type": "code",
      "metadata": {
        "id": "5XX3t01XOvC9"
      },
      "source": [
        "# What is the index like?"
      ],
      "execution_count": null,
      "outputs": []
    },
    {
      "cell_type": "code",
      "metadata": {
        "id": "e2VGPHqkPAhe"
      },
      "source": [
        "# What is the value of the element in the 50th row and 4th column?\n"
      ],
      "execution_count": null,
      "outputs": []
    },
    {
      "cell_type": "code",
      "metadata": {
        "id": "KtQp6C95frK-"
      },
      "source": [
        "# Show only the column '31-0.0'"
      ],
      "execution_count": null,
      "outputs": []
    },
    {
      "cell_type": "code",
      "metadata": {
        "id": "Vj5ilq0dPAbJ"
      },
      "source": [
        "# Open this file\n",
        "# https://raw.githubusercontent.com/justmarkham/DAT8/master/data/u.user\n",
        "# Careful! It is not a comma separated file!!! \n",
        "# Try with the regular function that you have learnt, then check how columns are \n",
        "# separated and then use the sep = \"\" argument with the appropriate separator symbol"
      ],
      "execution_count": null,
      "outputs": []
    },
    {
      "cell_type": "code",
      "metadata": {
        "id": "347cpI3fQpIv"
      },
      "source": [
        "# Open this file\n",
        "# https://raw.githubusercontent.com/justmarkham/DAT8/master/data/chipotle.tsv\n",
        "# Don't forget the correct separator!"
      ],
      "execution_count": null,
      "outputs": []
    },
    {
      "cell_type": "code",
      "metadata": {
        "id": "BftgxKEhQsCw"
      },
      "source": [
        ""
      ],
      "execution_count": null,
      "outputs": []
    }
  ]
}