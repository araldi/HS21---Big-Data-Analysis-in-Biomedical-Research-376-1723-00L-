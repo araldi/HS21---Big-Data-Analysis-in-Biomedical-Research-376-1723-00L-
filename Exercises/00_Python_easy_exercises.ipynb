{
  "nbformat": 4,
  "nbformat_minor": 0,
  "metadata": {
    "colab": {
      "name": "00_Python easy exercises.ipynb",
      "provenance": [],
      "authorship_tag": "ABX9TyNUbQeyPqdXf3YhR+csnLCo",
      "include_colab_link": true
    },
    "kernelspec": {
      "name": "python3",
      "display_name": "Python 3"
    },
    "language_info": {
      "name": "python"
    }
  },
  "cells": [
    {
      "cell_type": "markdown",
      "metadata": {
        "id": "view-in-github",
        "colab_type": "text"
      },
      "source": [
        "<a href=\"https://colab.research.google.com/github/araldi/HS21---Big-Data-Analysis-in-Biomedical-Research-376-1723-00L-/blob/main/Exercises/00_Python_easy_exercises.ipynb\" target=\"_parent\"><img src=\"https://colab.research.google.com/assets/colab-badge.svg\" alt=\"Open In Colab\"/></a>"
      ]
    },
    {
      "cell_type": "markdown",
      "metadata": {
        "id": "neFN4J5fo0ZV"
      },
      "source": [
        "## Exercise 1"
      ]
    },
    {
      "cell_type": "markdown",
      "metadata": {
        "id": "vKt9BYKbAYXE"
      },
      "source": [
        "Given this object:\n",
        "\n",
        "```\n",
        "import numpy as np\n",
        "a = np.random.randint(0, 1000, np.random.randint(1000))\n",
        "```\n",
        "\n",
        "* count how many elements in total\n",
        "* count how many even and odd numbers"
      ]
    },
    {
      "cell_type": "code",
      "metadata": {
        "id": "emB3mn3xAl1-"
      },
      "source": [
        "import numpy as np\n",
        "a = np.random.randint(0, 1000, np.random.randint(1000))"
      ],
      "execution_count": null,
      "outputs": []
    },
    {
      "cell_type": "code",
      "metadata": {
        "id": "KEv-exCZoVQl"
      },
      "source": [
        "# HINT\n",
        "# create a variable equal to zero that counts even numbers and a variable equal to zero that counts odd numbers\n",
        "# AKA initialize the counters:\n",
        "\n",
        "\n",
        "# check the length of the object\n",
        "\n",
        "\n",
        "# loop over each element of the object with a for loop\n",
        "\n",
        "# use the modulus operation (to see if the numbers give a remainder 1 or not when divided by 1)\n",
        "\n",
        "# create a logical if/else statement to check if the number is odd (or even)\n",
        "# and appropriately add odd or even numbers to counters\n",
        "\n",
        "\n",
        "# print how many elements in the object and how many odd and even numbers you have found\n",
        "\n"
      ],
      "execution_count": null,
      "outputs": []
    },
    {
      "cell_type": "markdown",
      "metadata": {
        "id": "RMnV5wknAQ2e"
      },
      "source": [
        "Create a function for the code above that takes as input any given list"
      ]
    },
    {
      "cell_type": "code",
      "metadata": {
        "id": "ZbHSrkISpkbx"
      },
      "source": [
        "# HINT\n",
        "def check_lenght_odds_evens(input_list):\n"
      ],
      "execution_count": null,
      "outputs": []
    },
    {
      "cell_type": "markdown",
      "metadata": {
        "id": "fR5YkH37AC22"
      },
      "source": [
        "Test the function with the following list:\n",
        "\n"
      ]
    },
    {
      "cell_type": "code",
      "metadata": {
        "id": "zzV77m5PArtc"
      },
      "source": [
        "another_list = [0, 4, 9, 15, 7, 98, 12325, 34, 2, 5, 67, 95]"
      ],
      "execution_count": null,
      "outputs": []
    },
    {
      "cell_type": "code",
      "metadata": {
        "id": "PohilUfFqiRT"
      },
      "source": [
        "# HINT\n",
        "# call the function using another_list as parameter\n"
      ],
      "execution_count": null,
      "outputs": []
    },
    {
      "cell_type": "markdown",
      "metadata": {
        "id": "lsyFwdCv_-YF"
      },
      "source": [
        "Which type of object is a?"
      ]
    },
    {
      "cell_type": "markdown",
      "metadata": {
        "id": "cIBBWX5gteL4"
      },
      "source": [
        "## Exercise 2\n",
        "\n",
        "Write a Python program that accepts a word from the user and reverse it."
      ]
    },
    {
      "cell_type": "code",
      "metadata": {
        "id": "l_Ckwu63tkvX"
      },
      "source": [
        "# HINT\n",
        "# create the input\n",
        "\n",
        "\n",
        "# reverse the word with slicing\n",
        "\n",
        "\n",
        "# print the output\n",
        "\n",
        "\n"
      ],
      "execution_count": null,
      "outputs": []
    },
    {
      "cell_type": "markdown",
      "metadata": {
        "id": "sjmHpl6i_j_F"
      },
      "source": [
        "From the same word, the output will be a word containly only every 3 letters of the original word.\n"
      ]
    },
    {
      "cell_type": "code",
      "metadata": {
        "id": "Bk4n0Zp__qCf"
      },
      "source": [
        "# HINT\n",
        "# take every 3 letters of the input word\n",
        "\n",
        "# print the output\n",
        " "
      ],
      "execution_count": null,
      "outputs": []
    },
    {
      "cell_type": "markdown",
      "metadata": {
        "id": "cpJGX9kau6Kf"
      },
      "source": [
        "## Exercise 3"
      ]
    },
    {
      "cell_type": "markdown",
      "metadata": {
        "id": "exeuTb1M-4pD"
      },
      "source": [
        "Write a Python program that accepts a string and calculate the number of digits and letters\n",
        "\n",
        "**HINT**: Use the function .isdigit() and .isalpha() to check if the elements in the string are numbers or letters"
      ]
    },
    {
      "cell_type": "code",
      "metadata": {
        "id": "XcxE3CuwuHpo"
      },
      "source": [
        "# HINT\n",
        "\n",
        "# create the input\n",
        "\n",
        "\n",
        "# create a variable equal to zero that counts numbers and a variable equal to zero that counts letters\n",
        "# AKA initialize the counters:\n",
        "\n",
        "\n",
        "\n",
        "# loop over each element of the object with a for loop\n",
        "\n",
        "# check if element is a digit with .isdigit() or if it is a letter with .isalpha()\n",
        "# use if/elif statement\n",
        "# and appropriately add numbers to counters\n",
        "\n",
        "\n",
        "# print how many letters and numbers in the object you have found\n",
        "\n"
      ],
      "execution_count": null,
      "outputs": []
    },
    {
      "cell_type": "markdown",
      "metadata": {
        "id": "AmE7GLEE-zEm"
      },
      "source": [
        "Modify the code so that you can also check how many other symbols are in the input"
      ]
    },
    {
      "cell_type": "code",
      "metadata": {
        "id": "9vlZgTu1vfMl"
      },
      "source": [
        "# HINT\n",
        "\n",
        "# create the input\n",
        "\n",
        "\n",
        "# create a variable equal to zero that counts numbers \n",
        "# and a variable equal to zero that counts letters\n",
        "# and a variable equal to zero that counts symbols\n",
        "\n",
        "# AKA initialize the counters:\n",
        "\n",
        "\n",
        "\n",
        "# loop over each element of the object with a for loop\n",
        "\n",
        "\n",
        "# check if element is a digit with .isdigit() or if it is a letter with .isalpha()\n",
        "# use if/elif statement\n",
        "# and appropriately add numbers to counters\n",
        "# if not letter or digit, add a value to the symbols counter\n",
        "\n",
        "\n",
        "\n",
        "# print how many letters and numbers in the object you have found\n"
      ],
      "execution_count": null,
      "outputs": []
    },
    {
      "cell_type": "markdown",
      "metadata": {
        "id": "ErrdAzp6xwqL"
      },
      "source": [
        "## Exercise 4\n",
        "\n",
        "Write a script that creates a dictionary that has as keys numbers from 1 to 100 \n",
        "and as values are the square of the keys. \n",
        "something like that:\n",
        "\n",
        "\n",
        "```\n",
        "{1:1, 2:4, 3:9, ....}\n",
        "```\n",
        "\n"
      ]
    },
    {
      "cell_type": "code",
      "metadata": {
        "id": "5V5DmQZO7tDv"
      },
      "source": [
        "# HINT\n",
        "# Initilize the dictionary:\n",
        "\n",
        "# loop over a range of numbers from 1 to 101 (it is Python!)\n",
        "\n",
        "# Populate the dictionary\n",
        "\n",
        "# check what you have done\n"
      ],
      "execution_count": null,
      "outputs": []
    },
    {
      "cell_type": "markdown",
      "metadata": {
        "id": "0qWFiNj7_QZD"
      },
      "source": [
        "Check if what you have created is indeed a dictionary"
      ]
    },
    {
      "cell_type": "code",
      "metadata": {
        "id": "J25j5QSw8aFK"
      },
      "source": [
        ""
      ],
      "execution_count": null,
      "outputs": []
    },
    {
      "cell_type": "markdown",
      "metadata": {
        "id": "y9v0bTSG_Z5x"
      },
      "source": [
        "Check whether a given number already exists in a dictionary, and if not, add it"
      ]
    },
    {
      "cell_type": "code",
      "metadata": {
        "id": "_WfqpGns-wCV"
      },
      "source": [
        "# HINT\n",
        "new_number = input('Give me a number: ')\n",
        "\n",
        "# OPTIONAL\n",
        "# check if the number is actually a number, and if not, return an error message\n",
        "\n",
        "\n",
        "# check if the input number is in the keys of the dictionary with the .keys() function\n",
        "\n",
        "\n",
        "# if the number is not present, add it like above\n",
        "\n",
        "\n",
        "# if input is not a number, return an error message\n"
      ],
      "execution_count": null,
      "outputs": []
    }
  ]
}