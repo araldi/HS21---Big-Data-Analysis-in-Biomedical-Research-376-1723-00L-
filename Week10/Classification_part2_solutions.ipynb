{
  "nbformat": 4,
  "nbformat_minor": 0,
  "metadata": {
    "colab": {
      "name": "Classification_part2_solutions.ipynb",
      "provenance": [],
      "collapsed_sections": [],
      "authorship_tag": "ABX9TyMjCtLfbVTzAnysOPNGQ7q6",
      "include_colab_link": true
    },
    "kernelspec": {
      "name": "python3",
      "display_name": "Python 3"
    },
    "language_info": {
      "name": "python"
    }
  },
  "cells": [
    {
      "cell_type": "markdown",
      "metadata": {
        "id": "view-in-github",
        "colab_type": "text"
      },
      "source": [
        "<a href=\"https://colab.research.google.com/github/araldi/HS21---Big-Data-Analysis-in-Biomedical-Research-376-1723-00L-/blob/main/Week10/Classification_part2_solutions.ipynb\" target=\"_parent\"><img src=\"https://colab.research.google.com/assets/colab-badge.svg\" alt=\"Open In Colab\"/></a>"
      ]
    },
    {
      "cell_type": "markdown",
      "metadata": {
        "id": "Q0Ut2VlzBoEL"
      },
      "source": [
        "# Predict breast cancer malignancy with supervised learning classification methods"
      ]
    },
    {
      "cell_type": "code",
      "metadata": {
        "id": "oISmmSyTBcBn"
      },
      "source": [
        "import pandas as pd\n",
        "import numpy as np\n",
        "import matplotlib.pyplot as plt\n",
        "import seaborn as sns\n",
        "\n",
        "dataset_url = 'https://raw.githubusercontent.com/araldi/HS21---Big-Data-Analysis-in-Biomedical-Research-376-1723-00L-/main/Week6/Logistic_regression_data.csv'\n",
        "\n",
        "breast = pd.read_csv(dataset_url)"
      ],
      "execution_count": null,
      "outputs": []
    },
    {
      "cell_type": "code",
      "metadata": {
        "colab": {
          "base_uri": "https://localhost:8080/"
        },
        "id": "EoNQ7WpaBuIG",
        "outputId": "3e3bbd36-7ec5-488e-c7ab-223b99291d3d"
      },
      "source": [
        "breast.info()\n"
      ],
      "execution_count": null,
      "outputs": [
        {
          "output_type": "stream",
          "name": "stdout",
          "text": [
            "<class 'pandas.core.frame.DataFrame'>\n",
            "RangeIndex: 569 entries, 0 to 568\n",
            "Data columns (total 33 columns):\n",
            " #   Column                   Non-Null Count  Dtype  \n",
            "---  ------                   --------------  -----  \n",
            " 0   id                       569 non-null    int64  \n",
            " 1   diagnosis                569 non-null    object \n",
            " 2   radius_mean              569 non-null    float64\n",
            " 3   texture_mean             569 non-null    float64\n",
            " 4   perimeter_mean           569 non-null    float64\n",
            " 5   area_mean                569 non-null    float64\n",
            " 6   smoothness_mean          569 non-null    float64\n",
            " 7   compactness_mean         569 non-null    float64\n",
            " 8   concavity_mean           569 non-null    float64\n",
            " 9   concave points_mean      569 non-null    float64\n",
            " 10  symmetry_mean            569 non-null    float64\n",
            " 11  fractal_dimension_mean   569 non-null    float64\n",
            " 12  radius_se                569 non-null    float64\n",
            " 13  texture_se               569 non-null    float64\n",
            " 14  perimeter_se             569 non-null    float64\n",
            " 15  area_se                  569 non-null    float64\n",
            " 16  smoothness_se            569 non-null    float64\n",
            " 17  compactness_se           569 non-null    float64\n",
            " 18  concavity_se             569 non-null    float64\n",
            " 19  concave points_se        569 non-null    float64\n",
            " 20  symmetry_se              569 non-null    float64\n",
            " 21  fractal_dimension_se     569 non-null    float64\n",
            " 22  radius_worst             569 non-null    float64\n",
            " 23  texture_worst            569 non-null    float64\n",
            " 24  perimeter_worst          569 non-null    float64\n",
            " 25  area_worst               569 non-null    float64\n",
            " 26  smoothness_worst         569 non-null    float64\n",
            " 27  compactness_worst        569 non-null    float64\n",
            " 28  concavity_worst          569 non-null    float64\n",
            " 29  concave points_worst     569 non-null    float64\n",
            " 30  symmetry_worst           569 non-null    float64\n",
            " 31  fractal_dimension_worst  569 non-null    float64\n",
            " 32  Unnamed: 32              0 non-null      float64\n",
            "dtypes: float64(31), int64(1), object(1)\n",
            "memory usage: 146.8+ KB\n"
          ]
        }
      ]
    },
    {
      "cell_type": "markdown",
      "metadata": {
        "id": "sgitTBstB5xa"
      },
      "source": [
        "## Exploratory data analysis"
      ]
    },
    {
      "cell_type": "code",
      "metadata": {
        "id": "W6YZOeO2By6q"
      },
      "source": [
        "feature_columns = breast.select_dtypes(exclude = ['int64','object']).columns\n",
        "features = [i for i in feature_columns if 'Unnamed: 32' not in i]\n",
        "features = [i.replace(' ', '_') for i in features]\n",
        "\n",
        "breast.rename(columns = dict(zip(feature_columns, features)), inplace=True)"
      ],
      "execution_count": null,
      "outputs": []
    },
    {
      "cell_type": "code",
      "metadata": {
        "colab": {
          "base_uri": "https://localhost:8080/",
          "height": 1000
        },
        "id": "RzsJMQGjB4tN",
        "outputId": "027f5806-bbd3-436f-d0b3-e058ce98baf5"
      },
      "source": [
        "plt.figure(figsize = (20,20))\n",
        "i=1\n",
        "for feature in features:\n",
        "  m = breast['diagnosis'] == 'M'\n",
        "  b = breast['diagnosis'] == 'B'\n",
        "  plt.subplot(5,6, i)\n",
        "  plt.hist(x=feature, data = breast[m], label = 'M', bins = 50)\n",
        "  plt.hist(x=feature, data = breast[b], label = 'B', bins = 50)\n",
        "  i = i+1\n",
        "  plt.xlabel(feature)\n",
        "  plt.legend()\n",
        "plt.show()\n",
        "plt.close()"
      ],
      "execution_count": null,
      "outputs": [
        {
          "output_type": "display_data",
          "data": {
            "image/png": "[encoded data removed]",
            "text/plain": [
              "<Figure size 1440x1440 with 30 Axes>"
            ]
          },
          "metadata": {
            "needs_background": "light"
          }
        }
      ]
    },
    {
      "cell_type": "markdown",
      "metadata": {
        "id": "pr3Fw0WlJc78"
      },
      "source": [
        "## Exercise\n",
        "\n",
        "* Prepare the dataset for machine learning (convert features in binary/continuos, split in train/test set - 25% test)\n",
        "* Classify malignant or benign breast tumors with Random Forest and Gradient Boosted trees.\n",
        "\n",
        "* Test different parameters (for Random Forest: criterion, depth, estimators, etc - for Gradient Boosted: loss,  depth, estimators, etc) to determine the best model.\n",
        "\n",
        "* Determine feature importance\n",
        "* Predict \"malignant\" or \"benign\" in the 25% split test set with the best fitting model.\n",
        "* Create a confusion matrix for the predictions.\n",
        "\n",
        "\n",
        "Useful code:\n",
        "```\n",
        "def getresults(test,pred_variable):\n",
        "  precision = metrics.precision_score(test,pred_variable,  pos_label=\"M\", average=\"binary\")\n",
        "  recall =  metrics.recall_score(test,pred_variable,  pos_label=\"M\", average=\"binary\")\n",
        "  accuracy = metrics.accuracy_score(test,pred_variable)\n",
        "  f1 = metrics.f1_score(test,pred_variable,  pos_label=\"M\", average=\"binary\")\n",
        "  return 'Precision:',precision , 'Recall: ', recall,\"Accuracy:\", accuracy, \"F1:\", f1\n",
        "\n",
        "```\n",
        "\n",
        "\n"
      ]
    },
    {
      "cell_type": "markdown",
      "metadata": {
        "id": "lq2kKDzqCGAL"
      },
      "source": [
        "#### Prepare the dataset for CART"
      ]
    },
    {
      "cell_type": "code",
      "metadata": {
        "id": "p41GOBS6L3dt"
      },
      "source": [
        "from sklearn.model_selection import train_test_split\n",
        "\n",
        "train_df, test_df = train_test_split(breast, test_size=0.25, random_state=2021)\n",
        "\n",
        "# it does not need scaling!!!"
      ],
      "execution_count": null,
      "outputs": []
    },
    {
      "cell_type": "markdown",
      "metadata": {
        "id": "8Xe0swOdEJW-"
      },
      "source": [
        "#### Random forest"
      ]
    },
    {
      "cell_type": "code",
      "metadata": {
        "colab": {
          "base_uri": "https://localhost:8080/"
        },
        "id": "EjTZsU_qCH7k",
        "outputId": "9598023e-5932-4f07-afd1-430e7d8d1467"
      },
      "source": [
        "from sklearn.ensemble import RandomForestClassifier\n",
        "# https://scikit-learn.org/stable/modules/generated/sklearn.ensemble.RandomForestClassifier.html\n",
        "\n",
        "#model 1\n",
        "rf1 =  RandomForestClassifier(max_depth=3, criterion=\"gini\", \n",
        "                                       random_state=2021).fit(train_df[features].values, \n",
        "                                                             train_df[\"diagnosis\"])\n",
        "print (\"score %.2f\"%rf1.score(train_df[features].values, train_df[\"diagnosis\"]))"
      ],
      "execution_count": null,
      "outputs": [
        {
          "output_type": "stream",
          "name": "stdout",
          "text": [
            "score 0.98\n"
          ]
        }
      ]
    },
    {
      "cell_type": "code",
      "metadata": {
        "colab": {
          "base_uri": "https://localhost:8080/"
        },
        "id": "izrHBxOCEgpn",
        "outputId": "dd9c1488-81b0-4348-d32d-a31ee44dfecf"
      },
      "source": [
        "#model 2\n",
        "\n",
        "rf2 =  RandomForestClassifier(max_depth=None, criterion=\"gini\", \n",
        "                                       random_state=2021).fit(train_df[features].values, \n",
        "                                                             train_df[\"diagnosis\"])\n",
        "print (\"score %.2f\"%rf2.score(train_df[features].values, train_df[\"diagnosis\"]))"
      ],
      "execution_count": null,
      "outputs": [
        {
          "output_type": "stream",
          "name": "stdout",
          "text": [
            "score 1.00\n"
          ]
        }
      ]
    },
    {
      "cell_type": "code",
      "metadata": {
        "colab": {
          "base_uri": "https://localhost:8080/",
          "height": 1000
        },
        "id": "ynA-rlhWFOBR",
        "outputId": "89c3c827-fe0f-4849-d8b5-15ed74042050"
      },
      "source": [
        "# Compare feature importance in model 1 and 2\n",
        "\n",
        "# Model 1\n",
        "fistd = np.std([tree.feature_importances_ for tree in rf1.estimators_],\n",
        "             axis=0)\n",
        "print(\"Random Forest feature importance\")\n",
        "for f, fi, s in zip (train_df[features].columns, rf1.feature_importances_, fistd):\n",
        "  print (f, fi.round(2), \"+/-\", s.round(2))\n",
        "\n",
        "\n",
        "indices = np.argsort(rf1.feature_importances_)\n",
        "plt.figure(figsize= (10,8))\n",
        "plt.title(\"Feature importances\")\n",
        "plt.barh(np.arange(rf1.feature_importances_.shape[0]), \n",
        "        rf1.feature_importances_[indices],\n",
        "       xerr=fistd[indices], align=\"center\")\n",
        "plt.yticks(range(rf1.feature_importances_.shape[0]), \n",
        "          labels=train_df[features].columns[indices])\n",
        "plt.xlim(0, 1)\n",
        "plt.show()"
      ],
      "execution_count": null,
      "outputs": [
        {
          "output_type": "stream",
          "name": "stdout",
          "text": [
            "Random Forest feature importance\n",
            "radius_mean 0.04 +/- 0.14\n",
            "texture_mean 0.01 +/- 0.02\n",
            "perimeter_mean 0.05 +/- 0.16\n",
            "area_mean 0.05 +/- 0.17\n",
            "smoothness_mean 0.0 +/- 0.01\n",
            "compactness_mean 0.01 +/- 0.05\n",
            "concavity_mean 0.07 +/- 0.19\n",
            "concave_points_mean 0.1 +/- 0.23\n",
            "symmetry_mean 0.0 +/- 0.01\n",
            "fractal_dimension_mean 0.0 +/- 0.01\n",
            "radius_se 0.01 +/- 0.05\n",
            "texture_se 0.0 +/- 0.01\n",
            "perimeter_se 0.01 +/- 0.06\n",
            "area_se 0.03 +/- 0.13\n",
            "smoothness_se 0.0 +/- 0.01\n",
            "compactness_se 0.0 +/- 0.01\n",
            "concavity_se 0.0 +/- 0.01\n",
            "concave_points_se 0.0 +/- 0.03\n",
            "symmetry_se 0.0 +/- 0.01\n",
            "fractal_dimension_se 0.0 +/- 0.01\n",
            "radius_worst 0.13 +/- 0.27\n",
            "texture_worst 0.01 +/- 0.04\n",
            "perimeter_worst 0.14 +/- 0.28\n",
            "area_worst 0.16 +/- 0.3\n",
            "smoothness_worst 0.01 +/- 0.02\n",
            "compactness_worst 0.02 +/- 0.05\n",
            "concavity_worst 0.02 +/- 0.07\n",
            "concave_points_worst 0.11 +/- 0.25\n",
            "symmetry_worst 0.01 +/- 0.02\n",
            "fractal_dimension_worst 0.0 +/- 0.01\n"
          ]
        },
        {
          "output_type": "display_data",
          "data": {
            "image/png": "[encoded data removed]",
            "text/plain": [
              "<Figure size 720x576 with 1 Axes>"
            ]
          },
          "metadata": {
            "needs_background": "light"
          }
        }
      ]
    },
    {
      "cell_type": "code",
      "metadata": {
        "colab": {
          "base_uri": "https://localhost:8080/",
          "height": 1000
        },
        "id": "4ndEP_E0FiIK",
        "outputId": "240e8048-4862-4415-9bdf-5eb0c3e412d0"
      },
      "source": [
        "fistd = np.std([tree.feature_importances_ for tree in rf2.estimators_],\n",
        "             axis=0)\n",
        "print(\"Random Forest feature importance\")\n",
        "for f, fi, s in zip (train_df[features].columns, rf2.feature_importances_, fistd):\n",
        "  print (f, fi.round(2), \"+/-\", s.round(2))\n",
        "\n",
        "\n",
        "indices = np.argsort(rf2.feature_importances_)\n",
        "plt.figure(figsize= (10,8))\n",
        "plt.title(\"Feature importances\")\n",
        "plt.barh(np.arange(rf2.feature_importances_.shape[0]), \n",
        "        rf2.feature_importances_[indices],\n",
        "       xerr=fistd[indices], align=\"center\")\n",
        "plt.yticks(range(rf2.feature_importances_.shape[0]), \n",
        "          labels=train_df[features].columns[indices])\n",
        "plt.xlim(0, 1)\n",
        "plt.show()"
      ],
      "execution_count": null,
      "outputs": [
        {
          "output_type": "stream",
          "name": "stdout",
          "text": [
            "Random Forest feature importance\n",
            "radius_mean 0.04 +/- 0.13\n",
            "texture_mean 0.02 +/- 0.02\n",
            "perimeter_mean 0.05 +/- 0.15\n",
            "area_mean 0.04 +/- 0.14\n",
            "smoothness_mean 0.01 +/- 0.01\n",
            "compactness_mean 0.01 +/- 0.04\n",
            "concavity_mean 0.07 +/- 0.17\n",
            "concave_points_mean 0.09 +/- 0.2\n",
            "symmetry_mean 0.01 +/- 0.01\n",
            "fractal_dimension_mean 0.01 +/- 0.01\n",
            "radius_se 0.01 +/- 0.04\n",
            "texture_se 0.0 +/- 0.01\n",
            "perimeter_se 0.01 +/- 0.05\n",
            "area_se 0.03 +/- 0.11\n",
            "smoothness_se 0.0 +/- 0.01\n",
            "compactness_se 0.01 +/- 0.01\n",
            "concavity_se 0.0 +/- 0.01\n",
            "concave_points_se 0.01 +/- 0.03\n",
            "symmetry_se 0.01 +/- 0.01\n",
            "fractal_dimension_se 0.01 +/- 0.01\n",
            "radius_worst 0.12 +/- 0.24\n",
            "texture_worst 0.02 +/- 0.03\n",
            "perimeter_worst 0.13 +/- 0.25\n",
            "area_worst 0.15 +/- 0.27\n",
            "smoothness_worst 0.01 +/- 0.02\n",
            "compactness_worst 0.01 +/- 0.04\n",
            "concavity_worst 0.02 +/- 0.06\n",
            "concave_points_worst 0.11 +/- 0.22\n",
            "symmetry_worst 0.01 +/- 0.02\n",
            "fractal_dimension_worst 0.0 +/- 0.01\n"
          ]
        },
        {
          "output_type": "display_data",
          "data": {
            "image/png": "[encoded data removed]",
            "text/plain": [
              "<Figure size 720x576 with 1 Axes>"
            ]
          },
          "metadata": {
            "needs_background": "light"
          }
        }
      ]
    },
    {
      "cell_type": "code",
      "metadata": {
        "colab": {
          "base_uri": "https://localhost:8080/"
        },
        "id": "wczyjxljFkZX",
        "outputId": "9da4fdb3-9102-406a-95b9-df75e0a3249c"
      },
      "source": [
        "from sklearn import metrics\n",
        "\n",
        "\n",
        "predicted_classification_model1 = rf1.predict(test_df[features])\n",
        "\n",
        "predicted_classification_model2 = rf2.predict(test_df[features])"
      ],
      "execution_count": null,
      "outputs": [
        {
          "output_type": "stream",
          "name": "stderr",
          "text": [
            "/usr/local/lib/python3.7/dist-packages/sklearn/base.py:439: UserWarning: X has feature names, but RandomForestClassifier was fitted without feature names\n",
            "  f\"X has feature names, but {self.__class__.__name__} was fitted without\"\n",
            "/usr/local/lib/python3.7/dist-packages/sklearn/base.py:439: UserWarning: X has feature names, but RandomForestClassifier was fitted without feature names\n",
            "  f\"X has feature names, but {self.__class__.__name__} was fitted without\"\n"
          ]
        }
      ]
    },
    {
      "cell_type": "code",
      "metadata": {
        "id": "Tmgj1czqvduT"
      },
      "source": [
        "def getresults(test,pred_variable):\n",
        "  precision = metrics.precision_score(test,pred_variable,  pos_label=\"M\", average=\"binary\")\n",
        "  recall =  metrics.recall_score(test,pred_variable,  pos_label=\"M\", average=\"binary\")\n",
        "  accuracy = metrics.accuracy_score(test,pred_variable)\n",
        "  f1 = metrics.f1_score(test,pred_variable,  pos_label=\"M\", average=\"binary\")\n",
        "  return 'Precision:',precision , 'Recall: ', recall,\"Accuracy:\", accuracy, \"F1:\", f1"
      ],
      "execution_count": null,
      "outputs": []
    },
    {
      "cell_type": "code",
      "metadata": {
        "colab": {
          "base_uri": "https://localhost:8080/"
        },
        "id": "znv_KiT_HVk2",
        "outputId": "62d83db4-aa74-4eea-a7b4-29fe07525b44"
      },
      "source": [
        "# model 1\n",
        "getresults(test_df['diagnosis'].values,predicted_classification_model1)"
      ],
      "execution_count": null,
      "outputs": [
        {
          "output_type": "execute_result",
          "data": {
            "text/plain": [
              "('Precision:',\n",
              " 0.975,\n",
              " 'Recall: ',\n",
              " 0.9285714285714286,\n",
              " 'Accuracy:',\n",
              " 0.9649122807017544,\n",
              " 'F1:',\n",
              " 0.951219512195122)"
            ]
          },
          "metadata": {},
          "execution_count": 14
        }
      ]
    },
    {
      "cell_type": "code",
      "metadata": {
        "colab": {
          "base_uri": "https://localhost:8080/"
        },
        "id": "-yP06-IoIImX",
        "outputId": "3de56bb1-5cf8-4c98-fa2c-ae5abbe08d56"
      },
      "source": [
        "# model 2\n",
        "getresults(test_df['diagnosis'].values,predicted_classification_model2)"
      ],
      "execution_count": null,
      "outputs": [
        {
          "output_type": "execute_result",
          "data": {
            "text/plain": [
              "('Precision:',\n",
              " 0.975,\n",
              " 'Recall: ',\n",
              " 0.9285714285714286,\n",
              " 'Accuracy:',\n",
              " 0.9649122807017544,\n",
              " 'F1:',\n",
              " 0.951219512195122)"
            ]
          },
          "metadata": {},
          "execution_count": 15
        }
      ]
    },
    {
      "cell_type": "code",
      "metadata": {
        "colab": {
          "base_uri": "https://localhost:8080/",
          "height": 380
        },
        "id": "9gOz1pX0F4fv",
        "outputId": "0d17e4c0-9b49-41e1-e3aa-a9647175d702"
      },
      "source": [
        "# predict the results with the two models\n",
        "\n",
        "\n",
        "from sklearn.metrics import plot_confusion_matrix\n",
        "\n",
        "plot_confusion_matrix(rf1,test_df[features], test_df['diagnosis'], cmap='inferno',values_format='g')\n",
        "plt.title(\"confusion matrix model 1\")\n",
        "plt.show()"
      ],
      "execution_count": null,
      "outputs": [
        {
          "output_type": "stream",
          "name": "stderr",
          "text": [
            "/usr/local/lib/python3.7/dist-packages/sklearn/utils/deprecation.py:87: FutureWarning: Function plot_confusion_matrix is deprecated; Function `plot_confusion_matrix` is deprecated in 1.0 and will be removed in 1.2. Use one of the class methods: ConfusionMatrixDisplay.from_predictions or ConfusionMatrixDisplay.from_estimator.\n",
            "  warnings.warn(msg, category=FutureWarning)\n",
            "/usr/local/lib/python3.7/dist-packages/sklearn/base.py:439: UserWarning: X has feature names, but RandomForestClassifier was fitted without feature names\n",
            "  f\"X has feature names, but {self.__class__.__name__} was fitted without\"\n"
          ]
        },
        {
          "output_type": "display_data",
          "data": {
            "image/png": "[encoded data removed]",
            "text/plain": [
              "<Figure size 432x288 with 2 Axes>"
            ]
          },
          "metadata": {
            "needs_background": "light"
          }
        }
      ]
    },
    {
      "cell_type": "code",
      "metadata": {
        "colab": {
          "base_uri": "https://localhost:8080/",
          "height": 380
        },
        "id": "9oufkQKaHI2Y",
        "outputId": "f0e8822f-6159-4027-d05f-a619479b780d"
      },
      "source": [
        "plot_confusion_matrix(rf2,test_df[features], test_df['diagnosis'], cmap='inferno',values_format='g')\n",
        "plt.title(\"confusion matrix model 2\")\n",
        "plt.show()"
      ],
      "execution_count": null,
      "outputs": [
        {
          "output_type": "stream",
          "name": "stderr",
          "text": [
            "/usr/local/lib/python3.7/dist-packages/sklearn/utils/deprecation.py:87: FutureWarning: Function plot_confusion_matrix is deprecated; Function `plot_confusion_matrix` is deprecated in 1.0 and will be removed in 1.2. Use one of the class methods: ConfusionMatrixDisplay.from_predictions or ConfusionMatrixDisplay.from_estimator.\n",
            "  warnings.warn(msg, category=FutureWarning)\n",
            "/usr/local/lib/python3.7/dist-packages/sklearn/base.py:439: UserWarning: X has feature names, but RandomForestClassifier was fitted without feature names\n",
            "  f\"X has feature names, but {self.__class__.__name__} was fitted without\"\n"
          ]
        },
        {
          "output_type": "display_data",
          "data": {
            "image/png": "[encoded data removed]",
            "text/plain": [
              "<Figure size 432x288 with 2 Axes>"
            ]
          },
          "metadata": {
            "needs_background": "light"
          }
        }
      ]
    },
    {
      "cell_type": "code",
      "metadata": {
        "id": "TzM8A7fhNlDF"
      },
      "source": [
        ""
      ],
      "execution_count": null,
      "outputs": []
    },
    {
      "cell_type": "markdown",
      "metadata": {
        "id": "4wD-i2JmPqxp"
      },
      "source": [
        "####  Gradient boosted tree"
      ]
    },
    {
      "cell_type": "code",
      "metadata": {
        "id": "PHhl2-l_L4oK"
      },
      "source": [
        ""
      ],
      "execution_count": null,
      "outputs": []
    },
    {
      "cell_type": "code",
      "metadata": {
        "id": "R0VGM6-THQdi",
        "colab": {
          "base_uri": "https://localhost:8080/"
        },
        "outputId": "89fcc781-63cb-4f8a-9b28-74a6225d1d07"
      },
      "source": [
        "from sklearn.ensemble import GradientBoostingClassifier\n",
        "\n",
        "# https://scikit-learn.org/stable/modules/generated/sklearn.ensemble.GradientBoostingClassifier.html\n",
        "\n",
        "gbt =  GradientBoostingClassifier(max_depth=4, \n",
        "                                           random_state=222).fit(train_df[features].values, \n",
        "                                                                 train_df['diagnosis'])\n",
        "print (\"score %.2f\"%gbt.score(train_df[features].values, train_df['diagnosis']))\n"
      ],
      "execution_count": null,
      "outputs": [
        {
          "output_type": "stream",
          "name": "stdout",
          "text": [
            "score 1.00\n"
          ]
        }
      ]
    },
    {
      "cell_type": "code",
      "metadata": {
        "colab": {
          "base_uri": "https://localhost:8080/",
          "height": 498
        },
        "id": "amwPLL5fKDAH",
        "outputId": "e4135d8b-0d47-42ad-bdad-e3a9df7d36b3"
      },
      "source": [
        "#there is no standard deviation in gradient boosting trees!\n",
        "\n",
        "indices = np.argsort(gbt.feature_importances_)\n",
        "plt.figure(figsize= (10,8))\n",
        "\n",
        "plt.title(\"Feature importances\")\n",
        "plt.barh(np.arange(gbt.feature_importances_.shape[0]), \n",
        "        gbt.feature_importances_[indices])\n",
        "plt.xticks(range(gbt.feature_importances_.shape[0]), indices)\n",
        "plt.yticks(range(gbt.feature_importances_.shape[0]), \n",
        "          labels = test_df[features].columns[indices])\n",
        "plt.xlim(0, 1)\n",
        "plt.show()"
      ],
      "execution_count": null,
      "outputs": [
        {
          "output_type": "display_data",
          "data": {
            "image/png": "[encoded data removed]",
            "text/plain": [
              "<Figure size 720x576 with 1 Axes>"
            ]
          },
          "metadata": {
            "needs_background": "light"
          }
        }
      ]
    },
    {
      "cell_type": "code",
      "metadata": {
        "colab": {
          "base_uri": "https://localhost:8080/"
        },
        "id": "fmNJ7OwTLEfI",
        "outputId": "edb678a5-cc2e-406e-a944-01d58f9ca965"
      },
      "source": [
        "# predict\n",
        "predicted_classification_gbt = gbt.predict(test_df[features])"
      ],
      "execution_count": null,
      "outputs": [
        {
          "output_type": "stream",
          "name": "stderr",
          "text": [
            "/usr/local/lib/python3.7/dist-packages/sklearn/base.py:439: UserWarning: X has feature names, but GradientBoostingClassifier was fitted without feature names\n",
            "  f\"X has feature names, but {self.__class__.__name__} was fitted without\"\n"
          ]
        }
      ]
    },
    {
      "cell_type": "code",
      "metadata": {
        "colab": {
          "base_uri": "https://localhost:8080/"
        },
        "id": "N2u8TzI0PQks",
        "outputId": "3c7ded5f-f124-4bbc-cc46-c2d3fd5fe01c"
      },
      "source": [
        "getresults(test_df['diagnosis'].values,predicted_classification_gbt)"
      ],
      "execution_count": null,
      "outputs": [
        {
          "output_type": "execute_result",
          "data": {
            "text/plain": [
              "('Precision:',\n",
              " 0.975609756097561,\n",
              " 'Recall: ',\n",
              " 0.9523809523809523,\n",
              " 'Accuracy:',\n",
              " 0.9736842105263158,\n",
              " 'F1:',\n",
              " 0.963855421686747)"
            ]
          },
          "metadata": {},
          "execution_count": 22
        }
      ]
    },
    {
      "cell_type": "code",
      "metadata": {
        "colab": {
          "base_uri": "https://localhost:8080/",
          "height": 380
        },
        "id": "G04AswMAPTmZ",
        "outputId": "e1556d7e-5628-49d3-c7cb-38ab0a3eff8d"
      },
      "source": [
        "plot_confusion_matrix(gbt,test_df[features], test_df['diagnosis'], cmap='inferno',values_format='g')\n",
        "plt.title(\"confusion matrix GBT\")\n",
        "plt.show()"
      ],
      "execution_count": null,
      "outputs": [
        {
          "output_type": "stream",
          "name": "stderr",
          "text": [
            "/usr/local/lib/python3.7/dist-packages/sklearn/utils/deprecation.py:87: FutureWarning: Function plot_confusion_matrix is deprecated; Function `plot_confusion_matrix` is deprecated in 1.0 and will be removed in 1.2. Use one of the class methods: ConfusionMatrixDisplay.from_predictions or ConfusionMatrixDisplay.from_estimator.\n",
            "  warnings.warn(msg, category=FutureWarning)\n",
            "/usr/local/lib/python3.7/dist-packages/sklearn/base.py:439: UserWarning: X has feature names, but GradientBoostingClassifier was fitted without feature names\n",
            "  f\"X has feature names, but {self.__class__.__name__} was fitted without\"\n"
          ]
        },
        {
          "output_type": "display_data",
          "data": {
            "image/png": "[encoded data removed]",
            "text/plain": [
              "<Figure size 432x288 with 2 Axes>"
            ]
          },
          "metadata": {
            "needs_background": "light"
          }
        }
      ]
    },
    {
      "cell_type": "markdown",
      "metadata": {
        "id": "Q0osGI7EtWwt"
      },
      "source": [
        "# GridCV: most efficient way to tune hyperparameters"
      ]
    },
    {
      "cell_type": "markdown",
      "metadata": {
        "id": "Nvi9dALTL-b2"
      },
      "source": [
        "### Random Forest"
      ]
    },
    {
      "cell_type": "code",
      "metadata": {
        "id": "Raj6Gywhsu4t"
      },
      "source": [
        "from sklearn.ensemble import RandomForestClassifier\n",
        "from sklearn.model_selection import GridSearchCV\n",
        "\n",
        "rf =  RandomForestClassifier()\n",
        "min_samples_split = [2,3,4]                                      \n",
        "max_depth=[3,4,5,6,8]\n",
        "criterion= ['gini','entropy']\n",
        "\n",
        "parameters_rf=dict(min_samples_split=min_samples_split,criterion=criterion,max_depth=max_depth)\n",
        "\n",
        "#training random forest model, finding best params\n",
        "gridrf=GridSearchCV(rf,parameters_rf,cv=3, scoring = 'accuracy')\n",
        "gridrf.fit(train_df[features],train_df['diagnosis']);"
      ],
      "execution_count": null,
      "outputs": []
    },
    {
      "cell_type": "code",
      "metadata": {
        "id": "lGUDDRVmrrX-"
      },
      "source": [
        "def examinebestmodel(model_name):\n",
        "    print(model_name.best_score_)\n",
        "    print(model_name.best_params_)\n",
        "    print(model_name.best_estimator_)"
      ],
      "execution_count": null,
      "outputs": []
    },
    {
      "cell_type": "code",
      "metadata": {
        "id": "Mqnaa4-Gt45H"
      },
      "source": [
        "examinebestmodel(gridrf)"
      ],
      "execution_count": null,
      "outputs": []
    },
    {
      "cell_type": "code",
      "metadata": {
        "id": "ux4NR4h9u733"
      },
      "source": [
        "test_prediction_rf=gridrf.best_estimator_.predict(test_df[features])\n",
        "\n",
        "getresults(test_df['diagnosis'],test_prediction_rf)"
      ],
      "execution_count": null,
      "outputs": []
    },
    {
      "cell_type": "code",
      "metadata": {
        "id": "d939wopqvLyy"
      },
      "source": [
        "#confusion matrix for rf\n",
        "plot_confusion_matrix(gridrf.best_estimator_,test_df[features],test_df['diagnosis'],cmap='inferno',values_format='g')\n",
        "plt.show()"
      ],
      "execution_count": null,
      "outputs": []
    },
    {
      "cell_type": "markdown",
      "metadata": {
        "id": "TI3BWd6QMCHp"
      },
      "source": [
        "### Gradient Boosting"
      ]
    },
    {
      "cell_type": "code",
      "metadata": {
        "id": "LY3AQ13DmdCX"
      },
      "source": [
        "from sklearn.ensemble import GradientBoostingClassifier\n",
        "from sklearn.model_selection import GridSearchCV\n",
        "\n",
        "gbt =  GradientBoostingClassifier()\n",
        "loss = ['deviance','exponential']                                          \n",
        "max_depth=[3,4,5,6,8]\n",
        "criterion= ['squared_error','friedman_mse','absolute_error']\n",
        "\n",
        "parameters_gbt=dict(loss=loss,criterion=criterion,max_depth=max_depth)\n",
        "\n",
        "#training GBT model, finding best params\n",
        "gridgbt=GridSearchCV(gbt,parameters_gbt,cv=3, scoring = 'accuracy')\n",
        "gridgbt.fit(train_df[features],train_df['diagnosis']);"
      ],
      "execution_count": null,
      "outputs": []
    },
    {
      "cell_type": "code",
      "metadata": {
        "id": "T1FhON6frtje"
      },
      "source": [
        "examinebestmodel(gridgbt)"
      ],
      "execution_count": null,
      "outputs": []
    },
    {
      "cell_type": "code",
      "metadata": {
        "id": "fj2tnDpyo1Rz"
      },
      "source": [
        "test_prediction_gbt=gridgbt.best_estimator_.predict(test_df[features])\n"
      ],
      "execution_count": null,
      "outputs": []
    },
    {
      "cell_type": "code",
      "metadata": {
        "id": "u8IoSuP_pXUO"
      },
      "source": [
        "getresults(test_df['diagnosis'],test_prediction_gbt)"
      ],
      "execution_count": null,
      "outputs": []
    },
    {
      "cell_type": "code",
      "metadata": {
        "id": "wiTuYdzNpoJ6"
      },
      "source": [
        "#confusion matrix for gbt\n",
        "plot_confusion_matrix(gridgbt.best_estimator_,test_df[features],test_df['diagnosis'],cmap='inferno',values_format='g')\n",
        "plt.show()"
      ],
      "execution_count": null,
      "outputs": []
    },
    {
      "cell_type": "markdown",
      "metadata": {
        "id": "P7EDFqCQPflV"
      },
      "source": [
        "# K-NN classifier\n",
        "\n",
        "In this example, we will use GridSearchCV to find the best hyperparameters for the model"
      ]
    },
    {
      "cell_type": "code",
      "metadata": {
        "colab": {
          "base_uri": "https://localhost:8080/",
          "height": 428
        },
        "id": "jyRxvZQbMKPT",
        "outputId": "69f34f22-d08b-4874-d36a-0edb58b6e41c"
      },
      "source": [
        "breast[features]"
      ],
      "execution_count": null,
      "outputs": [
        {
          "output_type": "execute_result",
          "data": {
            "text/html": [
              "<div>\n",
              "<style scoped>\n",
              "    .dataframe tbody tr th:only-of-type {\n",
              "        vertical-align: middle;\n",
              "    }\n",
              "\n",
              "    .dataframe tbody tr th {\n",
              "        vertical-align: top;\n",
              "    }\n",
              "\n",
              "    .dataframe thead th {\n",
              "        text-align: right;\n",
              "    }\n",
              "</style>\n",
              "<table border=\"1\" class=\"dataframe\">\n",
              "  <thead>\n",
              "    <tr style=\"text-align: right;\">\n",
              "      <th></th>\n",
              "      <th>radius_mean</th>\n",
              "      <th>texture_mean</th>\n",
              "      <th>perimeter_mean</th>\n",
              "      <th>area_mean</th>\n",
              "      <th>smoothness_mean</th>\n",
              "      <th>compactness_mean</th>\n",
              "      <th>concavity_mean</th>\n",
              "      <th>concave_points_mean</th>\n",
              "      <th>symmetry_mean</th>\n",
              "      <th>fractal_dimension_mean</th>\n",
              "      <th>radius_se</th>\n",
              "      <th>texture_se</th>\n",
              "      <th>perimeter_se</th>\n",
              "      <th>area_se</th>\n",
              "      <th>smoothness_se</th>\n",
              "      <th>compactness_se</th>\n",
              "      <th>concavity_se</th>\n",
              "      <th>concave_points_se</th>\n",
              "      <th>symmetry_se</th>\n",
              "      <th>fractal_dimension_se</th>\n",
              "      <th>radius_worst</th>\n",
              "      <th>texture_worst</th>\n",
              "      <th>perimeter_worst</th>\n",
              "      <th>area_worst</th>\n",
              "      <th>smoothness_worst</th>\n",
              "      <th>compactness_worst</th>\n",
              "      <th>concavity_worst</th>\n",
              "      <th>concave_points_worst</th>\n",
              "      <th>symmetry_worst</th>\n",
              "      <th>fractal_dimension_worst</th>\n",
              "    </tr>\n",
              "  </thead>\n",
              "  <tbody>\n",
              "    <tr>\n",
              "      <th>0</th>\n",
              "      <td>17.99</td>\n",
              "      <td>10.38</td>\n",
              "      <td>122.80</td>\n",
              "      <td>1001.0</td>\n",
              "      <td>0.11840</td>\n",
              "      <td>0.27760</td>\n",
              "      <td>0.30010</td>\n",
              "      <td>0.14710</td>\n",
              "      <td>0.2419</td>\n",
              "      <td>0.07871</td>\n",
              "      <td>1.0950</td>\n",
              "      <td>0.9053</td>\n",
              "      <td>8.589</td>\n",
              "      <td>153.40</td>\n",
              "      <td>0.006399</td>\n",
              "      <td>0.04904</td>\n",
              "      <td>0.05373</td>\n",
              "      <td>0.01587</td>\n",
              "      <td>0.03003</td>\n",
              "      <td>0.006193</td>\n",
              "      <td>25.380</td>\n",
              "      <td>17.33</td>\n",
              "      <td>184.60</td>\n",
              "      <td>2019.0</td>\n",
              "      <td>0.16220</td>\n",
              "      <td>0.66560</td>\n",
              "      <td>0.7119</td>\n",
              "      <td>0.2654</td>\n",
              "      <td>0.4601</td>\n",
              "      <td>0.11890</td>\n",
              "    </tr>\n",
              "    <tr>\n",
              "      <th>1</th>\n",
              "      <td>20.57</td>\n",
              "      <td>17.77</td>\n",
              "      <td>132.90</td>\n",
              "      <td>1326.0</td>\n",
              "      <td>0.08474</td>\n",
              "      <td>0.07864</td>\n",
              "      <td>0.08690</td>\n",
              "      <td>0.07017</td>\n",
              "      <td>0.1812</td>\n",
              "      <td>0.05667</td>\n",
              "      <td>0.5435</td>\n",
              "      <td>0.7339</td>\n",
              "      <td>3.398</td>\n",
              "      <td>74.08</td>\n",
              "      <td>0.005225</td>\n",
              "      <td>0.01308</td>\n",
              "      <td>0.01860</td>\n",
              "      <td>0.01340</td>\n",
              "      <td>0.01389</td>\n",
              "      <td>0.003532</td>\n",
              "      <td>24.990</td>\n",
              "      <td>23.41</td>\n",
              "      <td>158.80</td>\n",
              "      <td>1956.0</td>\n",
              "      <td>0.12380</td>\n",
              "      <td>0.18660</td>\n",
              "      <td>0.2416</td>\n",
              "      <td>0.1860</td>\n",
              "      <td>0.2750</td>\n",
              "      <td>0.08902</td>\n",
              "    </tr>\n",
              "    <tr>\n",
              "      <th>2</th>\n",
              "      <td>19.69</td>\n",
              "      <td>21.25</td>\n",
              "      <td>130.00</td>\n",
              "      <td>1203.0</td>\n",
              "      <td>0.10960</td>\n",
              "      <td>0.15990</td>\n",
              "      <td>0.19740</td>\n",
              "      <td>0.12790</td>\n",
              "      <td>0.2069</td>\n",
              "      <td>0.05999</td>\n",
              "      <td>0.7456</td>\n",
              "      <td>0.7869</td>\n",
              "      <td>4.585</td>\n",
              "      <td>94.03</td>\n",
              "      <td>0.006150</td>\n",
              "      <td>0.04006</td>\n",
              "      <td>0.03832</td>\n",
              "      <td>0.02058</td>\n",
              "      <td>0.02250</td>\n",
              "      <td>0.004571</td>\n",
              "      <td>23.570</td>\n",
              "      <td>25.53</td>\n",
              "      <td>152.50</td>\n",
              "      <td>1709.0</td>\n",
              "      <td>0.14440</td>\n",
              "      <td>0.42450</td>\n",
              "      <td>0.4504</td>\n",
              "      <td>0.2430</td>\n",
              "      <td>0.3613</td>\n",
              "      <td>0.08758</td>\n",
              "    </tr>\n",
              "    <tr>\n",
              "      <th>3</th>\n",
              "      <td>11.42</td>\n",
              "      <td>20.38</td>\n",
              "      <td>77.58</td>\n",
              "      <td>386.1</td>\n",
              "      <td>0.14250</td>\n",
              "      <td>0.28390</td>\n",
              "      <td>0.24140</td>\n",
              "      <td>0.10520</td>\n",
              "      <td>0.2597</td>\n",
              "      <td>0.09744</td>\n",
              "      <td>0.4956</td>\n",
              "      <td>1.1560</td>\n",
              "      <td>3.445</td>\n",
              "      <td>27.23</td>\n",
              "      <td>0.009110</td>\n",
              "      <td>0.07458</td>\n",
              "      <td>0.05661</td>\n",
              "      <td>0.01867</td>\n",
              "      <td>0.05963</td>\n",
              "      <td>0.009208</td>\n",
              "      <td>14.910</td>\n",
              "      <td>26.50</td>\n",
              "      <td>98.87</td>\n",
              "      <td>567.7</td>\n",
              "      <td>0.20980</td>\n",
              "      <td>0.86630</td>\n",
              "      <td>0.6869</td>\n",
              "      <td>0.2575</td>\n",
              "      <td>0.6638</td>\n",
              "      <td>0.17300</td>\n",
              "    </tr>\n",
              "    <tr>\n",
              "      <th>4</th>\n",
              "      <td>20.29</td>\n",
              "      <td>14.34</td>\n",
              "      <td>135.10</td>\n",
              "      <td>1297.0</td>\n",
              "      <td>0.10030</td>\n",
              "      <td>0.13280</td>\n",
              "      <td>0.19800</td>\n",
              "      <td>0.10430</td>\n",
              "      <td>0.1809</td>\n",
              "      <td>0.05883</td>\n",
              "      <td>0.7572</td>\n",
              "      <td>0.7813</td>\n",
              "      <td>5.438</td>\n",
              "      <td>94.44</td>\n",
              "      <td>0.011490</td>\n",
              "      <td>0.02461</td>\n",
              "      <td>0.05688</td>\n",
              "      <td>0.01885</td>\n",
              "      <td>0.01756</td>\n",
              "      <td>0.005115</td>\n",
              "      <td>22.540</td>\n",
              "      <td>16.67</td>\n",
              "      <td>152.20</td>\n",
              "      <td>1575.0</td>\n",
              "      <td>0.13740</td>\n",
              "      <td>0.20500</td>\n",
              "      <td>0.4000</td>\n",
              "      <td>0.1625</td>\n",
              "      <td>0.2364</td>\n",
              "      <td>0.07678</td>\n",
              "    </tr>\n",
              "    <tr>\n",
              "      <th>...</th>\n",
              "      <td>...</td>\n",
              "      <td>...</td>\n",
              "      <td>...</td>\n",
              "      <td>...</td>\n",
              "      <td>...</td>\n",
              "      <td>...</td>\n",
              "      <td>...</td>\n",
              "      <td>...</td>\n",
              "      <td>...</td>\n",
              "      <td>...</td>\n",
              "      <td>...</td>\n",
              "      <td>...</td>\n",
              "      <td>...</td>\n",
              "      <td>...</td>\n",
              "      <td>...</td>\n",
              "      <td>...</td>\n",
              "      <td>...</td>\n",
              "      <td>...</td>\n",
              "      <td>...</td>\n",
              "      <td>...</td>\n",
              "      <td>...</td>\n",
              "      <td>...</td>\n",
              "      <td>...</td>\n",
              "      <td>...</td>\n",
              "      <td>...</td>\n",
              "      <td>...</td>\n",
              "      <td>...</td>\n",
              "      <td>...</td>\n",
              "      <td>...</td>\n",
              "      <td>...</td>\n",
              "    </tr>\n",
              "    <tr>\n",
              "      <th>564</th>\n",
              "      <td>21.56</td>\n",
              "      <td>22.39</td>\n",
              "      <td>142.00</td>\n",
              "      <td>1479.0</td>\n",
              "      <td>0.11100</td>\n",
              "      <td>0.11590</td>\n",
              "      <td>0.24390</td>\n",
              "      <td>0.13890</td>\n",
              "      <td>0.1726</td>\n",
              "      <td>0.05623</td>\n",
              "      <td>1.1760</td>\n",
              "      <td>1.2560</td>\n",
              "      <td>7.673</td>\n",
              "      <td>158.70</td>\n",
              "      <td>0.010300</td>\n",
              "      <td>0.02891</td>\n",
              "      <td>0.05198</td>\n",
              "      <td>0.02454</td>\n",
              "      <td>0.01114</td>\n",
              "      <td>0.004239</td>\n",
              "      <td>25.450</td>\n",
              "      <td>26.40</td>\n",
              "      <td>166.10</td>\n",
              "      <td>2027.0</td>\n",
              "      <td>0.14100</td>\n",
              "      <td>0.21130</td>\n",
              "      <td>0.4107</td>\n",
              "      <td>0.2216</td>\n",
              "      <td>0.2060</td>\n",
              "      <td>0.07115</td>\n",
              "    </tr>\n",
              "    <tr>\n",
              "      <th>565</th>\n",
              "      <td>20.13</td>\n",
              "      <td>28.25</td>\n",
              "      <td>131.20</td>\n",
              "      <td>1261.0</td>\n",
              "      <td>0.09780</td>\n",
              "      <td>0.10340</td>\n",
              "      <td>0.14400</td>\n",
              "      <td>0.09791</td>\n",
              "      <td>0.1752</td>\n",
              "      <td>0.05533</td>\n",
              "      <td>0.7655</td>\n",
              "      <td>2.4630</td>\n",
              "      <td>5.203</td>\n",
              "      <td>99.04</td>\n",
              "      <td>0.005769</td>\n",
              "      <td>0.02423</td>\n",
              "      <td>0.03950</td>\n",
              "      <td>0.01678</td>\n",
              "      <td>0.01898</td>\n",
              "      <td>0.002498</td>\n",
              "      <td>23.690</td>\n",
              "      <td>38.25</td>\n",
              "      <td>155.00</td>\n",
              "      <td>1731.0</td>\n",
              "      <td>0.11660</td>\n",
              "      <td>0.19220</td>\n",
              "      <td>0.3215</td>\n",
              "      <td>0.1628</td>\n",
              "      <td>0.2572</td>\n",
              "      <td>0.06637</td>\n",
              "    </tr>\n",
              "    <tr>\n",
              "      <th>566</th>\n",
              "      <td>16.60</td>\n",
              "      <td>28.08</td>\n",
              "      <td>108.30</td>\n",
              "      <td>858.1</td>\n",
              "      <td>0.08455</td>\n",
              "      <td>0.10230</td>\n",
              "      <td>0.09251</td>\n",
              "      <td>0.05302</td>\n",
              "      <td>0.1590</td>\n",
              "      <td>0.05648</td>\n",
              "      <td>0.4564</td>\n",
              "      <td>1.0750</td>\n",
              "      <td>3.425</td>\n",
              "      <td>48.55</td>\n",
              "      <td>0.005903</td>\n",
              "      <td>0.03731</td>\n",
              "      <td>0.04730</td>\n",
              "      <td>0.01557</td>\n",
              "      <td>0.01318</td>\n",
              "      <td>0.003892</td>\n",
              "      <td>18.980</td>\n",
              "      <td>34.12</td>\n",
              "      <td>126.70</td>\n",
              "      <td>1124.0</td>\n",
              "      <td>0.11390</td>\n",
              "      <td>0.30940</td>\n",
              "      <td>0.3403</td>\n",
              "      <td>0.1418</td>\n",
              "      <td>0.2218</td>\n",
              "      <td>0.07820</td>\n",
              "    </tr>\n",
              "    <tr>\n",
              "      <th>567</th>\n",
              "      <td>20.60</td>\n",
              "      <td>29.33</td>\n",
              "      <td>140.10</td>\n",
              "      <td>1265.0</td>\n",
              "      <td>0.11780</td>\n",
              "      <td>0.27700</td>\n",
              "      <td>0.35140</td>\n",
              "      <td>0.15200</td>\n",
              "      <td>0.2397</td>\n",
              "      <td>0.07016</td>\n",
              "      <td>0.7260</td>\n",
              "      <td>1.5950</td>\n",
              "      <td>5.772</td>\n",
              "      <td>86.22</td>\n",
              "      <td>0.006522</td>\n",
              "      <td>0.06158</td>\n",
              "      <td>0.07117</td>\n",
              "      <td>0.01664</td>\n",
              "      <td>0.02324</td>\n",
              "      <td>0.006185</td>\n",
              "      <td>25.740</td>\n",
              "      <td>39.42</td>\n",
              "      <td>184.60</td>\n",
              "      <td>1821.0</td>\n",
              "      <td>0.16500</td>\n",
              "      <td>0.86810</td>\n",
              "      <td>0.9387</td>\n",
              "      <td>0.2650</td>\n",
              "      <td>0.4087</td>\n",
              "      <td>0.12400</td>\n",
              "    </tr>\n",
              "    <tr>\n",
              "      <th>568</th>\n",
              "      <td>7.76</td>\n",
              "      <td>24.54</td>\n",
              "      <td>47.92</td>\n",
              "      <td>181.0</td>\n",
              "      <td>0.05263</td>\n",
              "      <td>0.04362</td>\n",
              "      <td>0.00000</td>\n",
              "      <td>0.00000</td>\n",
              "      <td>0.1587</td>\n",
              "      <td>0.05884</td>\n",
              "      <td>0.3857</td>\n",
              "      <td>1.4280</td>\n",
              "      <td>2.548</td>\n",
              "      <td>19.15</td>\n",
              "      <td>0.007189</td>\n",
              "      <td>0.00466</td>\n",
              "      <td>0.00000</td>\n",
              "      <td>0.00000</td>\n",
              "      <td>0.02676</td>\n",
              "      <td>0.002783</td>\n",
              "      <td>9.456</td>\n",
              "      <td>30.37</td>\n",
              "      <td>59.16</td>\n",
              "      <td>268.6</td>\n",
              "      <td>0.08996</td>\n",
              "      <td>0.06444</td>\n",
              "      <td>0.0000</td>\n",
              "      <td>0.0000</td>\n",
              "      <td>0.2871</td>\n",
              "      <td>0.07039</td>\n",
              "    </tr>\n",
              "  </tbody>\n",
              "</table>\n",
              "<p>569 rows × 30 columns</p>\n",
              "</div>"
            ],
            "text/plain": [
              "     radius_mean  texture_mean  ...  symmetry_worst  fractal_dimension_worst\n",
              "0          17.99         10.38  ...          0.4601                  0.11890\n",
              "1          20.57         17.77  ...          0.2750                  0.08902\n",
              "2          19.69         21.25  ...          0.3613                  0.08758\n",
              "3          11.42         20.38  ...          0.6638                  0.17300\n",
              "4          20.29         14.34  ...          0.2364                  0.07678\n",
              "..           ...           ...  ...             ...                      ...\n",
              "564        21.56         22.39  ...          0.2060                  0.07115\n",
              "565        20.13         28.25  ...          0.2572                  0.06637\n",
              "566        16.60         28.08  ...          0.2218                  0.07820\n",
              "567        20.60         29.33  ...          0.4087                  0.12400\n",
              "568         7.76         24.54  ...          0.2871                  0.07039\n",
              "\n",
              "[569 rows x 30 columns]"
            ]
          },
          "metadata": {},
          "execution_count": 9
        }
      ]
    },
    {
      "cell_type": "markdown",
      "metadata": {
        "id": "PM5fLr72Oww0"
      },
      "source": [
        "Divide train/test and scale "
      ]
    },
    {
      "cell_type": "code",
      "metadata": {
        "id": "ptb8ERscM3BW"
      },
      "source": [
        "from sklearn import preprocessing\n",
        "from sklearn.model_selection import train_test_split\n",
        "\n",
        "train_df, test_df = train_test_split(breast, test_size=0.25, random_state=2021)\n",
        "\n",
        "\n",
        "scaler = preprocessing.StandardScaler()\n",
        "train_df[features]=scaler.fit_transform(train_df[features])\n",
        "test_df[features]=scaler.fit_transform(test_df[features])\n"
      ],
      "execution_count": null,
      "outputs": []
    },
    {
      "cell_type": "code",
      "metadata": {
        "colab": {
          "base_uri": "https://localhost:8080/"
        },
        "id": "GDxyuPKOPabN",
        "outputId": "e013fe6a-50ff-4728-bd4b-2b1a8292dcee"
      },
      "source": [
        "from sklearn.neighbors import KNeighborsClassifier\n",
        "from sklearn.model_selection import GridSearchCV\n",
        "\n",
        "# https://scikit-learn.org/stable/modules/generated/sklearn.neighbors.KNeighborsClassifier.html\n",
        "\n",
        "knn = KNeighborsClassifier()\n",
        "neighbors=[3,5,9,13]\n",
        "metric=['manhattan','euclidean', 'chebyshev']\n",
        "algorithm=['ball_tree', 'brute','auto', 'kd_tree']\n",
        "parameters_knn=dict(n_neighbors=neighbors,metric=metric,algorithm=algorithm)\n",
        "\n",
        "\n",
        "#training KNN model, finding best params\n",
        "gridknn=GridSearchCV(knn,parameters_knn,cv=3,verbose=1, scoring = 'accuracy')\n",
        "gridknn.fit(train_df[features],train_df['diagnosis'])"
      ],
      "execution_count": null,
      "outputs": [
        {
          "output_type": "stream",
          "name": "stdout",
          "text": [
            "Fitting 3 folds for each of 48 candidates, totalling 144 fits\n"
          ]
        },
        {
          "output_type": "execute_result",
          "data": {
            "text/plain": [
              "GridSearchCV(cv=3, estimator=KNeighborsClassifier(),\n",
              "             param_grid={'algorithm': ['ball_tree', 'brute', 'auto', 'kd_tree'],\n",
              "                         'metric': ['manhattan', 'euclidean', 'chebyshev'],\n",
              "                         'n_neighbors': [3, 5, 9, 13]},\n",
              "             scoring='accuracy', verbose=1)"
            ]
          },
          "metadata": {},
          "execution_count": 11
        }
      ]
    },
    {
      "cell_type": "code",
      "metadata": {
        "colab": {
          "base_uri": "https://localhost:8080/"
        },
        "id": "SukouVLDSlXw",
        "outputId": "15863b80-2c18-4f88-b133-fda44a3ba9e9"
      },
      "source": [
        "examinebestmodel(gridknn)"
      ],
      "execution_count": null,
      "outputs": [
        {
          "output_type": "stream",
          "name": "stdout",
          "text": [
            "0.9647887323943664\n",
            "{'algorithm': 'ball_tree', 'metric': 'manhattan', 'n_neighbors': 3}\n",
            "KNeighborsClassifier(algorithm='ball_tree', metric='manhattan', n_neighbors=3)\n"
          ]
        }
      ]
    },
    {
      "cell_type": "code",
      "metadata": {
        "colab": {
          "base_uri": "https://localhost:8080/"
        },
        "id": "cEUIjxbmSmhD",
        "outputId": "319ada58-9493-430d-aa48-94f81484db38"
      },
      "source": [
        "#predicting on test set\n",
        "test_prediction_knn=gridknn.best_estimator_.predict(test_df[features])\n",
        "getresults(test_df['diagnosis'],test_prediction_knn)"
      ],
      "execution_count": null,
      "outputs": [
        {
          "output_type": "execute_result",
          "data": {
            "text/plain": [
              "('Precision:',\n",
              " 0.9615384615384616,\n",
              " 'Recall: ',\n",
              " 0.9803921568627451,\n",
              " 'Accuracy:',\n",
              " 0.9790209790209791,\n",
              " 'F1:',\n",
              " 0.970873786407767)"
            ]
          },
          "metadata": {},
          "execution_count": 20
        }
      ]
    },
    {
      "cell_type": "code",
      "metadata": {
        "colab": {
          "base_uri": "https://localhost:8080/",
          "height": 335
        },
        "id": "DmGfTL6JSuTj",
        "outputId": "c3b20b52-8ceb-4275-bea1-b96ae61f8e85"
      },
      "source": [
        "from sklearn.metrics import plot_confusion_matrix\n",
        "\n",
        "#confusion matrix for KNN \n",
        "plot_confusion_matrix(gridknn.best_estimator_,test_df[features],test_df['diagnosis'],cmap='inferno',values_format='g')\n",
        "plt.show()"
      ],
      "execution_count": null,
      "outputs": [
        {
          "output_type": "stream",
          "name": "stderr",
          "text": [
            "/usr/local/lib/python3.7/dist-packages/sklearn/utils/deprecation.py:87: FutureWarning: Function plot_confusion_matrix is deprecated; Function `plot_confusion_matrix` is deprecated in 1.0 and will be removed in 1.2. Use one of the class methods: ConfusionMatrixDisplay.from_predictions or ConfusionMatrixDisplay.from_estimator.\n",
            "  warnings.warn(msg, category=FutureWarning)\n"
          ]
        },
        {
          "output_type": "display_data",
          "data": {
            "image/png": "[encoded data removed]",
            "text/plain": [
              "<Figure size 432x288 with 2 Axes>"
            ]
          },
          "metadata": {
            "needs_background": "light"
          }
        }
      ]
    },
    {
      "cell_type": "markdown",
      "metadata": {
        "id": "xmAOR-I8UUIL"
      },
      "source": [
        "# SVM"
      ]
    },
    {
      "cell_type": "code",
      "metadata": {
        "id": "68awb_OqS9E5",
        "colab": {
          "base_uri": "https://localhost:8080/"
        },
        "outputId": "86b897b6-363a-4536-ebd3-4a7746ee9761"
      },
      "source": [
        "from sklearn.svm import SVC\n",
        "\n",
        "# https://scikit-learn.org/stable/modules/generated/sklearn.svm.SVC.html\n",
        "\n",
        "svm_model= SVC()\n",
        "parameters_SVC = {\n",
        " 'C': [1, 10,100], 'kernel': ['linear','rbf','sigmoid', 'poly'], \n",
        " 'gamma': [1,0.01, 0.0001]}\n",
        "\n",
        "\n",
        "# C is the regularization parameter:\n",
        "#  large C will find a hyperplane with smaller margins (= more segmentations, therefore better fit)\n",
        "\n",
        "# gamma is how far the influence of a single training example reaches\n",
        "# high gamma: points close to plausible line are considered in calculation\n",
        "# low gamma: points far away from plausible seperation line are considered in calculation for the separation line\n",
        "model_svm = GridSearchCV(svm_model, parameters_SVC,cv=2)\n",
        "model_svm.fit(train_df[features],train_df['diagnosis'])\n",
        "\n"
      ],
      "execution_count": null,
      "outputs": [
        {
          "output_type": "execute_result",
          "data": {
            "text/plain": [
              "GridSearchCV(cv=2, estimator=SVC(),\n",
              "             param_grid={'C': [1, 10, 100], 'gamma': [1, 0.01, 0.0001],\n",
              "                         'kernel': ['linear', 'rbf', 'sigmoid', 'poly']})"
            ]
          },
          "metadata": {},
          "execution_count": 23
        }
      ]
    },
    {
      "cell_type": "code",
      "metadata": {
        "colab": {
          "base_uri": "https://localhost:8080/"
        },
        "id": "niLoYy5p2Lsq",
        "outputId": "1496e5dc-98d2-4857-8fd6-4fa31cbd0283"
      },
      "source": [
        "examinebestmodel(model_svm)"
      ],
      "execution_count": null,
      "outputs": [
        {
          "output_type": "stream",
          "name": "stdout",
          "text": [
            "0.9741784037558685\n",
            "{'C': 1, 'gamma': 1, 'kernel': 'linear'}\n",
            "SVC(C=1, gamma=1, kernel='linear')\n"
          ]
        }
      ]
    },
    {
      "cell_type": "code",
      "metadata": {
        "colab": {
          "base_uri": "https://localhost:8080/"
        },
        "id": "SHTQz4rQ2W9c",
        "outputId": "74d31ca4-db26-40bd-c87b-a22fea5d34c5"
      },
      "source": [
        "#predicting on test set\n",
        "test_prediction_svm=model_svm.best_estimator_.predict(test_df[features])\n",
        "getresults(test_df['diagnosis'],test_prediction_svm)"
      ],
      "execution_count": null,
      "outputs": [
        {
          "output_type": "execute_result",
          "data": {
            "text/plain": [
              "('Precision:',\n",
              " 0.9615384615384616,\n",
              " 'Recall: ',\n",
              " 0.9803921568627451,\n",
              " 'Accuracy:',\n",
              " 0.9790209790209791,\n",
              " 'F1:',\n",
              " 0.970873786407767)"
            ]
          },
          "metadata": {},
          "execution_count": 25
        }
      ]
    },
    {
      "cell_type": "code",
      "metadata": {
        "colab": {
          "base_uri": "https://localhost:8080/",
          "height": 335
        },
        "id": "bSB9LzWR2guj",
        "outputId": "28bf0636-3940-49e4-981f-5e1c6694caaa"
      },
      "source": [
        "#confusion matrix for svm\n",
        "plot_confusion_matrix(model_svm.best_estimator_,test_df[features],test_df['diagnosis'],cmap='inferno',values_format='g')\n",
        "plt.show()"
      ],
      "execution_count": null,
      "outputs": [
        {
          "output_type": "stream",
          "name": "stderr",
          "text": [
            "/usr/local/lib/python3.7/dist-packages/sklearn/utils/deprecation.py:87: FutureWarning: Function plot_confusion_matrix is deprecated; Function `plot_confusion_matrix` is deprecated in 1.0 and will be removed in 1.2. Use one of the class methods: ConfusionMatrixDisplay.from_predictions or ConfusionMatrixDisplay.from_estimator.\n",
            "  warnings.warn(msg, category=FutureWarning)\n"
          ]
        },
        {
          "output_type": "display_data",
          "data": {
            "image/png": "[encoded data removed]",
            "text/plain": [
              "<Figure size 432x288 with 2 Axes>"
            ]
          },
          "metadata": {
            "needs_background": "light"
          }
        }
      ]
    },
    {
      "cell_type": "code",
      "metadata": {
        "id": "9OVtZybo2mPu"
      },
      "source": [
        ""
      ],
      "execution_count": null,
      "outputs": []
    }
  ]
}